{
 "cells": [
  {
   "cell_type": "code",
   "execution_count": 1,
   "id": "fad01976",
   "metadata": {},
   "outputs": [],
   "source": [
    "import csv\n",
    "import cv2\n",
    "import pytesseract \n",
    "from pytesseract import image_to_string\n",
    "import pandas as pd\n",
    "import re\n",
    "import os\n",
    "import numpy as np\n",
    "from moviepy.video.io.VideoFileClip import VideoFileClip\n",
    "from matplotlib import pyplot as plt\n",
    "import matplotlib.pyplot as plt\n",
    "pytesseract.pytesseract.tesseract_cmd = r'C:\\ProgramData\\anaconda3\\Library\\bin\\tesseract.exe'\n",
    "%run london_olympic_data_helper.ipynb"
   ]
  },
  {
   "cell_type": "code",
   "execution_count": 2,
   "id": "e9cf2aa3",
   "metadata": {},
   "outputs": [],
   "source": [
    "def save_data(row,fileName):\n",
    "        # Check if the CSV file exists\n",
    "    if not os.path.isfile(fileName+\".csv\"):\n",
    "        # Create a new CSV file with headers if it doesn't exist\n",
    "        df = pd.DataFrame(columns=['Sno','Match name','Name','Country','Difficulty','Dive Position','Somersaults', 'Dive Group', 'Twists','Score','Final Score'])\n",
    "    else:\n",
    "        # Read the existing CSV file into a DataFrame\n",
    "        df = pd.read_csv(fileName+\".csv\")\n",
    "    \n",
    "    \n",
    "    df = df.append(row, ignore_index=True)\n",
    "    # Save the updated DataFrame to the CSV file\n",
    "    df.to_csv(fileName+'.csv', index=False)\n",
    "\n",
    "    "
   ]
  },
  {
   "cell_type": "code",
   "execution_count": 3,
   "id": "4f1b5c6c",
   "metadata": {},
   "outputs": [],
   "source": [
    "def correct_score(score):\n",
    "    pattern = r'(\\d+) (\\d+(\\.\\d+)?)?'\n",
    "\n",
    "    match = re.search(pattern,score)\n",
    "\n",
    "    if match:\n",
    "        num2 = match.group(2)\n",
    "        return num2\n",
    "    else:\n",
    "        return score"
   ]
  },
  {
   "cell_type": "code",
   "execution_count": 4,
   "id": "b4b19fd2",
   "metadata": {},
   "outputs": [],
   "source": [
    "def extract_from_video(filePath,videoName,template,templateRes):\n",
    "        # Open the video using OpenCV\n",
    "    \n",
    "    desired_width = 1631\n",
    "    desired_height = 907\n",
    "    cap = cv2.VideoCapture(filePath)\n",
    "    #,apiPreference=cv2.CAP_ANY,params=[\n",
    "    #cv2.CAP_PROP_FRAME_WIDTH,desired_width ,\n",
    "    #cv2.CAP_PROP_FRAME_HEIGHT, desired_height])\n",
    "    \n",
    "    #cap.set(cv2.CAP_PROP_FRAME_WIDTH, desired_width)\n",
    "    #cap.set(cv2.CAP_PROP_FRAME_HEIGHT, desired_height)\n",
    "    fps=cap.get(cv2.CAP_PROP_FPS)\n",
    "    print(fps)\n",
    "    minToSkip=4\n",
    "    framesToSkip=fps*60*minToSkip\n",
    "    framesToSkipEverySec=fps-1\n",
    "    currentFrame=0\n",
    "    currentFrameInSec=0\n",
    "    diveStarted=False\n",
    "    sno=1\n",
    "    row=[]\n",
    "\n",
    "    # Initialize a list to store the scores\n",
    "\n",
    "    print(\"start\")\n",
    "\n",
    "    oldText=\"old\"\n",
    "    # Process each frame of the video\n",
    "    while True:\n",
    "        # Read the next frame\n",
    "        ret, frame = cap.read()\n",
    "        currentFrame+=1\n",
    "        currentFrameInSec+=1\n",
    "        if currentFrame<framesToSkip :\n",
    "            if currentFrame%(fps*60)==0:\n",
    "                print(currentFrame//(fps*60) ,\" min(s) Skipped\")\n",
    "            continue\n",
    "        if currentFrame//(fps*60)<minToSkip:\n",
    "            continue\n",
    "        if currentFrameInSec<framesToSkipEverySec:\n",
    "            continue\n",
    "\n",
    "\n",
    "\n",
    "        # Break the loop if the video has ended\n",
    "        if not ret:\n",
    "            print(\"completed\")\n",
    "            break\n",
    "\n",
    "        current_pos = cap.get(cv2.CAP_PROP_POS_MSEC)\n",
    "        total_seconds = int(current_pos // 1000)\n",
    "        minutes = total_seconds // 60\n",
    "        seconds = total_seconds % 60\n",
    "        timeInVideo =f\"{minutes} minutes and {seconds} seconds\"\n",
    "        # Convert the frame to grayscale\n",
    "        gray = cv2.cvtColor(frame, cv2.COLOR_BGR2GRAY)\n",
    "\n",
    "        # Use OCR to extract the text from the frame\n",
    "        text = image_to_string(gray,lang=\"eng\")   \n",
    "\n",
    "        words = text.lower().split()  # split the text into a list of words\n",
    "        filtered_words = [word for word in words if (word != 'olympic' and word != 'olympic' and word!='2012' and word!='201' and word!='london' and word!='london2012' and word!=\"lon\" and word!=\"londo\") ]  # use list comprehension to remove the word \"hello\"\n",
    "        text = ' '.join(filtered_words)  # join the remaining words back into a string\n",
    "        #if(text!=None):\n",
    "        #    print(text)\n",
    "        name=\"\"\n",
    "        round=\"\"\n",
    "        country=\"\"\n",
    "        difficulty=\"\"\n",
    "        divePosition=\"\"\n",
    "        somersaults=\"\"\n",
    "        diveGroup=\"\"\n",
    "        twists=\"\"\n",
    "    \n",
    "        \n",
    "        if not diveStarted and \"difficulty\" in text.lower() and \"penalty\" not in text.lower() and \"position\" in text.lower():\n",
    "            diveStarted=True\n",
    "            cropped=extract_frame(frame,template)\n",
    "            plt.imshow(cv2.cvtColor(cropped, cv2.COLOR_BGR2RGB))\n",
    "            round,country,name,difficulty,divePosition,somersaults,diveGroup,twists = extract_diveinfo(cropped)\n",
    "            row = {'Sno':sno,'Match name':videoName,\"Time\":total_seconds,'Name':name.strip(),'Country':country.strip(),'Difficulty':difficulty,'Dive Position':divePosition,'Somersaults':somersaults,\n",
    "        'Dive Group':diveGroup,\n",
    "        'Twists':twists }\n",
    "            print(timeInVideo,\" dive started\")\n",
    "      \n",
    "        if diveStarted and( (\"difficulty\" in text.lower() and \"penalty\" in text.lower()) | (\"penalty\" in text.lower()) ):\n",
    "            print(timeInVideo,\" dive scores announced\")\n",
    "            cropped=extract_frame(frame,templateRes)\n",
    "            plt.imshow(cv2.cvtColor(cropped, cv2.COLOR_BGR2RGB))\n",
    "            croppedText=extract_text(cropped)\n",
    "            score=get_score(cropped)\n",
    "            finalScore=get_final_score(cropped,text).strip()\n",
    "            finalScore=correct_score(finalScore)\n",
    "            #print(finalScore,score)\n",
    "            row['Score'] = score\n",
    "            row['Final Score'] = finalScore\n",
    "            extract_clip(filePath,'ExtractedVideos/'+str(sno)+'_'+videoName+'.mp4',int(row['Time']),int(total_seconds))\n",
    "            diveStarted=False\n",
    "            sno+=1\n",
    "            #print(text)\n",
    "            print(row)\n",
    "            save_data(row,\"scores\")\n",
    "\n",
    "        \n",
    "\n",
    "        currentFrameInSec=0    \n",
    "    cap.release()"
   ]
  },
  {
   "cell_type": "code",
   "execution_count": null,
   "id": "d820dc6c",
   "metadata": {},
   "outputs": [
    {
     "name": "stdout",
     "output_type": "stream",
     "text": [
      "25.0\n",
      "start\n",
      "1.0  min(s) Skipped\n",
      "2.0  min(s) Skipped\n",
      "3.0  min(s) Skipped\n",
      "4 minutes and 52 seconds  dive started\n",
      "5 minutes and 20 seconds  dive scores announced\n",
      "DownloadedVideos/Men_10m_Prel_London2012.mp4\n",
      "ExtractedVideos/1_Men_10m_Prel_London2012.mp4\n",
      "292\n",
      "320\n",
      "Moviepy - Building video ExtractedVideos/1_Men_10m_Prel_London2012.mp4.\n",
      "Moviepy - Writing video ExtractedVideos/1_Men_10m_Prel_London2012.mp4\n",
      "\n"
     ]
    },
    {
     "name": "stderr",
     "output_type": "stream",
     "text": [
      "                                                              \r"
     ]
    },
    {
     "name": "stdout",
     "output_type": "stream",
     "text": [
      "Moviepy - Done !\n",
      "Moviepy - video ready ExtractedVideos/1_Men_10m_Prel_London2012.mp4\n",
      "{'Sno': 1, 'Match name': 'Men_10m_Prel_London2012', 'Time': 292, 'Name': 'GLEB GALPERIN', 'Country': 'RUS', 'Difficulty': '', 'Dive Position': 'TUCK', 'Somersaults': '372', 'Dive Group': 'INWARD', 'Twists': None, 'Score': ([9.5, 9.0, 8.5, 9.0, 858.0, 8.5, 8.5], '0'), 'Final Score': ''}\n",
      "5 minutes and 42 seconds  dive started\n",
      "6 minutes and 20 seconds  dive scores announced\n",
      "DownloadedVideos/Men_10m_Prel_London2012.mp4\n",
      "ExtractedVideos/2_Men_10m_Prel_London2012.mp4\n",
      "342\n",
      "380\n",
      "Moviepy - Building video ExtractedVideos/2_Men_10m_Prel_London2012.mp4.\n",
      "Moviepy - Writing video ExtractedVideos/2_Men_10m_Prel_London2012.mp4\n",
      "\n"
     ]
    },
    {
     "name": "stderr",
     "output_type": "stream",
     "text": [
      "                                                              \r"
     ]
    },
    {
     "name": "stdout",
     "output_type": "stream",
     "text": [
      "Moviepy - Done !\n",
      "Moviepy - video ready ExtractedVideos/2_Men_10m_Prel_London2012.mp4\n",
      "{'Sno': 2, 'Match name': 'Men_10m_Prel_London2012', 'Time': 342, 'Name': 'LIN YUE', 'Country': 'CHN', 'Difficulty': '3.2', 'Dive Position': 'TUCK', 'Somersaults': '3', 'Dive Group': 'INWARD', 'Twists': None, 'Score': ([8.0, 8.5, 9.0, 8.0, 9.0], '0'), 'Final Score': '86.40'}\n",
      "7 minutes and 29 seconds  dive started\n",
      "8 minutes and 8 seconds  dive scores announced\n",
      "DownloadedVideos/Men_10m_Prel_London2012.mp4\n",
      "ExtractedVideos/3_Men_10m_Prel_London2012.mp4\n",
      "449\n",
      "488\n",
      "Moviepy - Building video ExtractedVideos/3_Men_10m_Prel_London2012.mp4.\n",
      "Moviepy - Writing video ExtractedVideos/3_Men_10m_Prel_London2012.mp4\n",
      "\n"
     ]
    },
    {
     "name": "stderr",
     "output_type": "stream",
     "text": [
      "                                                              \r"
     ]
    },
    {
     "name": "stdout",
     "output_type": "stream",
     "text": [
      "Moviepy - Done !\n",
      "Moviepy - video ready ExtractedVideos/3_Men_10m_Prel_London2012.mp4\n",
      "{'Sno': 3, 'Match name': 'Men_10m_Prel_London2012', 'Time': 449, 'Name': 'ANTON ZAKHAROV', 'Country': 'UKR', 'Difficulty': '3.2', 'Dive Position': 'TUCK', 'Somersaults': '3', 'Dive Group': 'INWARD', 'Twists': None, 'Score': ([8.0, 7.0, 7.5, 7.5, 8.0, 7.5, 8.0], '0'), 'Final Score': ''}\n",
      "9 minutes and 13 seconds  dive started\n",
      "10 minutes and 0 seconds  dive scores announced\n",
      "DownloadedVideos/Men_10m_Prel_London2012.mp4\n",
      "ExtractedVideos/4_Men_10m_Prel_London2012.mp4\n",
      "553\n",
      "600\n",
      "Moviepy - Building video ExtractedVideos/4_Men_10m_Prel_London2012.mp4.\n",
      "Moviepy - Writing video ExtractedVideos/4_Men_10m_Prel_London2012.mp4\n",
      "\n"
     ]
    },
    {
     "name": "stderr",
     "output_type": "stream",
     "text": [
      "                                                                \r"
     ]
    },
    {
     "name": "stdout",
     "output_type": "stream",
     "text": [
      "Moviepy - Done !\n",
      "Moviepy - video ready ExtractedVideos/4_Men_10m_Prel_London2012.mp4\n",
      "{'Sno': 4, 'Match name': 'Men_10m_Prel_London2012', 'Time': 553, 'Name': 'RIHYUN JU', 'Country': 'PRK', 'Difficulty': '3.0', 'Dive Position': 'PIKE', 'Somersaults': '3', 'Dive Group': 'FORWARD', 'Twists': None, 'Score': ([8.0, 8.5, 8.0, 8.5, 7.5, 8.5, 8.0], '0'), 'Final Score': '73'}\n",
      "10 minutes and 6 seconds  dive started\n",
      "10 minutes and 47 seconds  dive scores announced\n",
      "DownloadedVideos/Men_10m_Prel_London2012.mp4\n",
      "ExtractedVideos/5_Men_10m_Prel_London2012.mp4\n",
      "606\n",
      "647\n",
      "Moviepy - Building video ExtractedVideos/5_Men_10m_Prel_London2012.mp4.\n",
      "Moviepy - Writing video ExtractedVideos/5_Men_10m_Prel_London2012.mp4\n",
      "\n"
     ]
    },
    {
     "name": "stderr",
     "output_type": "stream",
     "text": [
      "                                                                \r"
     ]
    },
    {
     "name": "stdout",
     "output_type": "stream",
     "text": [
      "Moviepy - Done !\n",
      "Moviepy - video ready ExtractedVideos/5_Men_10m_Prel_London2012.mp4\n",
      "{'Sno': 5, 'Match name': 'Men_10m_Prel_London2012', 'Time': 606, 'Name': 'JAMES CONNOR', 'Country': 'AUS', 'Difficulty': '3.0', 'Dive Position': '', 'Somersaults': '3', 'Dive Group': 'FORWARD', 'Twists': None, 'Score': ([7.8, 7.5, 7.0, 6.5, 8.5, 8.0, 7.5], '0'), 'Final Score': '66'}\n",
      "11 minutes and 13 seconds  dive started\n",
      "11 minutes and 52 seconds  dive scores announced\n",
      "DownloadedVideos/Men_10m_Prel_London2012.mp4\n",
      "ExtractedVideos/6_Men_10m_Prel_London2012.mp4\n",
      "673\n",
      "712\n",
      "Moviepy - Building video ExtractedVideos/6_Men_10m_Prel_London2012.mp4.\n",
      "Moviepy - Writing video ExtractedVideos/6_Men_10m_Prel_London2012.mp4\n",
      "\n"
     ]
    },
    {
     "name": "stderr",
     "output_type": "stream",
     "text": [
      "                                                              \r"
     ]
    },
    {
     "name": "stdout",
     "output_type": "stream",
     "text": [
      "Moviepy - Done !\n",
      "Moviepy - video ready ExtractedVideos/6_Men_10m_Prel_London2012.mp4\n",
      "{'Sno': 6, 'Match name': 'Men_10m_Prel_London2012', 'Time': 673, 'Name': 'MARTIN WOLFRAM', 'Country': 'GER', 'Difficulty': '3.6', 'Dive Position': 'FREE', 'Somersaults': '3.6', 'Dive Group': 'ARMSTAND', 'Twists': 2.5, 'Score': ([7.0, 7.0, 7.0, 8.0, 7.0], '0'), 'Final Score': '77'}\n",
      "13 minutes and 49 seconds  dive started\n",
      "14 minutes and 27 seconds  dive scores announced\n",
      "DownloadedVideos/Men_10m_Prel_London2012.mp4\n",
      "ExtractedVideos/7_Men_10m_Prel_London2012.mp4\n",
      "829\n",
      "867\n",
      "Moviepy - Building video ExtractedVideos/7_Men_10m_Prel_London2012.mp4.\n",
      "Moviepy - Writing video ExtractedVideos/7_Men_10m_Prel_London2012.mp4\n",
      "\n"
     ]
    },
    {
     "name": "stderr",
     "output_type": "stream",
     "text": [
      "                                                               \r"
     ]
    },
    {
     "name": "stdout",
     "output_type": "stream",
     "text": [
      "Moviepy - Done !\n",
      "Moviepy - video ready ExtractedVideos/7_Men_10m_Prel_London2012.mp4\n",
      "{'Sno': 7, 'Match name': 'Men_10m_Prel_London2012', 'Time': 829, 'Name': '', 'Country': '', 'Difficulty': '3.0', 'Dive Position': 'PIKE', 'Somersaults': '3', 'Dive Group': 'FORWARD', 'Twists': None, 'Score': ([7.5, 8.5, 8.0, 8.0, 7.58, 8.0, 8.0], '0'), 'Final Score': '72'}\n",
      "14 minutes and 39 seconds  dive started\n",
      "15 minutes and 27 seconds  dive scores announced\n",
      "DownloadedVideos/Men_10m_Prel_London2012.mp4\n",
      "ExtractedVideos/8_Men_10m_Prel_London2012.mp4\n",
      "879\n",
      "927\n",
      "Moviepy - Building video ExtractedVideos/8_Men_10m_Prel_London2012.mp4.\n",
      "Moviepy - Writing video ExtractedVideos/8_Men_10m_Prel_London2012.mp4\n",
      "\n"
     ]
    },
    {
     "name": "stderr",
     "output_type": "stream",
     "text": [
      "                                                                \r"
     ]
    },
    {
     "name": "stdout",
     "output_type": "stream",
     "text": [
      "Moviepy - Done !\n",
      "Moviepy - video ready ExtractedVideos/8_Men_10m_Prel_London2012.mp4\n",
      "{'Sno': 8, 'Match name': 'Men_10m_Prel_London2012', 'Time': 879, 'Name': 'ViCTOR MINIBAEV', 'Country': 'RUS', 'Difficulty': '', 'Dive Position': 'TUCK', 'Somersaults': '3', 'Dive Group': 'INWARD', 'Twists': None, 'Score': ([7.0, 7.5, 7.85, 7.0, 7.0, 7.0, 7.0], '0'), 'Final Score': ''}\n",
      "15 minutes and 49 seconds  dive started\n",
      "16 minutes and 42 seconds  dive scores announced\n",
      "DownloadedVideos/Men_10m_Prel_London2012.mp4\n",
      "ExtractedVideos/9_Men_10m_Prel_London2012.mp4\n",
      "949\n",
      "1002\n",
      "Moviepy - Building video ExtractedVideos/9_Men_10m_Prel_London2012.mp4.\n",
      "Moviepy - Writing video ExtractedVideos/9_Men_10m_Prel_London2012.mp4\n",
      "\n"
     ]
    },
    {
     "name": "stderr",
     "output_type": "stream",
     "text": [
      "                                                                \r"
     ]
    },
    {
     "name": "stdout",
     "output_type": "stream",
     "text": [
      "Moviepy - Done !\n",
      "Moviepy - video ready ExtractedVideos/9_Men_10m_Prel_London2012.mp4\n",
      "{'Sno': 9, 'Match name': 'Men_10m_Prel_London2012', 'Time': 949, 'Name': 'GERMAN SANCHEZ !', 'Country': '', 'Difficulty': '3.3', 'Dive Position': 'TUCK', 'Somersaults': '3', 'Dive Group': 'BACK', 'Twists': None, 'Score': ([8.0, 8.0, 9.0, 9.0, 9.0, 8.5, 8.0], '0'), 'Final Score': '89'}\n",
      "16 minutes and 51 seconds  dive started\n",
      "17 minutes and 27 seconds  dive scores announced\n",
      "DownloadedVideos/Men_10m_Prel_London2012.mp4\n",
      "ExtractedVideos/10_Men_10m_Prel_London2012.mp4\n",
      "1011\n",
      "1047\n",
      "Moviepy - Building video ExtractedVideos/10_Men_10m_Prel_London2012.mp4.\n",
      "Moviepy - Writing video ExtractedVideos/10_Men_10m_Prel_London2012.mp4\n",
      "\n"
     ]
    },
    {
     "name": "stderr",
     "output_type": "stream",
     "text": [
      "                                                              \r"
     ]
    },
    {
     "name": "stdout",
     "output_type": "stream",
     "text": [
      "Moviepy - Done !\n",
      "Moviepy - video ready ExtractedVideos/10_Men_10m_Prel_London2012.mp4\n",
      "{'Sno': 10, 'Match name': 'Men_10m_Prel_London2012', 'Time': 1011, 'Name': 'RILEY MCCORMICK', 'Country': 'CAN', 'Difficulty': '3.0', 'Dive Position': 'PIKE', 'Somersaults': '3', 'Dive Group': 'FORWARD', 'Twists': None, 'Score': ([8.0, 8.0, 8.0, 8.5], '0'), 'Final Score': ''}\n",
      "17 minutes and 35 seconds  dive started\n",
      "18 minutes and 18 seconds  dive scores announced\n",
      "DownloadedVideos/Men_10m_Prel_London2012.mp4\n",
      "ExtractedVideos/11_Men_10m_Prel_London2012.mp4\n",
      "1055\n",
      "1098\n",
      "Moviepy - Building video ExtractedVideos/11_Men_10m_Prel_London2012.mp4.\n",
      "Moviepy - Writing video ExtractedVideos/11_Men_10m_Prel_London2012.mp4\n",
      "\n"
     ]
    },
    {
     "name": "stderr",
     "output_type": "stream",
     "text": [
      "                                                                \r"
     ]
    },
    {
     "name": "stdout",
     "output_type": "stream",
     "text": [
      "Moviepy - Done !\n",
      "Moviepy - video ready ExtractedVideos/11_Men_10m_Prel_London2012.mp4\n",
      "{'Sno': 11, 'Match name': 'Men_10m_Prel_London2012', 'Time': 1055, 'Name': 'MATTHEW MITCHAM', 'Country': 'AUS', 'Difficulty': '3.0', 'Dive Position': 'PIKE', 'Somersaults': '3', 'Dive Group': 'FORWARD', 'Twists': None, 'Score': ([8.0, 8.5, 8.5], '0'), 'Final Score': ''}\n",
      "18 minutes and 32 seconds  dive started\n",
      "18 minutes and 56 seconds  dive scores announced\n",
      "DownloadedVideos/Men_10m_Prel_London2012.mp4\n",
      "ExtractedVideos/12_Men_10m_Prel_London2012.mp4\n",
      "1112\n",
      "1136\n",
      "Moviepy - Building video ExtractedVideos/12_Men_10m_Prel_London2012.mp4.\n",
      "Moviepy - Writing video ExtractedVideos/12_Men_10m_Prel_London2012.mp4\n",
      "\n"
     ]
    },
    {
     "name": "stderr",
     "output_type": "stream",
     "text": [
      "                                                              \r"
     ]
    },
    {
     "name": "stdout",
     "output_type": "stream",
     "text": [
      "Moviepy - Done !\n",
      "Moviepy - video ready ExtractedVideos/12_Men_10m_Prel_London2012.mp4\n",
      "{'Sno': 12, 'Match name': 'Men_10m_Prel_London2012', 'Time': 1112, 'Name': 'AMUND NORDAL GIS|', 'Country': '', 'Difficulty': '3.2', 'Dive Position': 'PIKE', 'Somersaults': '2', 'Dive Group': 'BACK', 'Twists': '1', 'Score': ([8.0, 8.5, 8.5, 8.0, 85.0, 85.0, 8.5], '0'), 'Final Score': ''}\n",
      "19 minutes and 15 seconds  dive started\n",
      "19 minutes and 48 seconds  dive scores announced\n",
      "DownloadedVideos/Men_10m_Prel_London2012.mp4\n",
      "ExtractedVideos/13_Men_10m_Prel_London2012.mp4\n",
      "1155\n",
      "1188\n",
      "Moviepy - Building video ExtractedVideos/13_Men_10m_Prel_London2012.mp4.\n",
      "Moviepy - Writing video ExtractedVideos/13_Men_10m_Prel_London2012.mp4\n",
      "\n"
     ]
    },
    {
     "name": "stderr",
     "output_type": "stream",
     "text": [
      "                                                               \r"
     ]
    },
    {
     "name": "stdout",
     "output_type": "stream",
     "text": [
      "Moviepy - Done !\n",
      "Moviepy - video ready ExtractedVideos/13_Men_10m_Prel_London2012.mp4\n",
      "{'Sno': 13, 'Match name': 'Men_10m_Prel_London2012', 'Time': 1155, 'Name': \"FRANCESCO DELL'U\", 'Country': '', 'Difficulty': '2.9', 'Dive Position': 'PIKE', 'Somersaults': '2', 'Dive Group': 'FORWARD', 'Twists': '1', 'Score': ([80.0, 8.5, 8.5, 8.0, 85.0, 8.5, 8.0], '00'), 'Final Score': ''}\n",
      "20 minutes and 8 seconds  dive started\n",
      "20 minutes and 44 seconds  dive scores announced\n",
      "DownloadedVideos/Men_10m_Prel_London2012.mp4\n",
      "ExtractedVideos/14_Men_10m_Prel_London2012.mp4\n",
      "1208\n",
      "1244\n",
      "Moviepy - Building video ExtractedVideos/14_Men_10m_Prel_London2012.mp4.\n",
      "Moviepy - Writing video ExtractedVideos/14_Men_10m_Prel_London2012.mp4\n",
      "\n"
     ]
    },
    {
     "name": "stderr",
     "output_type": "stream",
     "text": [
      "                                                               \r"
     ]
    },
    {
     "name": "stdout",
     "output_type": "stream",
     "text": [
      "Moviepy - Done !\n",
      "Moviepy - video ready ExtractedVideos/14_Men_10m_Prel_London2012.mp4\n",
      "{'Sno': 14, 'Match name': 'Men_10m_Prel_London2012', 'Time': 1208, 'Name': 'CHRISTOFER ESKILS', 'Country': 'SWE', 'Difficulty': '3.2', 'Dive Position': 'PIKE', 'Somersaults': '2', 'Dive Group': 'BACK', 'Twists': 1.5, 'Score': ([7.5, 8.0, 8.0, 8.0], '0'), 'Final Score': ''}\n",
      "21 minutes and 1 seconds  dive started\n",
      "21 minutes and 43 seconds  dive scores announced\n",
      "DownloadedVideos/Men_10m_Prel_London2012.mp4\n",
      "ExtractedVideos/15_Men_10m_Prel_London2012.mp4\n",
      "1261\n",
      "1303\n",
      "Moviepy - Building video ExtractedVideos/15_Men_10m_Prel_London2012.mp4.\n",
      "Moviepy - Writing video ExtractedVideos/15_Men_10m_Prel_London2012.mp4\n",
      "\n"
     ]
    },
    {
     "name": "stderr",
     "output_type": "stream",
     "text": [
      "                                                                \r"
     ]
    },
    {
     "name": "stdout",
     "output_type": "stream",
     "text": [
      "Moviepy - Done !\n",
      "Moviepy - video ready ExtractedVideos/15_Men_10m_Prel_London2012.mp4\n",
      "{'Sno': 15, 'Match name': 'Men_10m_Prel_London2012', 'Time': 1261, 'Name': 'ERIC SEHN', 'Country': '', 'Difficulty': '3.6', 'Dive Position': 'PIKE', 'Somersaults': '2', 'Dive Group': 'BACK', 'Twists': '2', 'Score': ([86.0], '0'), 'Final Score': ''}\n",
      "22 minutes and 3 seconds  dive started\n",
      "22 minutes and 42 seconds  dive scores announced\n",
      "DownloadedVideos/Men_10m_Prel_London2012.mp4\n",
      "ExtractedVideos/16_Men_10m_Prel_London2012.mp4\n",
      "1323\n",
      "1362\n",
      "Moviepy - Building video ExtractedVideos/16_Men_10m_Prel_London2012.mp4.\n",
      "Moviepy - Writing video ExtractedVideos/16_Men_10m_Prel_London2012.mp4\n",
      "\n"
     ]
    },
    {
     "name": "stderr",
     "output_type": "stream",
     "text": [
      "                                                              \r"
     ]
    },
    {
     "name": "stdout",
     "output_type": "stream",
     "text": [
      "Moviepy - Done !\n",
      "Moviepy - video ready ExtractedVideos/16_Men_10m_Prel_London2012.mp4\n",
      "{'Sno': 16, 'Match name': 'Men_10m_Prel_London2012', 'Time': 1323, 'Name': 'BRYAN NICKSON LOM', 'Country': 'MAS', 'Difficulty': '3.2', 'Dive Position': 'FREE', 'Somersaults': '3.2', 'Dive Group': 'ARMSTAND', 'Twists': 1.5, 'Score': ([8.0, 8.5, 8.5, 8.5], '0'), 'Final Score': ''}\n",
      "22 minutes and 58 seconds  dive started\n",
      "23 minutes and 43 seconds  dive scores announced\n",
      "DownloadedVideos/Men_10m_Prel_London2012.mp4\n",
      "ExtractedVideos/17_Men_10m_Prel_London2012.mp4\n",
      "1378\n",
      "1423\n",
      "Moviepy - Building video ExtractedVideos/17_Men_10m_Prel_London2012.mp4.\n",
      "Moviepy - Writing video ExtractedVideos/17_Men_10m_Prel_London2012.mp4\n",
      "\n"
     ]
    },
    {
     "name": "stderr",
     "output_type": "stream",
     "text": [
      "                                                                \r"
     ]
    },
    {
     "name": "stdout",
     "output_type": "stream",
     "text": [
      "Moviepy - Done !\n",
      "Moviepy - video ready ExtractedVideos/17_Men_10m_Prel_London2012.mp4\n",
      "{'Sno': 17, 'Match name': 'Men_10m_Prel_London2012', 'Time': 1378, 'Name': '', 'Country': 'MEX', 'Difficulty': '3.7', 'Dive Position': 'TUCK', 'Somersaults': '4', 'Dive Group': 'FORWARD', 'Twists': None, 'Score': ([7.5, 7.5, 6.5, 7.5, 70.0, 8.0], '0'), 'Final Score': ''}\n",
      "24 minutes and 9 seconds  dive started\n",
      "24 minutes and 46 seconds  dive scores announced\n",
      "DownloadedVideos/Men_10m_Prel_London2012.mp4\n",
      "ExtractedVideos/18_Men_10m_Prel_London2012.mp4\n",
      "1449\n",
      "1486\n",
      "Moviepy - Building video ExtractedVideos/18_Men_10m_Prel_London2012.mp4.\n",
      "Moviepy - Writing video ExtractedVideos/18_Men_10m_Prel_London2012.mp4\n",
      "\n"
     ]
    },
    {
     "name": "stderr",
     "output_type": "stream",
     "text": [
      "                                                               \r"
     ]
    },
    {
     "name": "stdout",
     "output_type": "stream",
     "text": [
      "Moviepy - Done !\n",
      "Moviepy - video ready ExtractedVideos/18_Men_10m_Prel_London2012.mp4\n",
      "{'Sno': 18, 'Match name': 'Men_10m_Prel_London2012', 'Time': 1449, 'Name': 'NICHOLAS MCCROR)', 'Country': '', 'Difficulty': '', 'Dive Position': 'TUCK', 'Somersaults': '3', 'Dive Group': 'INWARD', 'Twists': None, 'Score': ([8.0, 8.0, 8.0, 8.0], '0'), 'Final Score': '76'}\n",
      "25 minutes and 58 seconds  dive started\n",
      "26 minutes and 26 seconds  dive scores announced\n",
      "DownloadedVideos/Men_10m_Prel_London2012.mp4\n",
      "ExtractedVideos/19_Men_10m_Prel_London2012.mp4\n",
      "1558\n",
      "1586\n",
      "Moviepy - Building video ExtractedVideos/19_Men_10m_Prel_London2012.mp4.\n",
      "Moviepy - Writing video ExtractedVideos/19_Men_10m_Prel_London2012.mp4\n",
      "\n"
     ]
    },
    {
     "name": "stderr",
     "output_type": "stream",
     "text": [
      "                                                              \r"
     ]
    },
    {
     "name": "stdout",
     "output_type": "stream",
     "text": [
      "Moviepy - Done !\n",
      "Moviepy - video ready ExtractedVideos/19_Men_10m_Prel_London2012.mp4\n",
      "{'Sno': 19, 'Match name': 'Men_10m_Prel_London2012', 'Time': 1558, 'Name': 'SEBASTIAN VILLA C/', 'Country': 'oL', 'Difficulty': '3.2', 'Dive Position': 'PIKE', 'Somersaults': '2', 'Dive Group': 'BACK', 'Twists': 1.5, 'Score': ([8.0, 8.0, 8.0, 8.5, 85.0, 8.0, 8.5], '0'), 'Final Score': ''}\n",
      "26 minutes and 48 seconds  dive started\n",
      "27 minutes and 33 seconds  dive scores announced\n",
      "DownloadedVideos/Men_10m_Prel_London2012.mp4\n",
      "ExtractedVideos/20_Men_10m_Prel_London2012.mp4\n",
      "1608\n",
      "1653\n",
      "Moviepy - Building video ExtractedVideos/20_Men_10m_Prel_London2012.mp4.\n",
      "Moviepy - Writing video ExtractedVideos/20_Men_10m_Prel_London2012.mp4\n",
      "\n"
     ]
    },
    {
     "name": "stderr",
     "output_type": "stream",
     "text": [
      "                                                                \r"
     ]
    },
    {
     "name": "stdout",
     "output_type": "stream",
     "text": [
      "Moviepy - Done !\n",
      "Moviepy - video ready ExtractedVideos/20_Men_10m_Prel_London2012.mp4\n",
      "{'Sno': 20, 'Match name': 'Men_10m_Prel_London2012', 'Time': 1608, 'Name': 'DAvID BOUDIA', 'Country': 'USA', 'Difficulty': '', 'Dive Position': 'FREE', 'Somersaults': '3.6', 'Dive Group': 'ARMSTAND', 'Twists': 2.5, 'Score': ([7.5, 8.0, 7.5, 8.0, 7.5, 7.8, 7.5], '0'), 'Final Score': '81.00'}\n",
      "27 minutes and 49 seconds  dive started\n",
      "28 minutes and 28 seconds  dive scores announced\n",
      "DownloadedVideos/Men_10m_Prel_London2012.mp4\n",
      "ExtractedVideos/21_Men_10m_Prel_London2012.mp4\n",
      "1669\n",
      "1708\n",
      "Moviepy - Building video ExtractedVideos/21_Men_10m_Prel_London2012.mp4.\n",
      "Moviepy - Writing video ExtractedVideos/21_Men_10m_Prel_London2012.mp4\n",
      "\n"
     ]
    },
    {
     "name": "stderr",
     "output_type": "stream",
     "text": [
      "                                                              \r"
     ]
    },
    {
     "name": "stdout",
     "output_type": "stream",
     "text": [
      "Moviepy - Done !\n",
      "Moviepy - video ready ExtractedVideos/21_Men_10m_Prel_London2012.mp4\n",
      "{'Sno': 21, 'Match name': 'Men_10m_Prel_London2012', 'Time': 1669, 'Name': 'QIU Bo', 'Country': '', 'Difficulty': '3.2', 'Dive Position': 'TUCK', 'Somersaults': '3', 'Dive Group': 'INWARD', 'Twists': None, 'Score': ([8.5, 9.0, 8.5, 8.5, 9.0], '0'), 'Final Score': '86'}\n",
      "28 minutes and 46 seconds  dive started\n",
      "29 minutes and 16 seconds  dive scores announced\n",
      "DownloadedVideos/Men_10m_Prel_London2012.mp4\n",
      "ExtractedVideos/22_Men_10m_Prel_London2012.mp4\n",
      "1726\n",
      "1756\n",
      "Moviepy - Building video ExtractedVideos/22_Men_10m_Prel_London2012.mp4.\n",
      "Moviepy - Writing video ExtractedVideos/22_Men_10m_Prel_London2012.mp4\n",
      "\n"
     ]
    },
    {
     "name": "stderr",
     "output_type": "stream",
     "text": [
      "                                                              \r"
     ]
    },
    {
     "name": "stdout",
     "output_type": "stream",
     "text": [
      "Moviepy - Done !\n",
      "Moviepy - video ready ExtractedVideos/22_Men_10m_Prel_London2012.mp4\n",
      "{'Sno': 22, 'Match name': 'Men_10m_Prel_London2012', 'Time': 1726, 'Name': 'SASCHA KLEIN', 'Country': 'GER', 'Difficulty': '3.2', 'Dive Position': 'TUCK', 'Somersaults': '3', 'Dive Group': 'INWARD', 'Twists': None, 'Score': ([8.5, 8.0, 8.5, 8.5, 8.0, 8.0, 8.5], '0'), 'Final Score': ''}\n",
      "29 minutes and 26 seconds  dive started\n",
      "29 minutes and 59 seconds  dive scores announced\n",
      "DownloadedVideos/Men_10m_Prel_London2012.mp4\n",
      "ExtractedVideos/23_Men_10m_Prel_London2012.mp4\n",
      "1766\n",
      "1799\n",
      "Moviepy - Building video ExtractedVideos/23_Men_10m_Prel_London2012.mp4.\n",
      "Moviepy - Writing video ExtractedVideos/23_Men_10m_Prel_London2012.mp4\n",
      "\n"
     ]
    },
    {
     "name": "stderr",
     "output_type": "stream",
     "text": [
      "                                                              \r"
     ]
    },
    {
     "name": "stdout",
     "output_type": "stream",
     "text": [
      "Moviepy - Done !\n",
      "Moviepy - video ready ExtractedVideos/23_Men_10m_Prel_London2012.mp4\n",
      "{'Sno': 23, 'Match name': 'Men_10m_Prel_London2012', 'Time': 1766, 'Name': 'VADIM KAPTUR', 'Country': 'BLR', 'Difficulty': '3.0', 'Dive Position': 'PIKE', 'Somersaults': '3', 'Dive Group': 'FORWARD', 'Twists': None, 'Score': ([8.0, 8.0, 8.5, 8.0, 8.0, 8.5, 8.0], '0'), 'Final Score': ''}\n",
      "30 minutes and 33 seconds  dive started\n",
      "31 minutes and 15 seconds  dive scores announced\n",
      "DownloadedVideos/Men_10m_Prel_London2012.mp4\n",
      "ExtractedVideos/24_Men_10m_Prel_London2012.mp4\n",
      "1833\n",
      "1875\n",
      "Moviepy - Building video ExtractedVideos/24_Men_10m_Prel_London2012.mp4.\n",
      "Moviepy - Writing video ExtractedVideos/24_Men_10m_Prel_London2012.mp4\n",
      "\n"
     ]
    },
    {
     "name": "stderr",
     "output_type": "stream",
     "text": [
      "                                                                \r"
     ]
    },
    {
     "name": "stdout",
     "output_type": "stream",
     "text": [
      "Moviepy - Done !\n",
      "Moviepy - video ready ExtractedVideos/24_Men_10m_Prel_London2012.mp4\n",
      "{'Sno': 24, 'Match name': 'Men_10m_Prel_London2012', 'Time': 1833, 'Name': 'THomAS DALEY', 'Country': '', 'Difficulty': '3.6', 'Dive Position': 'PIKE', 'Somersaults': '27', 'Dive Group': 'BACK', 'Twists': 2.5, 'Score': ([7.0, 7.0, 6.0, 6.5, 55.0], '0'), 'Final Score': '73.80'}\n",
      "31 minutes and 31 seconds  dive started\n",
      "32 minutes and 5 seconds  dive scores announced\n",
      "DownloadedVideos/Men_10m_Prel_London2012.mp4\n",
      "ExtractedVideos/25_Men_10m_Prel_London2012.mp4\n",
      "1891\n",
      "1925\n",
      "Moviepy - Building video ExtractedVideos/25_Men_10m_Prel_London2012.mp4.\n",
      "Moviepy - Writing video ExtractedVideos/25_Men_10m_Prel_London2012.mp4\n",
      "\n"
     ]
    },
    {
     "name": "stderr",
     "output_type": "stream",
     "text": [
      "                                                               \r"
     ]
    },
    {
     "name": "stdout",
     "output_type": "stream",
     "text": [
      "Moviepy - Done !\n",
      "Moviepy - video ready ExtractedVideos/25_Men_10m_Prel_London2012.mp4\n",
      "{'Sno': 25, 'Match name': 'Men_10m_Prel_London2012', 'Time': 1891, 'Name': '', 'Country': '', 'Difficulty': '', 'Dive Position': '', 'Somersaults': None, 'Dive Group': '', 'Twists': None, 'Score': ([45.0, 6.0, 5.5, 8.0, 8.0, 5.0, 8.5], '0'), 'Final Score': ''}\n",
      "33 minutes and 17 seconds  dive started\n",
      "33 minutes and 55 seconds  dive scores announced\n",
      "DownloadedVideos/Men_10m_Prel_London2012.mp4\n",
      "ExtractedVideos/26_Men_10m_Prel_London2012.mp4\n",
      "1997\n",
      "2035\n",
      "Moviepy - Building video ExtractedVideos/26_Men_10m_Prel_London2012.mp4.\n",
      "Moviepy - Writing video ExtractedVideos/26_Men_10m_Prel_London2012.mp4\n",
      "\n"
     ]
    },
    {
     "name": "stderr",
     "output_type": "stream",
     "text": [
      "                                                              \r"
     ]
    },
    {
     "name": "stdout",
     "output_type": "stream",
     "text": [
      "Moviepy - Done !\n",
      "Moviepy - video ready ExtractedVideos/26_Men_10m_Prel_London2012.mp4\n",
      "{'Sno': 26, 'Match name': 'Men_10m_Prel_London2012', 'Time': 1997, 'Name': 'PETER WATERFIELD', 'Country': '', 'Difficulty': '3.3', 'Dive Position': 'TUCK', 'Somersaults': '3.3', 'Dive Group': 'ARMSTAND', 'Twists': None, 'Score': ([7.0, 8.5, 6.5, 6.0, 7.0, 6.5, 7.0], '0'), 'Final Score': '66'}\n",
      "35 minutes and 29 seconds  dive started\n",
      "36 minutes and 5 seconds  dive scores announced\n",
      "DownloadedVideos/Men_10m_Prel_London2012.mp4\n",
      "ExtractedVideos/27_Men_10m_Prel_London2012.mp4\n",
      "2129\n",
      "2165\n",
      "Moviepy - Building video ExtractedVideos/27_Men_10m_Prel_London2012.mp4.\n",
      "Moviepy - Writing video ExtractedVideos/27_Men_10m_Prel_London2012.mp4\n",
      "\n"
     ]
    },
    {
     "name": "stderr",
     "output_type": "stream",
     "text": [
      "                                                              \r"
     ]
    },
    {
     "name": "stdout",
     "output_type": "stream",
     "text": [
      "Moviepy - Done !\n",
      "Moviepy - video ready ExtractedVideos/27_Men_10m_Prel_London2012.mp4\n",
      "{'Sno': 27, 'Match name': 'Men_10m_Prel_London2012', 'Time': 2129, 'Name': 'GLEB GALPERIN', 'Country': 'RUS', 'Difficulty': '3.4', 'Dive Position': 'TUCK', 'Somersaults': '3.4', 'Dive Group': 'ARMSTAND', 'Twists': None, 'Score': ([9.0, 9.0, 9.0, 8.8, 85.0], '0'), 'Final Score': '91'}\n",
      "36 minutes and 19 seconds  dive started\n",
      "36 minutes and 56 seconds  dive scores announced\n",
      "DownloadedVideos/Men_10m_Prel_London2012.mp4\n",
      "ExtractedVideos/28_Men_10m_Prel_London2012.mp4\n",
      "2179\n",
      "2216\n",
      "Moviepy - Building video ExtractedVideos/28_Men_10m_Prel_London2012.mp4.\n",
      "Moviepy - Writing video ExtractedVideos/28_Men_10m_Prel_London2012.mp4\n",
      "\n"
     ]
    },
    {
     "name": "stderr",
     "output_type": "stream",
     "text": [
      "                                                              \r"
     ]
    },
    {
     "name": "stdout",
     "output_type": "stream",
     "text": [
      "Moviepy - Done !\n",
      "Moviepy - video ready ExtractedVideos/28_Men_10m_Prel_London2012.mp4\n",
      "{'Sno': 28, 'Match name': 'Men_10m_Prel_London2012', 'Time': 2179, 'Name': 'LIN YUE', 'Country': 'CHN', 'Difficulty': '3.3', 'Dive Position': 'TUCK', 'Somersaults': '3', 'Dive Group': 'REVERSE', 'Twists': None, 'Score': ([75.0, 8.0, 7.8, 7.5, 7.8, 7.5, 8.5], '0'), 'Final Score': '74.25'}\n",
      "37 minutes and 5 seconds  dive started\n",
      "37 minutes and 34 seconds  dive scores announced\n",
      "DownloadedVideos/Men_10m_Prel_London2012.mp4\n",
      "ExtractedVideos/29_Men_10m_Prel_London2012.mp4\n",
      "2225\n",
      "2254\n",
      "Moviepy - Building video ExtractedVideos/29_Men_10m_Prel_London2012.mp4.\n",
      "Moviepy - Writing video ExtractedVideos/29_Men_10m_Prel_London2012.mp4\n",
      "\n"
     ]
    },
    {
     "name": "stderr",
     "output_type": "stream",
     "text": [
      "                                                              \r"
     ]
    },
    {
     "name": "stdout",
     "output_type": "stream",
     "text": [
      "Moviepy - Done !\n",
      "Moviepy - video ready ExtractedVideos/29_Men_10m_Prel_London2012.mp4\n",
      "{'Sno': 29, 'Match name': 'Men_10m_Prel_London2012', 'Time': 2225, 'Name': 'VICTOR ORTEGA SEi', 'Country': 'coL', 'Difficulty': '3.0', 'Dive Position': 'PIKE', 'Somersaults': '3', 'Dive Group': 'FORWARD', 'Twists': None, 'Score': ([7.5, 7.5, 7.5, 8.0], '0'), 'Final Score': '67'}\n",
      "37 minutes and 51 seconds  dive started\n",
      "38 minutes and 29 seconds  dive scores announced\n",
      "DownloadedVideos/Men_10m_Prel_London2012.mp4\n",
      "ExtractedVideos/30_Men_10m_Prel_London2012.mp4\n",
      "2271\n",
      "2309\n",
      "Moviepy - Building video ExtractedVideos/30_Men_10m_Prel_London2012.mp4.\n",
      "Moviepy - Writing video ExtractedVideos/30_Men_10m_Prel_London2012.mp4\n",
      "\n"
     ]
    },
    {
     "name": "stderr",
     "output_type": "stream",
     "text": [
      "                                                              \r"
     ]
    },
    {
     "name": "stdout",
     "output_type": "stream",
     "text": [
      "Moviepy - Done !\n",
      "Moviepy - video ready ExtractedVideos/30_Men_10m_Prel_London2012.mp4\n",
      "{'Sno': 30, 'Match name': 'Men_10m_Prel_London2012', 'Time': 2271, 'Name': 'ANTON ZAKHAROV', 'Country': 'UKR', 'Difficulty': '3.6', 'Dive Position': 'PIKE', 'Somersaults': '3', 'Dive Group': 'BACK', 'Twists': None, 'Score': ([7.5, 8.5, 8.0, 8.0, 858.0, 8.5, 8.0], '0'), 'Final Score': ''}\n",
      "38 minutes and 43 seconds  dive started\n",
      "39 minutes and 24 seconds  dive scores announced\n",
      "DownloadedVideos/Men_10m_Prel_London2012.mp4\n",
      "ExtractedVideos/31_Men_10m_Prel_London2012.mp4\n",
      "2323\n",
      "2364\n",
      "Moviepy - Building video ExtractedVideos/31_Men_10m_Prel_London2012.mp4.\n",
      "Moviepy - Writing video ExtractedVideos/31_Men_10m_Prel_London2012.mp4\n",
      "\n"
     ]
    },
    {
     "name": "stderr",
     "output_type": "stream",
     "text": [
      "                                                                \r"
     ]
    },
    {
     "name": "stdout",
     "output_type": "stream",
     "text": [
      "Moviepy - Done !\n",
      "Moviepy - video ready ExtractedVideos/31_Men_10m_Prel_London2012.mp4\n",
      "{'Sno': 31, 'Match name': 'Men_10m_Prel_London2012', 'Time': 2323, 'Name': 'TiMOFEI HORDEICHI', 'Country': 'BLR', 'Difficulty': '3.3', 'Dive Position': '', 'Somersaults': '3.3', 'Dive Group': 'ARMSTAND', 'Twists': None, 'Score': ([4.0, 4.5, 4.0, 4.0, 4.0], '0'), 'Final Score': '39'}\n",
      "39 minutes and 47 seconds  dive started\n",
      "40 minutes and 17 seconds  dive scores announced\n",
      "DownloadedVideos/Men_10m_Prel_London2012.mp4\n",
      "ExtractedVideos/32_Men_10m_Prel_London2012.mp4\n",
      "2387\n",
      "2417\n",
      "Moviepy - Building video ExtractedVideos/32_Men_10m_Prel_London2012.mp4.\n",
      "Moviepy - Writing video ExtractedVideos/32_Men_10m_Prel_London2012.mp4\n",
      "\n"
     ]
    },
    {
     "name": "stderr",
     "output_type": "stream",
     "text": [
      "                                                              \r"
     ]
    },
    {
     "name": "stdout",
     "output_type": "stream",
     "text": [
      "Moviepy - Done !\n",
      "Moviepy - video ready ExtractedVideos/32_Men_10m_Prel_London2012.mp4\n",
      "{'Sno': 32, 'Match name': 'Men_10m_Prel_London2012', 'Time': 2387, 'Name': 'RI HYUN JU', 'Country': 'PRK', 'Difficulty': '3.2', 'Dive Position': 'TUCK', 'Somersaults': '372', 'Dive Group': 'INWARD', 'Twists': None, 'Score': ([7.5, 7.0, 7.5, 6.5, 8.0, 7.8, 7.5], '0'), 'Final Score': '72.00'}\n",
      "41 minutes and 42 seconds  dive started\n",
      "42 minutes and 18 seconds  dive scores announced\n",
      "DownloadedVideos/Men_10m_Prel_London2012.mp4\n",
      "ExtractedVideos/33_Men_10m_Prel_London2012.mp4\n",
      "2502\n",
      "2538\n",
      "Moviepy - Building video ExtractedVideos/33_Men_10m_Prel_London2012.mp4.\n",
      "Moviepy - Writing video ExtractedVideos/33_Men_10m_Prel_London2012.mp4\n",
      "\n"
     ]
    },
    {
     "name": "stderr",
     "output_type": "stream",
     "text": [
      "                                                               \r"
     ]
    },
    {
     "name": "stdout",
     "output_type": "stream",
     "text": [
      "Moviepy - Done !\n",
      "Moviepy - video ready ExtractedVideos/33_Men_10m_Prel_London2012.mp4\n",
      "{'Sno': 33, 'Match name': 'Men_10m_Prel_London2012', 'Time': 2502, 'Name': 'MARTIN WOLFRAM', 'Country': 'GER', 'Difficulty': '3.2', 'Dive Position': 'TUCK', 'Somersaults': '3', 'Dive Group': 'INWARD', 'Twists': None, 'Score': ([8.0, 7.0, 7.5, 7.5], '0'), 'Final Score': ''}\n",
      "43 minutes and 31 seconds  dive started\n",
      "44 minutes and 8 seconds  dive scores announced\n",
      "DownloadedVideos/Men_10m_Prel_London2012.mp4\n",
      "ExtractedVideos/34_Men_10m_Prel_London2012.mp4\n",
      "2611\n",
      "2648\n",
      "Moviepy - Building video ExtractedVideos/34_Men_10m_Prel_London2012.mp4.\n",
      "Moviepy - Writing video ExtractedVideos/34_Men_10m_Prel_London2012.mp4\n",
      "\n"
     ]
    },
    {
     "name": "stderr",
     "output_type": "stream",
     "text": [
      "                                                               \r"
     ]
    },
    {
     "name": "stdout",
     "output_type": "stream",
     "text": [
      "Moviepy - Done !\n",
      "Moviepy - video ready ExtractedVideos/34_Men_10m_Prel_London2012.mp4\n",
      "{'Sno': 34, 'Match name': 'Men_10m_Prel_London2012', 'Time': 2611, 'Name': 'OLEKSANDR BONDA', 'Country': 'UKR', 'Difficulty': '', 'Dive Position': 'TUCK', 'Somersaults': '4', 'Dive Group': 'FORWARD', 'Twists': None, 'Score': ([], '0'), 'Final Score': '83'}\n",
      "46 minutes and 15 seconds  dive started\n",
      "47 minutes and 0 seconds  dive scores announced\n",
      "DownloadedVideos/Men_10m_Prel_London2012.mp4\n",
      "ExtractedVideos/35_Men_10m_Prel_London2012.mp4\n",
      "2775\n",
      "2820\n",
      "Moviepy - Building video ExtractedVideos/35_Men_10m_Prel_London2012.mp4.\n",
      "Moviepy - Writing video ExtractedVideos/35_Men_10m_Prel_London2012.mp4\n",
      "\n"
     ]
    },
    {
     "name": "stderr",
     "output_type": "stream",
     "text": [
      "                                                                \r"
     ]
    },
    {
     "name": "stdout",
     "output_type": "stream",
     "text": [
      "Moviepy - Done !\n",
      "Moviepy - video ready ExtractedVideos/35_Men_10m_Prel_London2012.mp4\n",
      "{'Sno': 35, 'Match name': 'Men_10m_Prel_London2012', 'Time': 2775, 'Name': 'GERMAN SANCHEZ !', 'Country': 'MEX', 'Difficulty': '3.8', 'Dive Position': 'PIKE', 'Somersaults': '2', 'Dive Group': 'FORWARD', 'Twists': '3', 'Score': ([7.0, 7.5, 8.5], '0'), 'Final Score': ''}\n",
      "47 minutes and 15 seconds  dive started\n",
      "47 minutes and 58 seconds  dive scores announced\n",
      "DownloadedVideos/Men_10m_Prel_London2012.mp4\n",
      "ExtractedVideos/36_Men_10m_Prel_London2012.mp4\n",
      "2835\n",
      "2878\n",
      "Moviepy - Building video ExtractedVideos/36_Men_10m_Prel_London2012.mp4.\n",
      "Moviepy - Writing video ExtractedVideos/36_Men_10m_Prel_London2012.mp4\n",
      "\n"
     ]
    },
    {
     "name": "stderr",
     "output_type": "stream",
     "text": [
      "                                                                \r"
     ]
    },
    {
     "name": "stdout",
     "output_type": "stream",
     "text": [
      "Moviepy - Done !\n",
      "Moviepy - video ready ExtractedVideos/36_Men_10m_Prel_London2012.mp4\n",
      "{'Sno': 36, 'Match name': 'Men_10m_Prel_London2012', 'Time': 2835, 'Name': 'RILEY MCCORMICK', 'Country': 'CAN', 'Difficulty': '3.6', 'Dive Position': 'PIKE', 'Somersaults': '2', 'Dive Group': 'BACK', 'Twists': '27', 'Score': ([7.5, 7.0, 7.5, 7.0, 75.0, 7.0], '0'), 'Final Score': ''}\n",
      "48 minutes and 11 seconds  dive started\n",
      "48 minutes and 58 seconds  dive scores announced\n",
      "DownloadedVideos/Men_10m_Prel_London2012.mp4\n",
      "ExtractedVideos/37_Men_10m_Prel_London2012.mp4\n",
      "2891\n",
      "2938\n",
      "Moviepy - Building video ExtractedVideos/37_Men_10m_Prel_London2012.mp4.\n",
      "Moviepy - Writing video ExtractedVideos/37_Men_10m_Prel_London2012.mp4\n",
      "\n"
     ]
    },
    {
     "name": "stderr",
     "output_type": "stream",
     "text": [
      "                                                                \r"
     ]
    },
    {
     "name": "stdout",
     "output_type": "stream",
     "text": [
      "Moviepy - Done !\n",
      "Moviepy - video ready ExtractedVideos/37_Men_10m_Prel_London2012.mp4\n",
      "{'Sno': 37, 'Match name': 'Men_10m_Prel_London2012', 'Time': 2891, 'Name': 'MATTHEW MITCHAM', 'Country': 'AUS', 'Difficulty': '3.3', 'Dive Position': 'IUCK', 'Somersaults': '3', 'Dive Group': 'BACK', 'Twists': None, 'Score': ([7.0, 8.0, 8.0], '0'), 'Final Score': ''}\n",
      "50 minutes and 34 seconds  dive started\n",
      "51 minutes and 12 seconds  dive scores announced\n",
      "DownloadedVideos/Men_10m_Prel_London2012.mp4\n",
      "ExtractedVideos/38_Men_10m_Prel_London2012.mp4\n",
      "3034\n",
      "3072\n",
      "Moviepy - Building video ExtractedVideos/38_Men_10m_Prel_London2012.mp4.\n",
      "Moviepy - Writing video ExtractedVideos/38_Men_10m_Prel_London2012.mp4\n",
      "\n"
     ]
    },
    {
     "name": "stderr",
     "output_type": "stream",
     "text": [
      "                                                              \r"
     ]
    },
    {
     "name": "stdout",
     "output_type": "stream",
     "text": [
      "Moviepy - Done !\n",
      "Moviepy - video ready ExtractedVideos/38_Men_10m_Prel_London2012.mp4\n",
      "{'Sno': 38, 'Match name': 'Men_10m_Prel_London2012', 'Time': 3034, 'Name': 'CHRISTOFER ESKILS', 'Country': 'SWE', 'Difficulty': '3.2', 'Dive Position': 'TUCK', 'Somersaults': '3', 'Dive Group': 'INWARD', 'Twists': None, 'Score': ([8.0, 8.0, 8.0, 85.0, 7.5, 8.6], '0'), 'Final Score': ''}\n",
      "51 minutes and 35 seconds  dive started\n",
      "52 minutes and 13 seconds  dive scores announced\n",
      "DownloadedVideos/Men_10m_Prel_London2012.mp4\n",
      "ExtractedVideos/39_Men_10m_Prel_London2012.mp4\n",
      "3095\n",
      "3133\n",
      "Moviepy - Building video ExtractedVideos/39_Men_10m_Prel_London2012.mp4.\n",
      "Moviepy - Writing video ExtractedVideos/39_Men_10m_Prel_London2012.mp4\n",
      "\n"
     ]
    },
    {
     "name": "stderr",
     "output_type": "stream",
     "text": [
      "                                                              \r"
     ]
    },
    {
     "name": "stdout",
     "output_type": "stream",
     "text": [
      "Moviepy - Done !\n",
      "Moviepy - video ready ExtractedVideos/39_Men_10m_Prel_London2012.mp4\n",
      "{'Sno': 39, 'Match name': 'Men_10m_Prel_London2012', 'Time': 3095, 'Name': '', 'Country': 'CAN', 'Difficulty': '3.2', 'Dive Position': 'TUCK', 'Somersaults': '3', 'Dive Group': 'INWARD', 'Twists': None, 'Score': ([8.5, 6.5, 6.5, 6.0, 7.0, 6.5, 7.0], '0'), 'Final Score': ''}\n",
      "52 minutes and 22 seconds  dive started\n",
      "53 minutes and 7 seconds  dive scores announced\n",
      "DownloadedVideos/Men_10m_Prel_London2012.mp4\n",
      "ExtractedVideos/40_Men_10m_Prel_London2012.mp4\n",
      "3142\n",
      "3187\n",
      "Moviepy - Building video ExtractedVideos/40_Men_10m_Prel_London2012.mp4.\n",
      "Moviepy - Writing video ExtractedVideos/40_Men_10m_Prel_London2012.mp4\n",
      "\n"
     ]
    },
    {
     "name": "stderr",
     "output_type": "stream",
     "text": [
      "                                                                \r"
     ]
    },
    {
     "name": "stdout",
     "output_type": "stream",
     "text": [
      "Moviepy - Done !\n",
      "Moviepy - video ready ExtractedVideos/40_Men_10m_Prel_London2012.mp4\n",
      "{'Sno': 40, 'Match name': 'Men_10m_Prel_London2012', 'Time': 3142, 'Name': 'BRYAN NICKSON LOM', 'Country': 'VAS', 'Difficulty': '', 'Dive Position': 'TUCK', 'Somersaults': '47', 'Dive Group': 'FORWARD', 'Twists': None, 'Score': ([6.5, 8.5, 0.0], '0'), 'Final Score': ''}\n",
      "53 minutes and 25 seconds  dive started\n",
      "54 minutes and 1 seconds  dive scores announced\n",
      "DownloadedVideos/Men_10m_Prel_London2012.mp4\n",
      "ExtractedVideos/41_Men_10m_Prel_London2012.mp4\n",
      "3205\n",
      "3241\n",
      "Moviepy - Building video ExtractedVideos/41_Men_10m_Prel_London2012.mp4.\n",
      "Moviepy - Writing video ExtractedVideos/41_Men_10m_Prel_London2012.mp4\n",
      "\n"
     ]
    },
    {
     "name": "stderr",
     "output_type": "stream",
     "text": [
      "                                                              \r"
     ]
    },
    {
     "name": "stdout",
     "output_type": "stream",
     "text": [
      "Moviepy - Done !\n",
      "Moviepy - video ready ExtractedVideos/41_Men_10m_Prel_London2012.mp4\n",
      "{'Sno': 41, 'Match name': 'Men_10m_Prel_London2012', 'Time': 3205, 'Name': '', 'Country': 'MEX', 'Difficulty': '3.3', 'Dive Position': 'TUCK', 'Somersaults': '3', 'Dive Group': 'BACK', 'Twists': None, 'Score': ([9.0, 8.5, 8.5, 8.5, 8.0, 8.0, 8.0], '0'), 'Final Score': ''}\n",
      "54 minutes and 9 seconds  dive started\n",
      "55 minutes and 12 seconds  dive scores announced\n",
      "DownloadedVideos/Men_10m_Prel_London2012.mp4\n",
      "ExtractedVideos/42_Men_10m_Prel_London2012.mp4\n",
      "3249\n",
      "3312\n",
      "Moviepy - Building video ExtractedVideos/42_Men_10m_Prel_London2012.mp4.\n",
      "Moviepy - Writing video ExtractedVideos/42_Men_10m_Prel_London2012.mp4\n",
      "\n"
     ]
    },
    {
     "name": "stderr",
     "output_type": "stream",
     "text": [
      "                                                                \r"
     ]
    },
    {
     "name": "stdout",
     "output_type": "stream",
     "text": [
      "Moviepy - Done !\n",
      "Moviepy - video ready ExtractedVideos/42_Men_10m_Prel_London2012.mp4\n",
      "{'Sno': 42, 'Match name': 'Men_10m_Prel_London2012', 'Time': 3249, 'Name': 'NICHOLAS MCCROR)', 'Country': 'USA', 'Difficulty': '3.2', 'Dive Position': 'FREE', 'Somersaults': '3.2', 'Dive Group': 'ARMSTAND', 'Twists': 1.5, 'Score': ([8.5, 8.5, 8.5, 8.5, 8.5, 8.0, 8.5], '0'), 'Final Score': ''}\n",
      "55 minutes and 32 seconds  dive started\n",
      "56 minutes and 5 seconds  dive scores announced\n",
      "DownloadedVideos/Men_10m_Prel_London2012.mp4\n",
      "ExtractedVideos/43_Men_10m_Prel_London2012.mp4\n",
      "3332\n",
      "3365\n",
      "Moviepy - Building video ExtractedVideos/43_Men_10m_Prel_London2012.mp4.\n",
      "Moviepy - Writing video ExtractedVideos/43_Men_10m_Prel_London2012.mp4\n",
      "\n"
     ]
    },
    {
     "name": "stderr",
     "output_type": "stream",
     "text": [
      "                                                              \r"
     ]
    },
    {
     "name": "stdout",
     "output_type": "stream",
     "text": [
      "Moviepy - Done !\n",
      "Moviepy - video ready ExtractedVideos/43_Men_10m_Prel_London2012.mp4\n",
      "{'Sno': 43, 'Match name': 'Men_10m_Prel_London2012', 'Time': 3332, 'Name': '', 'Country': '', 'Difficulty': '', 'Dive Position': '', 'Somersaults': None, 'Dive Group': '', 'Twists': None, 'Score': ([2.0, 2.5, 4.5, 2.0, 2.0], '0'), 'Final Score': '21'}\n",
      "56 minutes and 29 seconds  dive started\n",
      "57 minutes and 0 seconds  dive scores announced\n",
      "DownloadedVideos/Men_10m_Prel_London2012.mp4\n",
      "ExtractedVideos/44_Men_10m_Prel_London2012.mp4\n",
      "3389\n",
      "3420\n",
      "Moviepy - Building video ExtractedVideos/44_Men_10m_Prel_London2012.mp4.\n",
      "Moviepy - Writing video ExtractedVideos/44_Men_10m_Prel_London2012.mp4\n",
      "\n"
     ]
    },
    {
     "name": "stderr",
     "output_type": "stream",
     "text": [
      "                                                              \r"
     ]
    },
    {
     "name": "stdout",
     "output_type": "stream",
     "text": [
      "Moviepy - Done !\n",
      "Moviepy - video ready ExtractedVideos/44_Men_10m_Prel_London2012.mp4\n",
      "{'Sno': 44, 'Match name': 'Men_10m_Prel_London2012', 'Time': 3389, 'Name': 'SEBASTIAN VILLA C/', 'Country': 'CoL', 'Difficulty': '3.5', 'Dive Position': 'PIKE', 'Somersaults': '3', 'Dive Group': 'INWARD', 'Twists': None, 'Score': ([8.0, 7.0, 7.0, 8.5, 7.0, 6.5, 7.0], '00'), 'Final Score': '71'}\n",
      "57 minutes and 24 seconds  dive started\n",
      "58 minutes and 7 seconds  dive scores announced\n",
      "DownloadedVideos/Men_10m_Prel_London2012.mp4\n",
      "ExtractedVideos/45_Men_10m_Prel_London2012.mp4\n",
      "3444\n",
      "3487\n",
      "Moviepy - Building video ExtractedVideos/45_Men_10m_Prel_London2012.mp4.\n",
      "Moviepy - Writing video ExtractedVideos/45_Men_10m_Prel_London2012.mp4\n",
      "\n"
     ]
    },
    {
     "name": "stderr",
     "output_type": "stream",
     "text": [
      "                                                                \r"
     ]
    },
    {
     "name": "stdout",
     "output_type": "stream",
     "text": [
      "Moviepy - Done !\n",
      "Moviepy - video ready ExtractedVideos/45_Men_10m_Prel_London2012.mp4\n",
      "{'Sno': 45, 'Match name': 'Men_10m_Prel_London2012', 'Time': 3444, 'Name': 'DAviD BOUDIA', 'Country': '', 'Difficulty': '3.2', 'Dive Position': 'TUCK', 'Somersaults': '372', 'Dive Group': 'INWARD', 'Twists': None, 'Score': ([7.5, 8.0, 8.0, 8.0, 7.5, 7.8, 7.5], '0'), 'Final Score': '73'}\n",
      "58 minutes and 15 seconds  dive started\n",
      "59 minutes and 5 seconds  dive scores announced\n",
      "DownloadedVideos/Men_10m_Prel_London2012.mp4\n",
      "ExtractedVideos/46_Men_10m_Prel_London2012.mp4\n",
      "3495\n",
      "3545\n",
      "Moviepy - Building video ExtractedVideos/46_Men_10m_Prel_London2012.mp4.\n",
      "Moviepy - Writing video ExtractedVideos/46_Men_10m_Prel_London2012.mp4\n",
      "\n"
     ]
    },
    {
     "name": "stderr",
     "output_type": "stream",
     "text": [
      "                                                                \r"
     ]
    },
    {
     "name": "stdout",
     "output_type": "stream",
     "text": [
      "Moviepy - Done !\n",
      "Moviepy - video ready ExtractedVideos/46_Men_10m_Prel_London2012.mp4\n",
      "{'Sno': 46, 'Match name': 'Men_10m_Prel_London2012', 'Time': 3495, 'Name': 'QIUBo', 'Country': 'CHN', 'Difficulty': '3.5', 'Dive Position': 'PIKE', 'Somersaults': '3.5', 'Dive Group': 'ARMSTAND', 'Twists': None, 'Score': ([8.5, 9.5, 8.0, 9.5, 8.5], '0'), 'Final Score': '99'}\n",
      "61 minutes and 10 seconds  dive started\n",
      "61 minutes and 46 seconds  dive scores announced\n",
      "DownloadedVideos/Men_10m_Prel_London2012.mp4\n",
      "ExtractedVideos/47_Men_10m_Prel_London2012.mp4\n",
      "3670\n",
      "3706\n",
      "Moviepy - Building video ExtractedVideos/47_Men_10m_Prel_London2012.mp4.\n",
      "Moviepy - Writing video ExtractedVideos/47_Men_10m_Prel_London2012.mp4\n",
      "\n"
     ]
    },
    {
     "name": "stderr",
     "output_type": "stream",
     "text": [
      "                                                              \r"
     ]
    },
    {
     "name": "stdout",
     "output_type": "stream",
     "text": [
      "Moviepy - Done !\n",
      "Moviepy - video ready ExtractedVideos/47_Men_10m_Prel_London2012.mp4\n",
      "{'Sno': 47, 'Match name': 'Men_10m_Prel_London2012', 'Time': 3670, 'Name': 'THOMAS DALEY', 'Country': 'GBR', 'Difficulty': '3.2', 'Dive Position': 'TUCK', 'Somersaults': '3', 'Dive Group': 'INWARD', 'Twists': None, 'Score': ([8.5, 8.0, 8.0, 8.0, 8.5, 8.0, 8.0], '0'), 'Final Score': '78'}\n",
      "61 minutes and 59 seconds  dive started\n",
      "62 minutes and 41 seconds  dive scores announced\n",
      "DownloadedVideos/Men_10m_Prel_London2012.mp4\n",
      "ExtractedVideos/48_Men_10m_Prel_London2012.mp4\n",
      "3719\n",
      "3761\n",
      "Moviepy - Building video ExtractedVideos/48_Men_10m_Prel_London2012.mp4.\n",
      "Moviepy - Writing video ExtractedVideos/48_Men_10m_Prel_London2012.mp4\n",
      "\n"
     ]
    },
    {
     "name": "stderr",
     "output_type": "stream",
     "text": [
      "                                                                \r"
     ]
    },
    {
     "name": "stdout",
     "output_type": "stream",
     "text": [
      "Moviepy - Done !\n",
      "Moviepy - video ready ExtractedVideos/48_Men_10m_Prel_London2012.mp4\n",
      "{'Sno': 48, 'Match name': 'Men_10m_Prel_London2012', 'Time': 3719, 'Name': 'ANDREA CHIARABIN', 'Country': '', 'Difficulty': '', 'Dive Position': 'TUCK', 'Somersaults': '3.3', 'Dive Group': 'ARMSTAND', 'Twists': None, 'Score': ([6.5, 7.0, 7.5, 6.0], '0'), 'Final Score': ''}\n",
      "64 minutes and 6 seconds  dive started\n",
      "64 minutes and 42 seconds  dive scores announced\n",
      "DownloadedVideos/Men_10m_Prel_London2012.mp4\n",
      "ExtractedVideos/49_Men_10m_Prel_London2012.mp4\n",
      "3846\n",
      "3882\n",
      "Moviepy - Building video ExtractedVideos/49_Men_10m_Prel_London2012.mp4.\n",
      "Moviepy - Writing video ExtractedVideos/49_Men_10m_Prel_London2012.mp4\n",
      "\n"
     ]
    },
    {
     "name": "stderr",
     "output_type": "stream",
     "text": [
      "                                                              \r"
     ]
    },
    {
     "name": "stdout",
     "output_type": "stream",
     "text": [
      "Moviepy - Done !\n",
      "Moviepy - video ready ExtractedVideos/49_Men_10m_Prel_London2012.mp4\n",
      "{'Sno': 49, 'Match name': 'Men_10m_Prel_London2012', 'Time': 3846, 'Name': '\" PETER WATERFIELD', 'Country': 'GBR', 'Difficulty': '3.2', 'Dive Position': 'TUCK', 'Somersaults': '3', 'Dive Group': 'INWARD', 'Twists': None, 'Score': ([4.0, 4.0, 4.0, 4.0, 4.5, 4.5, 45.0], '0'), 'Final Score': ''}\n",
      "65 minutes and 54 seconds  dive started\n",
      "66 minutes and 23 seconds  dive scores announced\n",
      "DownloadedVideos/Men_10m_Prel_London2012.mp4\n",
      "ExtractedVideos/50_Men_10m_Prel_London2012.mp4\n",
      "3954\n",
      "3983\n",
      "Moviepy - Building video ExtractedVideos/50_Men_10m_Prel_London2012.mp4.\n",
      "Moviepy - Writing video ExtractedVideos/50_Men_10m_Prel_London2012.mp4\n",
      "\n"
     ]
    },
    {
     "name": "stderr",
     "output_type": "stream",
     "text": [
      "                                                              \r"
     ]
    },
    {
     "name": "stdout",
     "output_type": "stream",
     "text": [
      "Moviepy - Done !\n",
      "Moviepy - video ready ExtractedVideos/50_Men_10m_Prel_London2012.mp4\n",
      "{'Sno': 50, 'Match name': 'Men_10m_Prel_London2012', 'Time': 3954, 'Name': 'GLEB GALPERIN', 'Country': 'RUS', 'Difficulty': '', 'Dive Position': 'PIKE', 'Somersaults': '37', 'Dive Group': 'FORWARD', 'Twists': None, 'Score': ([8.0, 8.0, 7.5], '0'), 'Final Score': '66'}\n",
      "66 minutes and 38 seconds  dive started\n",
      "67 minutes and 20 seconds  dive scores announced\n",
      "DownloadedVideos/Men_10m_Prel_London2012.mp4\n",
      "ExtractedVideos/51_Men_10m_Prel_London2012.mp4\n",
      "3998\n",
      "4040\n",
      "Moviepy - Building video ExtractedVideos/51_Men_10m_Prel_London2012.mp4.\n",
      "Moviepy - Writing video ExtractedVideos/51_Men_10m_Prel_London2012.mp4\n",
      "\n"
     ]
    },
    {
     "name": "stderr",
     "output_type": "stream",
     "text": [
      "                                                                \r"
     ]
    },
    {
     "name": "stdout",
     "output_type": "stream",
     "text": [
      "Moviepy - Done !\n",
      "Moviepy - video ready ExtractedVideos/51_Men_10m_Prel_London2012.mp4\n",
      "{'Sno': 51, 'Match name': 'Men_10m_Prel_London2012', 'Time': 3998, 'Name': 'LIN YUE', 'Country': 'CHN', 'Difficulty': '3.6', 'Dive Position': 'PIKE', 'Somersaults': '3', 'Dive Group': 'BACK', 'Twists': None, 'Score': ([8.0, 8.0, 9.0, 9.5, 9.5, 8.5], '0'), 'Final Score': '100.80'}\n",
      "67 minutes and 30 seconds  dive started\n",
      "68 minutes and 8 seconds  dive scores announced\n",
      "DownloadedVideos/Men_10m_Prel_London2012.mp4\n",
      "ExtractedVideos/52_Men_10m_Prel_London2012.mp4\n",
      "4050\n",
      "4088\n",
      "Moviepy - Building video ExtractedVideos/52_Men_10m_Prel_London2012.mp4.\n",
      "Moviepy - Writing video ExtractedVideos/52_Men_10m_Prel_London2012.mp4\n",
      "\n"
     ]
    },
    {
     "name": "stderr",
     "output_type": "stream",
     "text": [
      "                                                              \r"
     ]
    },
    {
     "name": "stdout",
     "output_type": "stream",
     "text": [
      "Moviepy - Done !\n",
      "Moviepy - video ready ExtractedVideos/52_Men_10m_Prel_London2012.mp4\n",
      "{'Sno': 52, 'Match name': 'Men_10m_Prel_London2012', 'Time': 4050, 'Name': 'VICTOR ORTEGA SEi', 'Country': 'COoL', 'Difficulty': '3.3', 'Dive Position': 'TUCK', 'Somersaults': '3.3', 'Dive Group': 'ARMSTAND', 'Twists': None, 'Score': ([76.0, 8.0, 8.0, 75.0], '0'), 'Final Score': ''}\n",
      "68 minutes and 19 seconds  dive started\n",
      "68 minutes and 57 seconds  dive scores announced\n",
      "DownloadedVideos/Men_10m_Prel_London2012.mp4\n",
      "ExtractedVideos/53_Men_10m_Prel_London2012.mp4\n",
      "4099\n",
      "4137\n",
      "Moviepy - Building video ExtractedVideos/53_Men_10m_Prel_London2012.mp4.\n",
      "Moviepy - Writing video ExtractedVideos/53_Men_10m_Prel_London2012.mp4\n",
      "\n"
     ]
    },
    {
     "name": "stderr",
     "output_type": "stream",
     "text": [
      "                                                              \r"
     ]
    },
    {
     "name": "stdout",
     "output_type": "stream",
     "text": [
      "Moviepy - Done !\n",
      "Moviepy - video ready ExtractedVideos/53_Men_10m_Prel_London2012.mp4\n",
      "{'Sno': 53, 'Match name': 'Men_10m_Prel_London2012', 'Time': 4099, 'Name': 'ANTON ZAKHAROV', 'Country': 'UKR', 'Difficulty': '', 'Dive Position': 'TUCK', 'Somersaults': '47', 'Dive Group': 'FORWARD', 'Twists': None, 'Score': ([7.5, 8.0, 8.0, 7.0, 7.0, 7.5], '0'), 'Final Score': ''}\n",
      "69 minutes and 6 seconds  dive started\n",
      "69 minutes and 36 seconds  dive scores announced\n",
      "DownloadedVideos/Men_10m_Prel_London2012.mp4\n",
      "ExtractedVideos/54_Men_10m_Prel_London2012.mp4\n",
      "4146\n",
      "4176\n",
      "Moviepy - Building video ExtractedVideos/54_Men_10m_Prel_London2012.mp4.\n",
      "Moviepy - Writing video ExtractedVideos/54_Men_10m_Prel_London2012.mp4\n",
      "\n"
     ]
    },
    {
     "name": "stderr",
     "output_type": "stream",
     "text": [
      "                                                              \r"
     ]
    },
    {
     "name": "stdout",
     "output_type": "stream",
     "text": [
      "Moviepy - Done !\n",
      "Moviepy - video ready ExtractedVideos/54_Men_10m_Prel_London2012.mp4\n",
      "{'Sno': 54, 'Match name': 'Men_10m_Prel_London2012', 'Time': 4146, 'Name': 'TIMOFEI HORDEICHI,', 'Country': 'BLR', 'Difficulty': '3.0', 'Dive Position': 'PIKE', 'Somersaults': '3', 'Dive Group': 'FORWARD', 'Twists': None, 'Score': ([6.0, 6.0, 6.0, 8.0, 50.0, 5.5, 6.5], '0'), 'Final Score': ''}\n",
      "70 minutes and 2 seconds  dive started\n",
      "70 minutes and 51 seconds  dive scores announced\n",
      "DownloadedVideos/Men_10m_Prel_London2012.mp4\n",
      "ExtractedVideos/55_Men_10m_Prel_London2012.mp4\n",
      "4202\n",
      "4251\n",
      "Moviepy - Building video ExtractedVideos/55_Men_10m_Prel_London2012.mp4.\n",
      "Moviepy - Writing video ExtractedVideos/55_Men_10m_Prel_London2012.mp4\n",
      "\n"
     ]
    },
    {
     "name": "stderr",
     "output_type": "stream",
     "text": [
      "                                                                \r"
     ]
    },
    {
     "name": "stdout",
     "output_type": "stream",
     "text": [
      "Moviepy - Done !\n",
      "Moviepy - video ready ExtractedVideos/55_Men_10m_Prel_London2012.mp4\n",
      "{'Sno': 55, 'Match name': 'Men_10m_Prel_London2012', 'Time': 4202, 'Name': 'RIHYUN JU', 'Country': 'PRK', 'Difficulty': '3.3', 'Dive Position': 'TUCK', 'Somersaults': '3.3', 'Dive Group': 'ARMSTAND', 'Twists': None, 'Score': ([8.0, 4.0, 8.5, 8.5, 3.5, 4.0], '2'), 'Final Score': '18.15'}\n",
      "71 minutes and 28 seconds  dive started\n",
      "72 minutes and 17 seconds  dive scores announced\n",
      "DownloadedVideos/Men_10m_Prel_London2012.mp4\n",
      "ExtractedVideos/56_Men_10m_Prel_London2012.mp4\n",
      "4288\n",
      "4337\n",
      "Moviepy - Building video ExtractedVideos/56_Men_10m_Prel_London2012.mp4.\n",
      "Moviepy - Writing video ExtractedVideos/56_Men_10m_Prel_London2012.mp4\n",
      "\n"
     ]
    },
    {
     "name": "stderr",
     "output_type": "stream",
     "text": [
      "                                                                \r"
     ]
    },
    {
     "name": "stdout",
     "output_type": "stream",
     "text": [
      "Moviepy - Done !\n",
      "Moviepy - video ready ExtractedVideos/56_Men_10m_Prel_London2012.mp4\n",
      "{'Sno': 56, 'Match name': 'Men_10m_Prel_London2012', 'Time': 4288, 'Name': 'JAMES CONNOR', 'Country': 'AUS', 'Difficulty': '3.2', 'Dive Position': 'TUCK', 'Somersaults': '3', 'Dive Group': 'INWARD', 'Twists': None, 'Score': ([7.5, 8.0, 8.0, 7.5, 8.0, 8.0, 8.5], '0'), 'Final Score': '76.80'}\n",
      "72 minutes and 29 seconds  dive started\n",
      "73 minutes and 11 seconds  dive scores announced\n",
      "DownloadedVideos/Men_10m_Prel_London2012.mp4\n",
      "ExtractedVideos/57_Men_10m_Prel_London2012.mp4\n",
      "4349\n",
      "4391\n",
      "Moviepy - Building video ExtractedVideos/57_Men_10m_Prel_London2012.mp4.\n",
      "Moviepy - Writing video ExtractedVideos/57_Men_10m_Prel_London2012.mp4\n",
      "\n"
     ]
    },
    {
     "name": "stderr",
     "output_type": "stream",
     "text": [
      "                                                                \r"
     ]
    },
    {
     "name": "stdout",
     "output_type": "stream",
     "text": [
      "Moviepy - Done !\n",
      "Moviepy - video ready ExtractedVideos/57_Men_10m_Prel_London2012.mp4\n",
      "{'Sno': 57, 'Match name': 'Men_10m_Prel_London2012', 'Time': 4349, 'Name': 'MARTIN WOLFRAM', 'Country': 'GER', 'Difficulty': '', 'Dive Position': 'TUCK', 'Somersaults': '3', 'Dive Group': 'REVERSE', 'Twists': None, 'Score': ([9.0, 9.0, 8.0, 8.5, 8.5, 8.0, 8.0], '0'), 'Final Score': ''}\n",
      "73 minutes and 30 seconds  dive started\n",
      "74 minutes and 17 seconds  dive scores announced\n",
      "DownloadedVideos/Men_10m_Prel_London2012.mp4\n",
      "ExtractedVideos/58_Men_10m_Prel_London2012.mp4\n",
      "4410\n",
      "4457\n",
      "Moviepy - Building video ExtractedVideos/58_Men_10m_Prel_London2012.mp4.\n",
      "Moviepy - Writing video ExtractedVideos/58_Men_10m_Prel_London2012.mp4\n",
      "\n"
     ]
    },
    {
     "name": "stderr",
     "output_type": "stream",
     "text": [
      "                                                                \r"
     ]
    },
    {
     "name": "stdout",
     "output_type": "stream",
     "text": [
      "Moviepy - Done !\n",
      "Moviepy - video ready ExtractedVideos/58_Men_10m_Prel_London2012.mp4\n",
      "{'Sno': 58, 'Match name': 'Men_10m_Prel_London2012', 'Time': 4410, 'Name': 'JEINKLER AGUIRRE', 'Country': 'CUB', 'Difficulty': '3.6', 'Dive Position': 'PIKE', 'Somersaults': '3', 'Dive Group': 'BACK', 'Twists': None, 'Score': ([6.0, 7.0, 6.0, 6.0, 6.0, 6.5], '0'), 'Final Score': '64'}\n",
      "74 minutes and 25 seconds  dive started\n",
      "75 minutes and 25 seconds  dive scores announced\n",
      "DownloadedVideos/Men_10m_Prel_London2012.mp4\n",
      "ExtractedVideos/59_Men_10m_Prel_London2012.mp4\n",
      "4465\n",
      "4525\n",
      "Moviepy - Building video ExtractedVideos/59_Men_10m_Prel_London2012.mp4.\n",
      "Moviepy - Writing video ExtractedVideos/59_Men_10m_Prel_London2012.mp4\n",
      "\n"
     ]
    },
    {
     "name": "stderr",
     "output_type": "stream",
     "text": [
      "                                                                \r"
     ]
    },
    {
     "name": "stdout",
     "output_type": "stream",
     "text": [
      "Moviepy - Done !\n",
      "Moviepy - video ready ExtractedVideos/59_Men_10m_Prel_London2012.mp4\n",
      "{'Sno': 59, 'Match name': 'Men_10m_Prel_London2012', 'Time': 4465, 'Name': 'OLEKSANDR BONDA,', 'Country': 'UKR', 'Difficulty': '3.6', 'Dive Position': 'FREE', 'Somersaults': '3.6', 'Dive Group': 'ARMSTAND', 'Twists': 2.5, 'Score': ([5.0, 8.0, 5.5, 4.5, 48.0, 5.5, 6.0], '0'), 'Final Score': ''}\n",
      "75 minutes and 39 seconds  dive started\n",
      "76 minutes and 18 seconds  dive scores announced\n",
      "DownloadedVideos/Men_10m_Prel_London2012.mp4\n",
      "ExtractedVideos/60_Men_10m_Prel_London2012.mp4\n",
      "4539\n",
      "4578\n",
      "Moviepy - Building video ExtractedVideos/60_Men_10m_Prel_London2012.mp4.\n",
      "Moviepy - Writing video ExtractedVideos/60_Men_10m_Prel_London2012.mp4\n",
      "\n"
     ]
    },
    {
     "name": "stderr",
     "output_type": "stream",
     "text": [
      "                                                              \r"
     ]
    },
    {
     "name": "stdout",
     "output_type": "stream",
     "text": [
      "Moviepy - Done !\n",
      "Moviepy - video ready ExtractedVideos/60_Men_10m_Prel_London2012.mp4\n",
      "{'Sno': 60, 'Match name': 'Men_10m_Prel_London2012', 'Time': 4539, 'Name': '', 'Country': '', 'Difficulty': '', 'Dive Position': 'TUCK', 'Somersaults': '3', 'Dive Group': 'BACK', 'Twists': None, 'Score': ([6.0, 8.0, 6.0, 5.5, 8.0, 5.5], '0'), 'Final Score': '1.1'}\n",
      "76 minutes and 31 seconds  dive started\n",
      "77 minutes and 31 seconds  dive scores announced\n",
      "DownloadedVideos/Men_10m_Prel_London2012.mp4\n",
      "ExtractedVideos/61_Men_10m_Prel_London2012.mp4\n",
      "4591\n",
      "4651\n",
      "Moviepy - Building video ExtractedVideos/61_Men_10m_Prel_London2012.mp4.\n",
      "Moviepy - Writing video ExtractedVideos/61_Men_10m_Prel_London2012.mp4\n",
      "\n"
     ]
    },
    {
     "name": "stderr",
     "output_type": "stream",
     "text": [
      "                                                                \r"
     ]
    },
    {
     "name": "stdout",
     "output_type": "stream",
     "text": [
      "Moviepy - Done !\n",
      "Moviepy - video ready ExtractedVideos/61_Men_10m_Prel_London2012.mp4\n",
      "{'Sno': 61, 'Match name': 'Men_10m_Prel_London2012', 'Time': 4591, 'Name': 'VICTOR MINIBAEV', 'Country': 'RUS', 'Difficulty': '', 'Dive Position': 'TUCK', 'Somersaults': '3', 'Dive Group': 'REVERSE', 'Twists': None, 'Score': ([8.5, 8.0, 8.5, 8.0, 8.5, 8.5, 8.0], '0'), 'Final Score': ''}\n",
      "77 minutes and 56 seconds  dive started\n",
      "78 minutes and 38 seconds  dive scores announced\n",
      "DownloadedVideos/Men_10m_Prel_London2012.mp4\n",
      "ExtractedVideos/62_Men_10m_Prel_London2012.mp4\n",
      "4676\n",
      "4718\n",
      "Moviepy - Building video ExtractedVideos/62_Men_10m_Prel_London2012.mp4.\n",
      "Moviepy - Writing video ExtractedVideos/62_Men_10m_Prel_London2012.mp4\n",
      "\n"
     ]
    },
    {
     "name": "stderr",
     "output_type": "stream",
     "text": [
      "                                                                \r"
     ]
    },
    {
     "name": "stdout",
     "output_type": "stream",
     "text": [
      "Moviepy - Done !\n",
      "Moviepy - video ready ExtractedVideos/62_Men_10m_Prel_London2012.mp4\n",
      "{'Sno': 62, 'Match name': 'Men_10m_Prel_London2012', 'Time': 4676, 'Name': 'GERMAN SANCHEZ !', 'Country': 'MEX', 'Difficulty': '3.3', 'Dive Position': 'TUCK', 'Somersaults': '3.3', 'Dive Group': 'ARMSTAND', 'Twists': None, 'Score': ([7.5, 8.0, 6.5, 7.0, 5.0, 8.0, 8.0], '0'), 'Final Score': '75'}\n",
      "78 minutes and 57 seconds  dive started\n",
      "79 minutes and 45 seconds  dive scores announced\n",
      "DownloadedVideos/Men_10m_Prel_London2012.mp4\n",
      "ExtractedVideos/63_Men_10m_Prel_London2012.mp4\n",
      "4737\n",
      "4785\n",
      "Moviepy - Building video ExtractedVideos/63_Men_10m_Prel_London2012.mp4.\n",
      "Moviepy - Writing video ExtractedVideos/63_Men_10m_Prel_London2012.mp4\n",
      "\n"
     ]
    },
    {
     "name": "stderr",
     "output_type": "stream",
     "text": [
      "                                                                \r"
     ]
    },
    {
     "name": "stdout",
     "output_type": "stream",
     "text": [
      "Moviepy - Done !\n",
      "Moviepy - video ready ExtractedVideos/63_Men_10m_Prel_London2012.mp4\n",
      "{'Sno': 63, 'Match name': 'Men_10m_Prel_London2012', 'Time': 4737, 'Name': 'RILEY MCCORMICK', 'Country': 'CAN', 'Difficulty': '3.2', 'Dive Position': 'TUCK', 'Somersaults': '3', 'Dive Group': 'INWARD', 'Twists': None, 'Score': ([3.0, 8.0, 8.5, 8.5, 8.0, 9.0], '0'), 'Final Score': '80'}\n",
      "79 minutes and 59 seconds  dive started\n",
      "80 minutes and 42 seconds  dive scores announced\n",
      "DownloadedVideos/Men_10m_Prel_London2012.mp4\n",
      "ExtractedVideos/64_Men_10m_Prel_London2012.mp4\n",
      "4799\n",
      "4842\n",
      "Moviepy - Building video ExtractedVideos/64_Men_10m_Prel_London2012.mp4.\n",
      "Moviepy - Writing video ExtractedVideos/64_Men_10m_Prel_London2012.mp4\n",
      "\n"
     ]
    },
    {
     "name": "stderr",
     "output_type": "stream",
     "text": [
      "                                                                \r"
     ]
    },
    {
     "name": "stdout",
     "output_type": "stream",
     "text": [
      "Moviepy - Done !\n",
      "Moviepy - video ready ExtractedVideos/64_Men_10m_Prel_London2012.mp4\n",
      "{'Sno': 64, 'Match name': 'Men_10m_Prel_London2012', 'Time': 4799, 'Name': 'MATTHEW MITCHAM', 'Country': 'AUS', 'Difficulty': '3.2', 'Dive Position': 'TUCK', 'Somersaults': '3', 'Dive Group': 'INWARD', 'Twists': None, 'Score': ([8.0, 8.5, 8.0], '0'), 'Final Score': '81'}\n",
      "80 minutes and 55 seconds  dive started\n",
      "81 minutes and 34 seconds  dive scores announced\n",
      "DownloadedVideos/Men_10m_Prel_London2012.mp4\n",
      "ExtractedVideos/65_Men_10m_Prel_London2012.mp4\n",
      "4855\n",
      "4894\n",
      "Moviepy - Building video ExtractedVideos/65_Men_10m_Prel_London2012.mp4.\n",
      "Moviepy - Writing video ExtractedVideos/65_Men_10m_Prel_London2012.mp4\n",
      "\n"
     ]
    },
    {
     "name": "stderr",
     "output_type": "stream",
     "text": [
      "                                                              \r"
     ]
    },
    {
     "name": "stdout",
     "output_type": "stream",
     "text": [
      "Moviepy - Done !\n",
      "Moviepy - video ready ExtractedVideos/65_Men_10m_Prel_London2012.mp4\n",
      "{'Sno': 65, 'Match name': 'Men_10m_Prel_London2012', 'Time': 4855, 'Name': 'AMUND NORDAL GIS|', 'Country': 'NOR', 'Difficulty': '', 'Dive Position': 'TUCK', 'Somersaults': '3', 'Dive Group': 'BACK', 'Twists': None, 'Score': ([8.5, 7.0, 6.5, 6.0, 6.5, 7.0, 6.5], '0'), 'Final Score': '64'}\n",
      "81 minutes and 50 seconds  dive started\n",
      "82 minutes and 30 seconds  dive scores announced\n",
      "DownloadedVideos/Men_10m_Prel_London2012.mp4\n",
      "ExtractedVideos/66_Men_10m_Prel_London2012.mp4\n",
      "4910\n",
      "4950\n",
      "Moviepy - Building video ExtractedVideos/66_Men_10m_Prel_London2012.mp4.\n",
      "Moviepy - Writing video ExtractedVideos/66_Men_10m_Prel_London2012.mp4\n",
      "\n"
     ]
    },
    {
     "name": "stderr",
     "output_type": "stream",
     "text": [
      "                                                               \r"
     ]
    },
    {
     "name": "stdout",
     "output_type": "stream",
     "text": [
      "Moviepy - Done !\n",
      "Moviepy - video ready ExtractedVideos/66_Men_10m_Prel_London2012.mp4\n",
      "{'Sno': 66, 'Match name': 'Men_10m_Prel_London2012', 'Time': 4910, 'Name': \"FRANCESCO DELL'Ui\", 'Country': '', 'Difficulty': '3.2', 'Dive Position': 'TUCK', 'Somersaults': '3', 'Dive Group': 'INWARD', 'Twists': None, 'Score': ([85.0, 8.0, 8.5, 8.5, 8.06, 8.5, 8.5], '0'), 'Final Score': ''}\n",
      "82 minutes and 47 seconds  dive started\n",
      "83 minutes and 26 seconds  dive scores announced\n",
      "DownloadedVideos/Men_10m_Prel_London2012.mp4\n",
      "ExtractedVideos/67_Men_10m_Prel_London2012.mp4\n",
      "4967\n",
      "5006\n",
      "Moviepy - Building video ExtractedVideos/67_Men_10m_Prel_London2012.mp4.\n",
      "Moviepy - Writing video ExtractedVideos/67_Men_10m_Prel_London2012.mp4\n",
      "\n"
     ]
    },
    {
     "name": "stderr",
     "output_type": "stream",
     "text": [
      "                                                              \r"
     ]
    },
    {
     "name": "stdout",
     "output_type": "stream",
     "text": [
      "Moviepy - Done !\n",
      "Moviepy - video ready ExtractedVideos/67_Men_10m_Prel_London2012.mp4\n",
      "{'Sno': 67, 'Match name': 'Men_10m_Prel_London2012', 'Time': 4967, 'Name': 'ORISTOFER ESKILS', 'Country': 'SWE', 'Difficulty': '3.3', 'Dive Position': 'TUCK', 'Somersaults': '3.3', 'Dive Group': 'ARMSTAND', 'Twists': None, 'Score': ([7.5, 7.0, 7.5, 7.0, 7.5, 7.0, 7.5], '0'), 'Final Score': '72.60'}\n",
      "83 minutes and 46 seconds  dive started\n",
      "84 minutes and 32 seconds  dive scores announced\n",
      "DownloadedVideos/Men_10m_Prel_London2012.mp4\n",
      "ExtractedVideos/68_Men_10m_Prel_London2012.mp4\n",
      "5026\n",
      "5072\n",
      "Moviepy - Building video ExtractedVideos/68_Men_10m_Prel_London2012.mp4.\n",
      "Moviepy - Writing video ExtractedVideos/68_Men_10m_Prel_London2012.mp4\n",
      "\n"
     ]
    },
    {
     "name": "stderr",
     "output_type": "stream",
     "text": [
      "                                                                \r"
     ]
    },
    {
     "name": "stdout",
     "output_type": "stream",
     "text": [
      "Moviepy - Done !\n",
      "Moviepy - video ready ExtractedVideos/68_Men_10m_Prel_London2012.mp4\n",
      "{'Sno': 68, 'Match name': 'Men_10m_Prel_London2012', 'Time': 5026, 'Name': '', 'Country': 'CAN', 'Difficulty': '', 'Dive Position': 'FREE', 'Somersaults': '3.6', 'Dive Group': 'ARMSTAND', 'Twists': 2.5, 'Score': ([8.0, 5.0, 5.0, 5.0, 8.0, 8.5, 8.5], '0'), 'Final Score': '55.80'}\n",
      "84 minutes and 52 seconds  dive started\n",
      "85 minutes and 20 seconds  dive scores announced\n",
      "DownloadedVideos/Men_10m_Prel_London2012.mp4\n",
      "ExtractedVideos/69_Men_10m_Prel_London2012.mp4\n",
      "5092\n",
      "5120\n",
      "Moviepy - Building video ExtractedVideos/69_Men_10m_Prel_London2012.mp4.\n",
      "Moviepy - Writing video ExtractedVideos/69_Men_10m_Prel_London2012.mp4\n",
      "\n"
     ]
    },
    {
     "name": "stderr",
     "output_type": "stream",
     "text": [
      "                                                              \r"
     ]
    },
    {
     "name": "stdout",
     "output_type": "stream",
     "text": [
      "Moviepy - Done !\n",
      "Moviepy - video ready ExtractedVideos/69_Men_10m_Prel_London2012.mp4\n",
      "{'Sno': 69, 'Match name': 'Men_10m_Prel_London2012', 'Time': 5092, 'Name': '', 'Country': '', 'Difficulty': '', 'Dive Position': '', 'Somersaults': None, 'Dive Group': '', 'Twists': None, 'Score': ([8.0, 8.5, 45.0, 3.0], '0'), 'Final Score': ''}\n",
      "86 minutes and 58 seconds  dive started\n",
      "87 minutes and 37 seconds  dive scores announced\n",
      "DownloadedVideos/Men_10m_Prel_London2012.mp4\n",
      "ExtractedVideos/70_Men_10m_Prel_London2012.mp4\n",
      "5218\n",
      "5257\n",
      "Moviepy - Building video ExtractedVideos/70_Men_10m_Prel_London2012.mp4.\n",
      "Moviepy - Writing video ExtractedVideos/70_Men_10m_Prel_London2012.mp4\n",
      "\n"
     ]
    },
    {
     "name": "stderr",
     "output_type": "stream",
     "text": [
      "                                                              \r"
     ]
    },
    {
     "name": "stdout",
     "output_type": "stream",
     "text": [
      "Moviepy - Done !\n",
      "Moviepy - video ready ExtractedVideos/70_Men_10m_Prel_London2012.mp4\n",
      "{'Sno': 70, 'Match name': 'Men_10m_Prel_London2012', 'Time': 5218, 'Name': 'NICHOLAS MCCROR!', 'Country': '', 'Difficulty': '', 'Dive Position': 'TUCK', 'Somersaults': '47', 'Dive Group': 'FORWARD', 'Twists': None, 'Score': ([7.0, 6.5, 6.5, 7.0], '0'), 'Final Score': '77'}\n",
      "87 minutes and 59 seconds  dive started\n",
      "88 minutes and 40 seconds  dive scores announced\n",
      "DownloadedVideos/Men_10m_Prel_London2012.mp4\n",
      "ExtractedVideos/71_Men_10m_Prel_London2012.mp4\n",
      "5279\n",
      "5320\n",
      "Moviepy - Building video ExtractedVideos/71_Men_10m_Prel_London2012.mp4.\n",
      "Moviepy - Writing video ExtractedVideos/71_Men_10m_Prel_London2012.mp4\n",
      "\n"
     ]
    },
    {
     "name": "stderr",
     "output_type": "stream",
     "text": [
      "                                                                \r"
     ]
    },
    {
     "name": "stdout",
     "output_type": "stream",
     "text": [
      "Moviepy - Done !\n",
      "Moviepy - video ready ExtractedVideos/71_Men_10m_Prel_London2012.mp4\n",
      "{'Sno': 71, 'Match name': 'Men_10m_Prel_London2012', 'Time': 5279, 'Name': 'JOSE ANTONIO GUEF', 'Country': '', 'Difficulty': '3.2', 'Dive Position': 'TUCK', 'Somersaults': '37', 'Dive Group': 'INWARD', 'Twists': None, 'Score': ([8.0, 9.5, 10.0], '0'), 'Final Score': '92'}\n",
      "89 minutes and 3 seconds  dive started\n",
      "89 minutes and 38 seconds  dive scores announced\n",
      "DownloadedVideos/Men_10m_Prel_London2012.mp4\n",
      "ExtractedVideos/72_Men_10m_Prel_London2012.mp4\n",
      "5343\n",
      "5378\n",
      "Moviepy - Building video ExtractedVideos/72_Men_10m_Prel_London2012.mp4.\n",
      "Moviepy - Writing video ExtractedVideos/72_Men_10m_Prel_London2012.mp4\n",
      "\n"
     ]
    },
    {
     "name": "stderr",
     "output_type": "stream",
     "text": [
      "                                                              \r"
     ]
    },
    {
     "name": "stdout",
     "output_type": "stream",
     "text": [
      "Moviepy - Done !\n",
      "Moviepy - video ready ExtractedVideos/72_Men_10m_Prel_London2012.mp4\n",
      "{'Sno': 72, 'Match name': 'Men_10m_Prel_London2012', 'Time': 5343, 'Name': '', 'Country': '', 'Difficulty': '', 'Dive Position': '', 'Somersaults': None, 'Dive Group': '', 'Twists': None, 'Score': ([4.0, 8.0, 4.5, 4.0, 2.5, 3.5, 4.0], '0'), 'Final Score': ''}\n",
      "89 minutes and 46 seconds  dive started\n",
      "90 minutes and 33 seconds  dive scores announced\n",
      "DownloadedVideos/Men_10m_Prel_London2012.mp4\n",
      "ExtractedVideos/73_Men_10m_Prel_London2012.mp4\n",
      "5386\n",
      "5433\n",
      "Moviepy - Building video ExtractedVideos/73_Men_10m_Prel_London2012.mp4.\n",
      "Moviepy - Writing video ExtractedVideos/73_Men_10m_Prel_London2012.mp4\n",
      "\n"
     ]
    },
    {
     "name": "stderr",
     "output_type": "stream",
     "text": [
      "                                                                \r"
     ]
    },
    {
     "name": "stdout",
     "output_type": "stream",
     "text": [
      "Moviepy - Done !\n",
      "Moviepy - video ready ExtractedVideos/73_Men_10m_Prel_London2012.mp4\n",
      "{'Sno': 73, 'Match name': 'Men_10m_Prel_London2012', 'Time': 5386, 'Name': 'DAviD BOUDIA', 'Country': '', 'Difficulty': '', 'Dive Position': 'TUCK', 'Somersaults': '47', 'Dive Group': 'FORWARD', 'Twists': None, 'Score': ([8.0, 8.0, 8.0, 8.5, 8.0, 8.5, 7.5], '0'), 'Final Score': '88.80'}\n",
      "90 minutes and 50 seconds  dive started\n",
      "91 minutes and 29 seconds  dive scores announced\n",
      "DownloadedVideos/Men_10m_Prel_London2012.mp4\n",
      "ExtractedVideos/74_Men_10m_Prel_London2012.mp4\n",
      "5450\n",
      "5489\n",
      "Moviepy - Building video ExtractedVideos/74_Men_10m_Prel_London2012.mp4.\n",
      "Moviepy - Writing video ExtractedVideos/74_Men_10m_Prel_London2012.mp4\n",
      "\n"
     ]
    },
    {
     "name": "stderr",
     "output_type": "stream",
     "text": [
      "                                                              \r"
     ]
    },
    {
     "name": "stdout",
     "output_type": "stream",
     "text": [
      "Moviepy - Done !\n",
      "Moviepy - video ready ExtractedVideos/74_Men_10m_Prel_London2012.mp4\n",
      "{'Sno': 74, 'Match name': 'Men_10m_Prel_London2012', 'Time': 5450, 'Name': 'QIU Bo', 'Country': '', 'Difficulty': '3.3', 'Dive Position': 'TUCK', 'Somersaults': '3', 'Dive Group': 'REVERSE', 'Twists': None, 'Score': ([9.5, 8.0, 8.0, 9.5, 9.5, 8.5], '0'), 'Final Score': '94'}\n",
      "91 minutes and 50 seconds  dive started\n",
      "92 minutes and 26 seconds  dive scores announced\n",
      "DownloadedVideos/Men_10m_Prel_London2012.mp4\n",
      "ExtractedVideos/75_Men_10m_Prel_London2012.mp4\n",
      "5510\n",
      "5546\n",
      "Moviepy - Building video ExtractedVideos/75_Men_10m_Prel_London2012.mp4.\n",
      "Moviepy - Writing video ExtractedVideos/75_Men_10m_Prel_London2012.mp4\n",
      "\n"
     ]
    },
    {
     "name": "stderr",
     "output_type": "stream",
     "text": [
      "                                                              \r"
     ]
    },
    {
     "name": "stdout",
     "output_type": "stream",
     "text": [
      "Moviepy - Done !\n",
      "Moviepy - video ready ExtractedVideos/75_Men_10m_Prel_London2012.mp4\n",
      "{'Sno': 75, 'Match name': 'Men_10m_Prel_London2012', 'Time': 5510, 'Name': 'SASCHA KLEIN', 'Country': '', 'Difficulty': '3.5', 'Dive Position': 'PIKE', 'Somersaults': '3.5', 'Dive Group': 'ARMSTAND', 'Twists': None, 'Score': ([85.0, 8.8, 8.5, 8.0, 8.0], '0'), 'Final Score': '92'}\n",
      "92 minutes and 50 seconds  dive started\n",
      "93 minutes and 24 seconds  dive scores announced\n",
      "DownloadedVideos/Men_10m_Prel_London2012.mp4\n",
      "ExtractedVideos/76_Men_10m_Prel_London2012.mp4\n",
      "5570\n",
      "5604\n",
      "Moviepy - Building video ExtractedVideos/76_Men_10m_Prel_London2012.mp4.\n",
      "Moviepy - Writing video ExtractedVideos/76_Men_10m_Prel_London2012.mp4\n",
      "\n"
     ]
    },
    {
     "name": "stderr",
     "output_type": "stream",
     "text": [
      "                                                              \r"
     ]
    },
    {
     "name": "stdout",
     "output_type": "stream",
     "text": [
      "Moviepy - Done !\n",
      "Moviepy - video ready ExtractedVideos/76_Men_10m_Prel_London2012.mp4\n",
      "{'Sno': 76, 'Match name': 'Men_10m_Prel_London2012', 'Time': 5570, 'Name': 'VADIM KAPTUR', 'Country': 'BLR', 'Difficulty': '3.1', 'Dive Position': 'FREE', 'Somersaults': '3.1', 'Dive Group': 'ARMSTAND', 'Twists': '1', 'Score': ([88.0, 8.0, 8.0, 8.0], '0'), 'Final Score': '74'}\n",
      "93 minutes and 34 seconds  dive started\n",
      "94 minutes and 36 seconds  dive scores announced\n",
      "DownloadedVideos/Men_10m_Prel_London2012.mp4\n",
      "ExtractedVideos/77_Men_10m_Prel_London2012.mp4\n",
      "5614\n",
      "5676\n",
      "Moviepy - Building video ExtractedVideos/77_Men_10m_Prel_London2012.mp4.\n",
      "Moviepy - Writing video ExtractedVideos/77_Men_10m_Prel_London2012.mp4\n",
      "\n"
     ]
    },
    {
     "name": "stderr",
     "output_type": "stream",
     "text": [
      "                                                                \r"
     ]
    },
    {
     "name": "stdout",
     "output_type": "stream",
     "text": [
      "Moviepy - Done !\n",
      "Moviepy - video ready ExtractedVideos/77_Men_10m_Prel_London2012.mp4\n",
      "{'Sno': 77, 'Match name': 'Men_10m_Prel_London2012', 'Time': 5614, 'Name': 'THOMAS DALEY', 'Country': '', 'Difficulty': '3.5', 'Dive Position': 'PIKE', 'Somersaults': '3.5', 'Dive Group': 'ARMSTAND', 'Twists': None, 'Score': ([8.0, 8.0, 8.0, 8.5, 8.5, 8.5], '0'), 'Final Score': '89'}\n",
      "94 minutes and 53 seconds  dive started\n",
      "95 minutes and 29 seconds  dive scores announced\n",
      "DownloadedVideos/Men_10m_Prel_London2012.mp4\n",
      "ExtractedVideos/78_Men_10m_Prel_London2012.mp4\n",
      "5693\n",
      "5729\n",
      "Moviepy - Building video ExtractedVideos/78_Men_10m_Prel_London2012.mp4.\n",
      "Moviepy - Writing video ExtractedVideos/78_Men_10m_Prel_London2012.mp4\n",
      "\n"
     ]
    },
    {
     "name": "stderr",
     "output_type": "stream",
     "text": [
      "                                                              \r"
     ]
    },
    {
     "name": "stdout",
     "output_type": "stream",
     "text": [
      "Moviepy - Done !\n",
      "Moviepy - video ready ExtractedVideos/78_Men_10m_Prel_London2012.mp4\n",
      "{'Sno': 78, 'Match name': 'Men_10m_Prel_London2012', 'Time': 5693, 'Name': 'ANDREA CHIARABIN', 'Country': '', 'Difficulty': '3.3', 'Dive Position': 'TUCK', 'Somersaults': '3', 'Dive Group': 'BACK', 'Twists': None, 'Score': ([5.8, 3.0, 5.5], '0'), 'Final Score': '54'}\n",
      "95 minutes and 44 seconds  dive started\n",
      "96 minutes and 13 seconds  dive scores announced\n",
      "DownloadedVideos/Men_10m_Prel_London2012.mp4\n",
      "ExtractedVideos/79_Men_10m_Prel_London2012.mp4\n",
      "5744\n",
      "5773\n",
      "Moviepy - Building video ExtractedVideos/79_Men_10m_Prel_London2012.mp4.\n",
      "Moviepy - Writing video ExtractedVideos/79_Men_10m_Prel_London2012.mp4\n",
      "\n"
     ]
    },
    {
     "name": "stderr",
     "output_type": "stream",
     "text": [
      "                                                              \r"
     ]
    },
    {
     "name": "stdout",
     "output_type": "stream",
     "text": [
      "Moviepy - Done !\n",
      "Moviepy - video ready ExtractedVideos/79_Men_10m_Prel_London2012.mp4\n",
      "{'Sno': 79, 'Match name': 'Men_10m_Prel_London2012', 'Time': 5744, 'Name': 'HuGo PARISI', 'Country': '', 'Difficulty': '3.3', 'Dive Position': 'TUCK', 'Somersaults': '3', 'Dive Group': 'BACK', 'Twists': None, 'Score': ([8.5, 8.5, 4.0, 4.0, 45.0, 45.0, 4.0], '0'), 'Final Score': '39.60'}\n",
      "98 minutes and 48 seconds  dive started\n",
      "99 minutes and 35 seconds  dive scores announced\n",
      "DownloadedVideos/Men_10m_Prel_London2012.mp4\n",
      "ExtractedVideos/80_Men_10m_Prel_London2012.mp4\n",
      "5928\n",
      "5975\n",
      "Moviepy - Building video ExtractedVideos/80_Men_10m_Prel_London2012.mp4.\n",
      "Moviepy - Writing video ExtractedVideos/80_Men_10m_Prel_London2012.mp4\n",
      "\n"
     ]
    },
    {
     "name": "stderr",
     "output_type": "stream",
     "text": [
      "                                                                \r"
     ]
    },
    {
     "name": "stdout",
     "output_type": "stream",
     "text": [
      "Moviepy - Done !\n",
      "Moviepy - video ready ExtractedVideos/80_Men_10m_Prel_London2012.mp4\n",
      "{'Sno': 80, 'Match name': 'Men_10m_Prel_London2012', 'Time': 5928, 'Name': 'GLEB GALPERIN', 'Country': 'RUS', 'Difficulty': '', 'Dive Position': 'TUCK', 'Somersaults': '37', 'Dive Group': 'BACK', 'Twists': None, 'Score': ([8.5, 8.5, 8.5], '0'), 'Final Score': '84'}\n",
      "99 minutes and 45 seconds  dive started\n",
      "100 minutes and 28 seconds  dive scores announced\n",
      "DownloadedVideos/Men_10m_Prel_London2012.mp4\n",
      "ExtractedVideos/81_Men_10m_Prel_London2012.mp4\n",
      "5985\n",
      "6028\n",
      "Moviepy - Building video ExtractedVideos/81_Men_10m_Prel_London2012.mp4.\n",
      "Moviepy - Writing video ExtractedVideos/81_Men_10m_Prel_London2012.mp4\n",
      "\n"
     ]
    },
    {
     "name": "stderr",
     "output_type": "stream",
     "text": [
      "                                                                \r"
     ]
    },
    {
     "name": "stdout",
     "output_type": "stream",
     "text": [
      "Moviepy - Done !\n",
      "Moviepy - video ready ExtractedVideos/81_Men_10m_Prel_London2012.mp4\n",
      "{'Sno': 81, 'Match name': 'Men_10m_Prel_London2012', 'Time': 5985, 'Name': 'LIN YUE', 'Country': '', 'Difficulty': '3.7', 'Dive Position': 'TUCK', 'Somersaults': '4', 'Dive Group': 'FORWARD', 'Twists': None, 'Score': ([8.5, 8.5, 8.5, 8.5, 8.0, 8.0], '0'), 'Final Score': ''}\n",
      "100 minutes and 41 seconds  dive started\n",
      "101 minutes and 23 seconds  dive scores announced\n",
      "DownloadedVideos/Men_10m_Prel_London2012.mp4\n",
      "ExtractedVideos/82_Men_10m_Prel_London2012.mp4\n",
      "6041\n",
      "6083\n",
      "Moviepy - Building video ExtractedVideos/82_Men_10m_Prel_London2012.mp4.\n",
      "Moviepy - Writing video ExtractedVideos/82_Men_10m_Prel_London2012.mp4\n",
      "\n"
     ]
    },
    {
     "name": "stderr",
     "output_type": "stream",
     "text": [
      "                                                                \r"
     ]
    },
    {
     "name": "stdout",
     "output_type": "stream",
     "text": [
      "Moviepy - Done !\n",
      "Moviepy - video ready ExtractedVideos/82_Men_10m_Prel_London2012.mp4\n",
      "{'Sno': 82, 'Match name': 'Men_10m_Prel_London2012', 'Time': 6041, 'Name': 'VICTOR ORTEGA SE|', 'Country': 'coL', 'Difficulty': '3.2', 'Dive Position': 'TUCK', 'Somersaults': '3', 'Dive Group': 'INWARD', 'Twists': None, 'Score': ([85.0, 7.5, 7.5, 8.0, 75.0, 7.5, 8.5], '0'), 'Final Score': '73'}\n",
      "101 minutes and 32 seconds  dive started\n",
      "102 minutes and 17 seconds  dive scores announced\n",
      "DownloadedVideos/Men_10m_Prel_London2012.mp4\n",
      "ExtractedVideos/83_Men_10m_Prel_London2012.mp4\n",
      "6092\n",
      "6137\n",
      "Moviepy - Building video ExtractedVideos/83_Men_10m_Prel_London2012.mp4.\n",
      "Moviepy - Writing video ExtractedVideos/83_Men_10m_Prel_London2012.mp4\n",
      "\n"
     ]
    },
    {
     "name": "stderr",
     "output_type": "stream",
     "text": [
      "                                                                \r"
     ]
    },
    {
     "name": "stdout",
     "output_type": "stream",
     "text": [
      "Moviepy - Done !\n",
      "Moviepy - video ready ExtractedVideos/83_Men_10m_Prel_London2012.mp4\n",
      "{'Sno': 83, 'Match name': 'Men_10m_Prel_London2012', 'Time': 6092, 'Name': 'ANTON ZAKHAROV', 'Country': 'UKR', 'Difficulty': '3.3', 'Dive Position': 'TUCK', 'Somersaults': '37', 'Dive Group': 'REVERSE', 'Twists': None, 'Score': ([7.5, 7.5, 7.5, 7.5, 7.5, 7.5], '0'), 'Final Score': '74'}\n",
      "103 minutes and 31 seconds  dive started\n",
      "104 minutes and 4 seconds  dive scores announced\n",
      "DownloadedVideos/Men_10m_Prel_London2012.mp4\n",
      "ExtractedVideos/84_Men_10m_Prel_London2012.mp4\n",
      "6211\n",
      "6244\n",
      "Moviepy - Building video ExtractedVideos/84_Men_10m_Prel_London2012.mp4.\n",
      "Moviepy - Writing video ExtractedVideos/84_Men_10m_Prel_London2012.mp4\n",
      "\n"
     ]
    },
    {
     "name": "stderr",
     "output_type": "stream",
     "text": [
      "                                                              \r"
     ]
    },
    {
     "name": "stdout",
     "output_type": "stream",
     "text": [
      "Moviepy - Done !\n",
      "Moviepy - video ready ExtractedVideos/84_Men_10m_Prel_London2012.mp4\n",
      "{'Sno': 84, 'Match name': 'Men_10m_Prel_London2012', 'Time': 6211, 'Name': '', 'Country': '', 'Difficulty': '', 'Dive Position': '', 'Somersaults': None, 'Dive Group': '', 'Twists': None, 'Score': ([8.5, 4.0, 5.0, 8.5, 45.0, 4.0, 3.5], '0'), 'Final Score': '37.95'}\n",
      "104 minutes and 37 seconds  dive started\n",
      "105 minutes and 17 seconds  dive scores announced\n",
      "DownloadedVideos/Men_10m_Prel_London2012.mp4\n",
      "ExtractedVideos/85_Men_10m_Prel_London2012.mp4\n",
      "6277\n",
      "6317\n",
      "Moviepy - Building video ExtractedVideos/85_Men_10m_Prel_London2012.mp4.\n",
      "Moviepy - Writing video ExtractedVideos/85_Men_10m_Prel_London2012.mp4\n",
      "\n"
     ]
    },
    {
     "name": "stderr",
     "output_type": "stream",
     "text": [
      "                                                               \r"
     ]
    },
    {
     "name": "stdout",
     "output_type": "stream",
     "text": [
      "Moviepy - Done !\n",
      "Moviepy - video ready ExtractedVideos/85_Men_10m_Prel_London2012.mp4\n",
      "{'Sno': 85, 'Match name': 'Men_10m_Prel_London2012', 'Time': 6277, 'Name': 'JAMES CONNOR', 'Country': 'AUS', 'Difficulty': '3.2', 'Dive Position': 'FREE', 'Somersaults': '3.2', 'Dive Group': 'ARMSTAND', 'Twists': 1.5, 'Score': ([7.0, 8.5, 7.0, 6.5, 7.0, 8.0, 6.5], '0'), 'Final Score': '64.00'}\n",
      "105 minutes and 33 seconds  dive started\n",
      "106 minutes and 15 seconds  dive scores announced\n",
      "DownloadedVideos/Men_10m_Prel_London2012.mp4\n",
      "ExtractedVideos/86_Men_10m_Prel_London2012.mp4\n",
      "6333\n",
      "6375\n",
      "Moviepy - Building video ExtractedVideos/86_Men_10m_Prel_London2012.mp4.\n",
      "Moviepy - Writing video ExtractedVideos/86_Men_10m_Prel_London2012.mp4\n",
      "\n"
     ]
    },
    {
     "name": "stderr",
     "output_type": "stream",
     "text": [
      "                                                                \r"
     ]
    },
    {
     "name": "stdout",
     "output_type": "stream",
     "text": [
      "Moviepy - Done !\n",
      "Moviepy - video ready ExtractedVideos/86_Men_10m_Prel_London2012.mp4\n",
      "{'Sno': 86, 'Match name': 'Men_10m_Prel_London2012', 'Time': 6333, 'Name': 'MARTIN WOLFRAM', 'Country': 'GER', 'Difficulty': '3.6', 'Dive Position': 'PIKE', 'Somersaults': None, 'Dive Group': 'BACK', 'Twists': None, 'Score': ([5.0], '0'), 'Final Score': ''}\n",
      "106 minutes and 28 seconds  dive started\n",
      "107 minutes and 15 seconds  dive scores announced\n",
      "DownloadedVideos/Men_10m_Prel_London2012.mp4\n",
      "ExtractedVideos/87_Men_10m_Prel_London2012.mp4\n",
      "6388\n",
      "6435\n",
      "Moviepy - Building video ExtractedVideos/87_Men_10m_Prel_London2012.mp4.\n",
      "Moviepy - Writing video ExtractedVideos/87_Men_10m_Prel_London2012.mp4\n",
      "\n"
     ]
    },
    {
     "name": "stderr",
     "output_type": "stream",
     "text": [
      "                                                                \r"
     ]
    },
    {
     "name": "stdout",
     "output_type": "stream",
     "text": [
      "Moviepy - Done !\n",
      "Moviepy - video ready ExtractedVideos/87_Men_10m_Prel_London2012.mp4\n",
      "{'Sno': 87, 'Match name': 'Men_10m_Prel_London2012', 'Time': 6388, 'Name': 'JEINKLER AGUIRRE', 'Country': 'CUB', 'Difficulty': '', 'Dive Position': 'FREE', 'Somersaults': '3.2', 'Dive Group': 'ARMSTAND', 'Twists': 1.5, 'Score': ([7.5, 7.0, 7.0, 7.5, 7.58, 70.0, 7.56], '0'), 'Final Score': ''}\n",
      "107 minutes and 30 seconds  dive started\n",
      "108 minutes and 15 seconds  dive scores announced\n",
      "DownloadedVideos/Men_10m_Prel_London2012.mp4\n",
      "ExtractedVideos/88_Men_10m_Prel_London2012.mp4\n",
      "6450\n",
      "6495\n",
      "Moviepy - Building video ExtractedVideos/88_Men_10m_Prel_London2012.mp4.\n",
      "Moviepy - Writing video ExtractedVideos/88_Men_10m_Prel_London2012.mp4\n",
      "\n"
     ]
    },
    {
     "name": "stderr",
     "output_type": "stream",
     "text": [
      "                                                                \r"
     ]
    },
    {
     "name": "stdout",
     "output_type": "stream",
     "text": [
      "Moviepy - Done !\n",
      "Moviepy - video ready ExtractedVideos/88_Men_10m_Prel_London2012.mp4\n",
      "{'Sno': 88, 'Match name': 'Men_10m_Prel_London2012', 'Time': 6450, 'Name': 'OLEKSANDR BONDA', 'Country': 'UKR', 'Difficulty': '', 'Dive Position': 'TUCK', 'Somersaults': '3', 'Dive Group': 'BACK', 'Twists': None, 'Score': ([9.0, 9.0, 9.0, 8.0, 8.06, 8.5, 8.5], '0'), 'Final Score': '89'}\n",
      "108 minutes and 27 seconds  dive started\n",
      "109 minutes and 13 seconds  dive scores announced\n",
      "DownloadedVideos/Men_10m_Prel_London2012.mp4\n",
      "ExtractedVideos/89_Men_10m_Prel_London2012.mp4\n",
      "6507\n",
      "6553\n",
      "Moviepy - Building video ExtractedVideos/89_Men_10m_Prel_London2012.mp4.\n",
      "Moviepy - Writing video ExtractedVideos/89_Men_10m_Prel_London2012.mp4\n",
      "\n"
     ]
    },
    {
     "name": "stderr",
     "output_type": "stream",
     "text": [
      "                                                                \r"
     ]
    },
    {
     "name": "stdout",
     "output_type": "stream",
     "text": [
      "Moviepy - Done !\n",
      "Moviepy - video ready ExtractedVideos/89_Men_10m_Prel_London2012.mp4\n",
      "{'Sno': 89, 'Match name': 'Men_10m_Prel_London2012', 'Time': 6507, 'Name': 'PARK JIHO', 'Country': 'KOR', 'Difficulty': '2.9', 'Dive Position': 'PIKE', 'Somersaults': '27', 'Dive Group': 'REVERSE', 'Twists': None, 'Score': ([4.0, 4.0, 8.0, 4.5, 4.8, 4.0, 45.0], '0'), 'Final Score': '37.70'}\n",
      "109 minutes and 24 seconds  dive started\n",
      "110 minutes and 21 seconds  dive scores announced\n",
      "DownloadedVideos/Men_10m_Prel_London2012.mp4\n",
      "ExtractedVideos/90_Men_10m_Prel_London2012.mp4\n",
      "6564\n",
      "6621\n",
      "Moviepy - Building video ExtractedVideos/90_Men_10m_Prel_London2012.mp4.\n",
      "Moviepy - Writing video ExtractedVideos/90_Men_10m_Prel_London2012.mp4\n",
      "\n"
     ]
    },
    {
     "name": "stderr",
     "output_type": "stream",
     "text": [
      "                                                                \r"
     ]
    },
    {
     "name": "stdout",
     "output_type": "stream",
     "text": [
      "Moviepy - Done !\n",
      "Moviepy - video ready ExtractedVideos/90_Men_10m_Prel_London2012.mp4\n",
      "{'Sno': 90, 'Match name': 'Men_10m_Prel_London2012', 'Time': 6564, 'Name': 'VICTOR MINIBAEV', 'Country': 'RUS', 'Difficulty': '', 'Dive Position': 'FREE', 'Somersaults': '3.6', 'Dive Group': 'ARMSTAND', 'Twists': 2.5, 'Score': ([7.0, 7.0, 7.0, 7.5], '0'), 'Final Score': ''}\n",
      "110 minutes and 45 seconds  dive started\n",
      "111 minutes and 32 seconds  dive scores announced\n",
      "DownloadedVideos/Men_10m_Prel_London2012.mp4\n",
      "ExtractedVideos/91_Men_10m_Prel_London2012.mp4\n",
      "6645\n",
      "6692\n",
      "Moviepy - Building video ExtractedVideos/91_Men_10m_Prel_London2012.mp4.\n",
      "Moviepy - Writing video ExtractedVideos/91_Men_10m_Prel_London2012.mp4\n",
      "\n"
     ]
    },
    {
     "name": "stderr",
     "output_type": "stream",
     "text": [
      "                                                                \r"
     ]
    },
    {
     "name": "stdout",
     "output_type": "stream",
     "text": [
      "Moviepy - Done !\n",
      "Moviepy - video ready ExtractedVideos/91_Men_10m_Prel_London2012.mp4\n",
      "{'Sno': 91, 'Match name': 'Men_10m_Prel_London2012', 'Time': 6645, 'Name': 'GERMAN SANCHEZ !', 'Country': 'MEX', 'Difficulty': '4.1', 'Dive Position': 'TUCK', 'Somersaults': '47', 'Dive Group': 'INWARD', 'Twists': None, 'Score': ([8.0, 8.0, 8.0, 8.0, 7.0, 8.0, 8.0], '0'), 'Final Score': '98'}\n",
      "111 minutes and 53 seconds  dive started\n",
      "112 minutes and 34 seconds  dive scores announced\n",
      "DownloadedVideos/Men_10m_Prel_London2012.mp4\n",
      "ExtractedVideos/92_Men_10m_Prel_London2012.mp4\n",
      "6713\n",
      "6754\n",
      "Moviepy - Building video ExtractedVideos/92_Men_10m_Prel_London2012.mp4.\n",
      "Moviepy - Writing video ExtractedVideos/92_Men_10m_Prel_London2012.mp4\n",
      "\n"
     ]
    },
    {
     "name": "stderr",
     "output_type": "stream",
     "text": [
      "                                                                \r"
     ]
    },
    {
     "name": "stdout",
     "output_type": "stream",
     "text": [
      "Moviepy - Done !\n",
      "Moviepy - video ready ExtractedVideos/92_Men_10m_Prel_London2012.mp4\n",
      "{'Sno': 92, 'Match name': 'Men_10m_Prel_London2012', 'Time': 6713, 'Name': 'RILEY MCcCORMICK', 'Country': '', 'Difficulty': '3.3', 'Dive Position': 'TUCK', 'Somersaults': '3.3', 'Dive Group': 'ARMSTAND', 'Twists': None, 'Score': ([7.0, 7.0, 7.0, 7.0, 7.5, 7.0, 7.0], '0'), 'Final Score': '69.30'}\n",
      "112 minutes and 49 seconds  dive started\n",
      "113 minutes and 33 seconds  dive scores announced\n",
      "DownloadedVideos/Men_10m_Prel_London2012.mp4\n",
      "ExtractedVideos/93_Men_10m_Prel_London2012.mp4\n",
      "6769\n",
      "6813\n",
      "Moviepy - Building video ExtractedVideos/93_Men_10m_Prel_London2012.mp4.\n",
      "Moviepy - Writing video ExtractedVideos/93_Men_10m_Prel_London2012.mp4\n",
      "\n"
     ]
    },
    {
     "name": "stderr",
     "output_type": "stream",
     "text": [
      "                                                                \r"
     ]
    },
    {
     "name": "stdout",
     "output_type": "stream",
     "text": [
      "Moviepy - Done !\n",
      "Moviepy - video ready ExtractedVideos/93_Men_10m_Prel_London2012.mp4\n",
      "{'Sno': 93, 'Match name': 'Men_10m_Prel_London2012', 'Time': 6769, 'Name': 'MATTHEW MITCHAM', 'Country': 'AUS', 'Difficulty': '', 'Dive Position': 'TUCK', 'Somersaults': '37', 'Dive Group': 'REVERSE', 'Twists': None, 'Score': ([7.5, 7.5, 7.5, 7.5, 75.0, 7.0], '0'), 'Final Score': ''}\n",
      "113 minutes and 42 seconds  dive started\n",
      "114 minutes and 32 seconds  dive scores announced\n",
      "DownloadedVideos/Men_10m_Prel_London2012.mp4\n",
      "ExtractedVideos/94_Men_10m_Prel_London2012.mp4\n",
      "6822\n",
      "6872\n",
      "Moviepy - Building video ExtractedVideos/94_Men_10m_Prel_London2012.mp4.\n",
      "Moviepy - Writing video ExtractedVideos/94_Men_10m_Prel_London2012.mp4\n",
      "\n"
     ]
    },
    {
     "name": "stderr",
     "output_type": "stream",
     "text": [
      "                                                                \r"
     ]
    },
    {
     "name": "stdout",
     "output_type": "stream",
     "text": [
      "Moviepy - Done !\n",
      "Moviepy - video ready ExtractedVideos/94_Men_10m_Prel_London2012.mp4\n",
      "{'Sno': 94, 'Match name': 'Men_10m_Prel_London2012', 'Time': 6822, 'Name': 'AMUND NORDAL GIS|', 'Country': 'NOR', 'Difficulty': '2.7', 'Dive Position': 'TUCK', 'Somersaults': '2', 'Dive Group': 'REVERSE', 'Twists': None, 'Score': ([8.0, 5.0, 4.0, 5.0, 8.6, 45.0, 5.5], '0'), 'Final Score': ''}\n",
      "114 minutes and 46 seconds  dive started\n",
      "115 minutes and 28 seconds  dive scores announced\n",
      "DownloadedVideos/Men_10m_Prel_London2012.mp4\n",
      "ExtractedVideos/95_Men_10m_Prel_London2012.mp4\n",
      "6886\n",
      "6928\n",
      "Moviepy - Building video ExtractedVideos/95_Men_10m_Prel_London2012.mp4.\n",
      "Moviepy - Writing video ExtractedVideos/95_Men_10m_Prel_London2012.mp4\n",
      "\n"
     ]
    },
    {
     "name": "stderr",
     "output_type": "stream",
     "text": [
      "                                                                \r"
     ]
    },
    {
     "name": "stdout",
     "output_type": "stream",
     "text": [
      "Moviepy - Done !\n",
      "Moviepy - video ready ExtractedVideos/95_Men_10m_Prel_London2012.mp4\n",
      "{'Sno': 95, 'Match name': 'Men_10m_Prel_London2012', 'Time': 6886, 'Name': \"FRANCESCO DELL'Ui\", 'Country': '', 'Difficulty': '', 'Dive Position': 'TUCK', 'Somersaults': '3', 'Dive Group': 'BACK', 'Twists': None, 'Score': ([4.0, 5.0, 8.5, 2.5], '0'), 'Final Score': '41'}\n",
      "115 minutes and 44 seconds  dive started\n",
      "116 minutes and 20 seconds  dive scores announced\n",
      "DownloadedVideos/Men_10m_Prel_London2012.mp4\n",
      "ExtractedVideos/96_Men_10m_Prel_London2012.mp4\n",
      "6944\n",
      "6980\n",
      "Moviepy - Building video ExtractedVideos/96_Men_10m_Prel_London2012.mp4.\n",
      "Moviepy - Writing video ExtractedVideos/96_Men_10m_Prel_London2012.mp4\n",
      "\n"
     ]
    },
    {
     "name": "stderr",
     "output_type": "stream",
     "text": [
      "                                                              \r"
     ]
    },
    {
     "name": "stdout",
     "output_type": "stream",
     "text": [
      "Moviepy - Done !\n",
      "Moviepy - video ready ExtractedVideos/96_Men_10m_Prel_London2012.mp4\n",
      "{'Sno': 96, 'Match name': 'Men_10m_Prel_London2012', 'Time': 6944, 'Name': 'CHRISTOFER ESKILS', 'Country': 'SWE', 'Difficulty': '3.3', 'Dive Position': 'TUCK', 'Somersaults': '3', 'Dive Group': 'BACK', 'Twists': None, 'Score': ([8.5, 4.0, 4.0, 8.5, 458.0, 4.0, 4.0], '0'), 'Final Score': ''}\n",
      "116 minutes and 32 seconds  dive started\n",
      "117 minutes and 11 seconds  dive scores announced\n",
      "DownloadedVideos/Men_10m_Prel_London2012.mp4\n",
      "ExtractedVideos/97_Men_10m_Prel_London2012.mp4\n",
      "6992\n",
      "7031\n",
      "Moviepy - Building video ExtractedVideos/97_Men_10m_Prel_London2012.mp4.\n",
      "Moviepy - Writing video ExtractedVideos/97_Men_10m_Prel_London2012.mp4\n",
      "\n"
     ]
    },
    {
     "name": "stderr",
     "output_type": "stream",
     "text": [
      "                                                              \r"
     ]
    },
    {
     "name": "stdout",
     "output_type": "stream",
     "text": [
      "Moviepy - Done !\n",
      "Moviepy - video ready ExtractedVideos/97_Men_10m_Prel_London2012.mp4\n",
      "{'Sno': 97, 'Match name': 'Men_10m_Prel_London2012', 'Time': 6992, 'Name': '', 'Country': 'CAN', 'Difficulty': '3.0', 'Dive Position': 'PIKE', 'Somersaults': '3', 'Dive Group': 'FORWARD', 'Twists': None, 'Score': ([7.5, 7.8, 7.5, 7.5, 7.5, 7.0], '0'), 'Final Score': '67'}\n",
      "117 minutes and 24 seconds  dive started\n",
      "118 minutes and 7 seconds  dive scores announced\n",
      "DownloadedVideos/Men_10m_Prel_London2012.mp4\n",
      "ExtractedVideos/98_Men_10m_Prel_London2012.mp4\n",
      "7044\n",
      "7087\n",
      "Moviepy - Building video ExtractedVideos/98_Men_10m_Prel_London2012.mp4.\n",
      "Moviepy - Writing video ExtractedVideos/98_Men_10m_Prel_London2012.mp4\n",
      "\n"
     ]
    },
    {
     "name": "stderr",
     "output_type": "stream",
     "text": [
      "                                                                \r"
     ]
    },
    {
     "name": "stdout",
     "output_type": "stream",
     "text": [
      "Moviepy - Done !\n",
      "Moviepy - video ready ExtractedVideos/98_Men_10m_Prel_London2012.mp4\n",
      "{'Sno': 98, 'Match name': 'Men_10m_Prel_London2012', 'Time': 7044, 'Name': 'BRYAN NICKSON LOM', 'Country': 'MAS', 'Difficulty': '3.3', 'Dive Position': 'TUCK', 'Somersaults': '37', 'Dive Group': 'REVERSE', 'Twists': None, 'Score': ([7.5, 75.0, 7.5, 7.5, 2.0, 7.0, 8.0, 7.5], '0'), 'Final Score': '74'}\n",
      "118 minutes and 30 seconds  dive started\n",
      "119 minutes and 18 seconds  dive scores announced\n",
      "DownloadedVideos/Men_10m_Prel_London2012.mp4\n",
      "ExtractedVideos/99_Men_10m_Prel_London2012.mp4\n",
      "7110\n",
      "7158\n",
      "Moviepy - Building video ExtractedVideos/99_Men_10m_Prel_London2012.mp4.\n",
      "Moviepy - Writing video ExtractedVideos/99_Men_10m_Prel_London2012.mp4\n",
      "\n"
     ]
    },
    {
     "name": "stderr",
     "output_type": "stream",
     "text": [
      "                                                                \r"
     ]
    },
    {
     "name": "stdout",
     "output_type": "stream",
     "text": [
      "Moviepy - Done !\n",
      "Moviepy - video ready ExtractedVideos/99_Men_10m_Prel_London2012.mp4\n",
      "{'Sno': 99, 'Match name': 'Men_10m_Prel_London2012', 'Time': 7110, 'Name': 'JVAN GARCIA NAVAF', 'Country': 'MEX', 'Difficulty': '3.6', 'Dive Position': 'FREE', 'Somersaults': '3.6', 'Dive Group': 'ARMSTAND', 'Twists': 2.5, 'Score': ([7.5, 7.5, 7.5, 7.0, 7.0, 8.0], '0'), 'Final Score': '81'}\n",
      "119 minutes and 40 seconds  dive started\n",
      "120 minutes and 23 seconds  dive scores announced\n",
      "DownloadedVideos/Men_10m_Prel_London2012.mp4\n",
      "ExtractedVideos/100_Men_10m_Prel_London2012.mp4\n",
      "7180\n",
      "7223\n",
      "Moviepy - Building video ExtractedVideos/100_Men_10m_Prel_London2012.mp4.\n",
      "Moviepy - Writing video ExtractedVideos/100_Men_10m_Prel_London2012.mp4\n",
      "\n"
     ]
    },
    {
     "name": "stderr",
     "output_type": "stream",
     "text": [
      "                                                                \r"
     ]
    },
    {
     "name": "stdout",
     "output_type": "stream",
     "text": [
      "Moviepy - Done !\n",
      "Moviepy - video ready ExtractedVideos/100_Men_10m_Prel_London2012.mp4\n",
      "{'Sno': 100, 'Match name': 'Men_10m_Prel_London2012', 'Time': 7180, 'Name': 'NICHOLAS MCCROR?', 'Country': 'USA', 'Difficulty': '', 'Dive Position': 'TUCK', 'Somersaults': '3', 'Dive Group': 'REVERSE', 'Twists': None, 'Score': ([84.0, 8.0, 1.0, 8.0, 8.0, 45.0, 88.0], '0'), 'Final Score': ''}\n",
      "120 minutes and 47 seconds  dive started\n",
      "121 minutes and 25 seconds  dive scores announced\n",
      "DownloadedVideos/Men_10m_Prel_London2012.mp4\n",
      "ExtractedVideos/101_Men_10m_Prel_London2012.mp4\n",
      "7247\n",
      "7285\n",
      "Moviepy - Building video ExtractedVideos/101_Men_10m_Prel_London2012.mp4.\n",
      "Moviepy - Writing video ExtractedVideos/101_Men_10m_Prel_London2012.mp4\n",
      "\n"
     ]
    },
    {
     "name": "stderr",
     "output_type": "stream",
     "text": [
      "                                                              \r"
     ]
    },
    {
     "name": "stdout",
     "output_type": "stream",
     "text": [
      "Moviepy - Done !\n",
      "Moviepy - video ready ExtractedVideos/101_Men_10m_Prel_London2012.mp4\n",
      "{'Sno': 101, 'Match name': 'Men_10m_Prel_London2012', 'Time': 7247, 'Name': 'JOSE ANTONIO GUEF', 'Country': 'CUB', 'Difficulty': '3.4', 'Dive Position': 'TUCK', 'Somersaults': '3.4', 'Dive Group': 'ARMSTAND', 'Twists': None, 'Score': ([8.0, 885.0], '0'), 'Final Score': '95'}\n",
      "121 minutes and 34 seconds  dive started\n",
      "122 minutes and 10 seconds  dive scores announced\n",
      "DownloadedVideos/Men_10m_Prel_London2012.mp4\n",
      "ExtractedVideos/102_Men_10m_Prel_London2012.mp4\n",
      "7294\n",
      "7330\n",
      "Moviepy - Building video ExtractedVideos/102_Men_10m_Prel_London2012.mp4.\n",
      "Moviepy - Writing video ExtractedVideos/102_Men_10m_Prel_London2012.mp4\n",
      "\n"
     ]
    },
    {
     "name": "stderr",
     "output_type": "stream",
     "text": [
      "                                                              \r"
     ]
    },
    {
     "name": "stdout",
     "output_type": "stream",
     "text": [
      "Moviepy - Done !\n",
      "Moviepy - video ready ExtractedVideos/102_Men_10m_Prel_London2012.mp4\n",
      "{'Sno': 102, 'Match name': 'Men_10m_Prel_London2012', 'Time': 7294, 'Name': 'SEBASTIAN VILLA C/', 'Country': 'COL', 'Difficulty': '', 'Dive Position': 'TUCK', 'Somersaults': '4', 'Dive Group': 'FORWARD', 'Twists': None, 'Score': ([7.0, 7.0, 8.5, 7.0, 75.0, 7.0, 4.5], '0'), 'Final Score': '77'}\n",
      "122 minutes and 26 seconds  dive started\n",
      "123 minutes and 4 seconds  dive scores announced\n",
      "DownloadedVideos/Men_10m_Prel_London2012.mp4\n",
      "ExtractedVideos/103_Men_10m_Prel_London2012.mp4\n",
      "7346\n",
      "7384\n",
      "Moviepy - Building video ExtractedVideos/103_Men_10m_Prel_London2012.mp4.\n",
      "Moviepy - Writing video ExtractedVideos/103_Men_10m_Prel_London2012.mp4\n",
      "\n"
     ]
    },
    {
     "name": "stderr",
     "output_type": "stream",
     "text": [
      "                                                              \r"
     ]
    },
    {
     "name": "stdout",
     "output_type": "stream",
     "text": [
      "Moviepy - Done !\n",
      "Moviepy - video ready ExtractedVideos/103_Men_10m_Prel_London2012.mp4\n",
      "{'Sno': 103, 'Match name': 'Men_10m_Prel_London2012', 'Time': 7346, 'Name': 'DAvViID BOUDIA', 'Country': '', 'Difficulty': '', 'Dive Position': 'TUCK', 'Somersaults': '3', 'Dive Group': 'REVERSE', 'Twists': None, 'Score': ([4.5, 4.0, 8.5, 4.5, 5.0, 4.0, 4.5], '0'), 'Final Score': '44'}\n",
      "124 minutes and 14 seconds  dive started\n",
      "124 minutes and 50 seconds  dive scores announced\n",
      "DownloadedVideos/Men_10m_Prel_London2012.mp4\n",
      "ExtractedVideos/104_Men_10m_Prel_London2012.mp4\n",
      "7454\n",
      "7490\n",
      "Moviepy - Building video ExtractedVideos/104_Men_10m_Prel_London2012.mp4.\n",
      "Moviepy - Writing video ExtractedVideos/104_Men_10m_Prel_London2012.mp4\n",
      "\n"
     ]
    },
    {
     "name": "stderr",
     "output_type": "stream",
     "text": [
      "                                                              \r"
     ]
    },
    {
     "name": "stdout",
     "output_type": "stream",
     "text": [
      "Moviepy - Done !\n",
      "Moviepy - video ready ExtractedVideos/104_Men_10m_Prel_London2012.mp4\n",
      "{'Sno': 104, 'Match name': 'Men_10m_Prel_London2012', 'Time': 7454, 'Name': 'SASCHA KLEIN', 'Country': 'GER', 'Difficulty': '', 'Dive Position': 'PIKE', 'Somersaults': '3', 'Dive Group': 'BACK', 'Twists': None, 'Score': ([85.0, 8.5, 8.0, 8.5, 8.5, 8.0, 8.5], '0'), 'Final Score': ''}\n",
      "126 minutes and 0 seconds  dive started\n",
      "126 minutes and 54 seconds  dive scores announced\n",
      "DownloadedVideos/Men_10m_Prel_London2012.mp4\n",
      "ExtractedVideos/105_Men_10m_Prel_London2012.mp4\n",
      "7560\n",
      "7614\n",
      "Moviepy - Building video ExtractedVideos/105_Men_10m_Prel_London2012.mp4.\n",
      "Moviepy - Writing video ExtractedVideos/105_Men_10m_Prel_London2012.mp4\n",
      "\n"
     ]
    },
    {
     "name": "stderr",
     "output_type": "stream",
     "text": [
      "                                                                \r"
     ]
    },
    {
     "name": "stdout",
     "output_type": "stream",
     "text": [
      "Moviepy - Done !\n",
      "Moviepy - video ready ExtractedVideos/105_Men_10m_Prel_London2012.mp4\n",
      "{'Sno': 105, 'Match name': 'Men_10m_Prel_London2012', 'Time': 7560, 'Name': 'THOMAS DALEY', 'Country': 'GBR', 'Difficulty': '', 'Dive Position': 'TUCK', 'Somersaults': '4', 'Dive Group': 'FORWARD', 'Twists': None, 'Score': ([8.0, 7.5, 7.5, 8.0, 7.5, 7.5], '0'), 'Final Score': '83'}\n",
      "127 minutes and 8 seconds  dive started\n",
      "127 minutes and 47 seconds  dive scores announced\n",
      "DownloadedVideos/Men_10m_Prel_London2012.mp4\n",
      "ExtractedVideos/106_Men_10m_Prel_London2012.mp4\n",
      "7628\n",
      "7667\n",
      "Moviepy - Building video ExtractedVideos/106_Men_10m_Prel_London2012.mp4.\n",
      "Moviepy - Writing video ExtractedVideos/106_Men_10m_Prel_London2012.mp4\n",
      "\n"
     ]
    },
    {
     "name": "stderr",
     "output_type": "stream",
     "text": [
      "                                                              \r"
     ]
    },
    {
     "name": "stdout",
     "output_type": "stream",
     "text": [
      "Moviepy - Done !\n",
      "Moviepy - video ready ExtractedVideos/106_Men_10m_Prel_London2012.mp4\n",
      "{'Sno': 106, 'Match name': 'Men_10m_Prel_London2012', 'Time': 7628, 'Name': 'ANDREA CHIARABIN', 'Country': '', 'Difficulty': '', 'Dive Position': 'TUCK', 'Somersaults': '3', 'Dive Group': 'REVERSE', 'Twists': None, 'Score': ([5.0, 5.5, 45.0, 5.5], '0'), 'Final Score': ''}\n",
      "128 minutes and 12 seconds  dive started\n",
      "128 minutes and 43 seconds  dive scores announced\n",
      "DownloadedVideos/Men_10m_Prel_London2012.mp4\n",
      "ExtractedVideos/107_Men_10m_Prel_London2012.mp4\n",
      "7692\n",
      "7723\n",
      "Moviepy - Building video ExtractedVideos/107_Men_10m_Prel_London2012.mp4.\n",
      "Moviepy - Writing video ExtractedVideos/107_Men_10m_Prel_London2012.mp4\n",
      "\n"
     ]
    },
    {
     "name": "stderr",
     "output_type": "stream",
     "text": [
      "                                                              \r"
     ]
    },
    {
     "name": "stdout",
     "output_type": "stream",
     "text": [
      "Moviepy - Done !\n",
      "Moviepy - video ready ExtractedVideos/107_Men_10m_Prel_London2012.mp4\n",
      "{'Sno': 107, 'Match name': 'Men_10m_Prel_London2012', 'Time': 7692, 'Name': 'HUGO PARISI', 'Country': '', 'Difficulty': '3.6', 'Dive Position': 'FREE', 'Somersaults': '3.6', 'Dive Group': 'ARMSTAND', 'Twists': 2.5, 'Score': ([70.0, 7.0, 7.0], '0'), 'Final Score': '75'}\n",
      "131 minutes and 49 seconds  dive started\n",
      "132 minutes and 43 seconds  dive scores announced\n",
      "DownloadedVideos/Men_10m_Prel_London2012.mp4\n",
      "ExtractedVideos/108_Men_10m_Prel_London2012.mp4\n",
      "7909\n",
      "7963\n",
      "Moviepy - Building video ExtractedVideos/108_Men_10m_Prel_London2012.mp4.\n",
      "Moviepy - Writing video ExtractedVideos/108_Men_10m_Prel_London2012.mp4\n",
      "\n"
     ]
    },
    {
     "name": "stderr",
     "output_type": "stream",
     "text": [
      "                                                                \r"
     ]
    },
    {
     "name": "stdout",
     "output_type": "stream",
     "text": [
      "Moviepy - Done !\n",
      "Moviepy - video ready ExtractedVideos/108_Men_10m_Prel_London2012.mp4\n",
      "{'Sno': 108, 'Match name': 'Men_10m_Prel_London2012', 'Time': 7909, 'Name': 'LIN YUE', 'Country': 'CHN', 'Difficulty': '', 'Dive Position': 'FREE', 'Somersaults': '3.6', 'Dive Group': 'ARMSTAND', 'Twists': 2.5, 'Score': ([8.0, 8.5, 8.5, 8.0, 8.0, 8.5], '0'), 'Final Score': '91.80'}\n",
      "132 minutes and 59 seconds  dive started\n",
      "133 minutes and 39 seconds  dive scores announced\n",
      "DownloadedVideos/Men_10m_Prel_London2012.mp4\n",
      "ExtractedVideos/109_Men_10m_Prel_London2012.mp4\n",
      "7979\n",
      "8019\n",
      "Moviepy - Building video ExtractedVideos/109_Men_10m_Prel_London2012.mp4.\n",
      "Moviepy - Writing video ExtractedVideos/109_Men_10m_Prel_London2012.mp4\n",
      "\n"
     ]
    },
    {
     "name": "stderr",
     "output_type": "stream",
     "text": [
      "                                                               \r"
     ]
    },
    {
     "name": "stdout",
     "output_type": "stream",
     "text": [
      "Moviepy - Done !\n",
      "Moviepy - video ready ExtractedVideos/109_Men_10m_Prel_London2012.mp4\n",
      "{'Sno': 109, 'Match name': 'Men_10m_Prel_London2012', 'Time': 7979, 'Name': 'VicTOR ORTEGA SE', 'Country': 'coL', 'Difficulty': '3.3', 'Dive Position': 'TUCK', 'Somersaults': '37', 'Dive Group': 'BACK', 'Twists': None, 'Score': ([8.0, 8.5, 8.5, 8.5, 8.5, 8.5, 8.5], '0'), 'Final Score': ''}\n",
      "133 minutes and 56 seconds  dive started\n",
      "134 minutes and 23 seconds  dive scores announced\n",
      "DownloadedVideos/Men_10m_Prel_London2012.mp4\n",
      "ExtractedVideos/110_Men_10m_Prel_London2012.mp4\n",
      "8036\n",
      "8063\n",
      "Moviepy - Building video ExtractedVideos/110_Men_10m_Prel_London2012.mp4.\n",
      "Moviepy - Writing video ExtractedVideos/110_Men_10m_Prel_London2012.mp4\n",
      "\n"
     ]
    },
    {
     "name": "stderr",
     "output_type": "stream",
     "text": [
      "                                                              \r"
     ]
    },
    {
     "name": "stdout",
     "output_type": "stream",
     "text": [
      "Moviepy - Done !\n",
      "Moviepy - video ready ExtractedVideos/110_Men_10m_Prel_London2012.mp4\n",
      "{'Sno': 110, 'Match name': 'Men_10m_Prel_London2012', 'Time': 8036, 'Name': 'ANTON ZAKHAROV', 'Country': 'UKR', 'Difficulty': '3.5', 'Dive Position': 'PIKE', 'Somersaults': '3.5', 'Dive Group': 'ARMSTAND', 'Twists': None, 'Score': ([4.5, 48.0], '00'), 'Final Score': '47'}\n",
      "134 minutes and 48 seconds  dive started\n",
      "135 minutes and 23 seconds  dive scores announced\n",
      "DownloadedVideos/Men_10m_Prel_London2012.mp4\n",
      "ExtractedVideos/111_Men_10m_Prel_London2012.mp4\n",
      "8088\n",
      "8123\n",
      "Moviepy - Building video ExtractedVideos/111_Men_10m_Prel_London2012.mp4.\n",
      "Moviepy - Writing video ExtractedVideos/111_Men_10m_Prel_London2012.mp4\n",
      "\n"
     ]
    },
    {
     "name": "stderr",
     "output_type": "stream",
     "text": [
      "                                                              \r"
     ]
    },
    {
     "name": "stdout",
     "output_type": "stream",
     "text": [
      "Moviepy - Done !\n",
      "Moviepy - video ready ExtractedVideos/111_Men_10m_Prel_London2012.mp4\n",
      "{'Sno': 111, 'Match name': 'Men_10m_Prel_London2012', 'Time': 8088, 'Name': 'TIMOFEI HORDEICHI', 'Country': 'BLR', 'Difficulty': '3.3', 'Dive Position': 'TUCK', 'Somersaults': '3', 'Dive Group': 'BACK', 'Twists': None, 'Score': ([7.0, 8.8, 6.5, 48.0, 6.5], '0'), 'Final Score': ''}\n",
      "135 minutes and 41 seconds  dive started\n",
      "136 minutes and 18 seconds  dive scores announced\n",
      "DownloadedVideos/Men_10m_Prel_London2012.mp4\n",
      "ExtractedVideos/112_Men_10m_Prel_London2012.mp4\n",
      "8141\n",
      "8178\n",
      "Moviepy - Building video ExtractedVideos/112_Men_10m_Prel_London2012.mp4.\n",
      "Moviepy - Writing video ExtractedVideos/112_Men_10m_Prel_London2012.mp4\n",
      "\n"
     ]
    },
    {
     "name": "stderr",
     "output_type": "stream",
     "text": [
      "                                                              \r"
     ]
    },
    {
     "name": "stdout",
     "output_type": "stream",
     "text": [
      "Moviepy - Done !\n",
      "Moviepy - video ready ExtractedVideos/112_Men_10m_Prel_London2012.mp4\n",
      "{'Sno': 112, 'Match name': 'Men_10m_Prel_London2012', 'Time': 8141, 'Name': 'aR! HYUN JU', 'Country': 'PRK', 'Difficulty': '3.3', 'Dive Position': 'TUCK', 'Somersaults': '3', 'Dive Group': 'REVERSE', 'Twists': None, 'Score': ([6.0, 5.6, 6.0, 5.5, 6.6, 8.0, 5.5], '0'), 'Final Score': '56.10'}\n",
      "136 minutes and 38 seconds  dive started\n",
      "137 minutes and 32 seconds  dive scores announced\n",
      "DownloadedVideos/Men_10m_Prel_London2012.mp4\n",
      "ExtractedVideos/113_Men_10m_Prel_London2012.mp4\n",
      "8198\n",
      "8252\n",
      "Moviepy - Building video ExtractedVideos/113_Men_10m_Prel_London2012.mp4.\n",
      "Moviepy - Writing video ExtractedVideos/113_Men_10m_Prel_London2012.mp4\n",
      "\n"
     ]
    },
    {
     "name": "stderr",
     "output_type": "stream",
     "text": [
      "                                                                \r"
     ]
    },
    {
     "name": "stdout",
     "output_type": "stream",
     "text": [
      "Moviepy - Done !\n",
      "Moviepy - video ready ExtractedVideos/113_Men_10m_Prel_London2012.mp4\n",
      "{'Sno': 113, 'Match name': 'Men_10m_Prel_London2012', 'Time': 8198, 'Name': 'JAMES CONNOR', 'Country': 'AUS', 'Difficulty': '', 'Dive Position': 'TUCK', 'Somersaults': '3', 'Dive Group': 'REVERSE', 'Twists': None, 'Score': ([7.5, 7.0, 7.5, 7.5, 7.5, 7.5, 7.0], '0'), 'Final Score': '74.25'}\n",
      "137 minutes and 48 seconds  dive started\n",
      "138 minutes and 34 seconds  dive scores announced\n",
      "DownloadedVideos/Men_10m_Prel_London2012.mp4\n",
      "ExtractedVideos/114_Men_10m_Prel_London2012.mp4\n",
      "8268\n",
      "8314\n",
      "Moviepy - Building video ExtractedVideos/114_Men_10m_Prel_London2012.mp4.\n",
      "Moviepy - Writing video ExtractedVideos/114_Men_10m_Prel_London2012.mp4\n",
      "\n"
     ]
    },
    {
     "name": "stderr",
     "output_type": "stream",
     "text": [
      "                                                                \r"
     ]
    },
    {
     "name": "stdout",
     "output_type": "stream",
     "text": [
      "Moviepy - Done !\n",
      "Moviepy - video ready ExtractedVideos/114_Men_10m_Prel_London2012.mp4\n",
      "{'Sno': 114, 'Match name': 'Men_10m_Prel_London2012', 'Time': 8268, 'Name': '', 'Country': '', 'Difficulty': '', 'Dive Position': '', 'Somersaults': None, 'Dive Group': '', 'Twists': None, 'Score': ([7.5, 7.0, 7.5, 7.0, 8.0, 7.5, 7.5], '0'), 'Final Score': '81'}\n",
      "139 minutes and 41 seconds  dive started\n",
      "140 minutes and 22 seconds  dive scores announced\n",
      "DownloadedVideos/Men_10m_Prel_London2012.mp4\n",
      "ExtractedVideos/115_Men_10m_Prel_London2012.mp4\n",
      "8381\n",
      "8422\n",
      "Moviepy - Building video ExtractedVideos/115_Men_10m_Prel_London2012.mp4.\n",
      "Moviepy - Writing video ExtractedVideos/115_Men_10m_Prel_London2012.mp4\n",
      "\n"
     ]
    },
    {
     "name": "stderr",
     "output_type": "stream",
     "text": [
      "                                                                \r"
     ]
    },
    {
     "name": "stdout",
     "output_type": "stream",
     "text": [
      "Moviepy - Done !\n",
      "Moviepy - video ready ExtractedVideos/115_Men_10m_Prel_London2012.mp4\n",
      "{'Sno': 115, 'Match name': 'Men_10m_Prel_London2012', 'Time': 8381, 'Name': 'OLEKSANDR BONDA', 'Country': 'UKR', 'Difficulty': '', 'Dive Position': 'TUCK', 'Somersaults': '3', 'Dive Group': 'REVERSE', 'Twists': None, 'Score': ([9.0, 8.5, 9.0, 9.0, 8.0, 8.0, 8.5], '0'), 'Final Score': ''}\n",
      "140 minutes and 39 seconds  dive started\n",
      "141 minutes and 17 seconds  dive scores announced\n",
      "DownloadedVideos/Men_10m_Prel_London2012.mp4\n",
      "ExtractedVideos/116_Men_10m_Prel_London2012.mp4\n",
      "8439\n",
      "8477\n",
      "Moviepy - Building video ExtractedVideos/116_Men_10m_Prel_London2012.mp4.\n",
      "Moviepy - Writing video ExtractedVideos/116_Men_10m_Prel_London2012.mp4\n",
      "\n"
     ]
    },
    {
     "name": "stderr",
     "output_type": "stream",
     "text": [
      "                                                              \r"
     ]
    },
    {
     "name": "stdout",
     "output_type": "stream",
     "text": [
      "Moviepy - Done !\n",
      "Moviepy - video ready ExtractedVideos/116_Men_10m_Prel_London2012.mp4\n",
      "{'Sno': 116, 'Match name': 'Men_10m_Prel_London2012', 'Time': 8439, 'Name': 'PARK JIHO', 'Country': 'KOR', 'Difficulty': '3.2', 'Dive Position': 'PIKE', 'Somersaults': '2', 'Dive Group': 'BACK', 'Twists': '5', 'Score': ([7.5, 7.0, 7.5, 7.0, 7.5, 7.5], '0'), 'Final Score': '72.00'}\n",
      "142 minutes and 47 seconds  dive started\n",
      "143 minutes and 28 seconds  dive scores announced\n",
      "DownloadedVideos/Men_10m_Prel_London2012.mp4\n",
      "ExtractedVideos/117_Men_10m_Prel_London2012.mp4\n",
      "8567\n",
      "8608\n",
      "Moviepy - Building video ExtractedVideos/117_Men_10m_Prel_London2012.mp4.\n",
      "Moviepy - Writing video ExtractedVideos/117_Men_10m_Prel_London2012.mp4\n",
      "\n"
     ]
    },
    {
     "name": "stderr",
     "output_type": "stream",
     "text": [
      "                                                                \r"
     ]
    },
    {
     "name": "stdout",
     "output_type": "stream",
     "text": [
      "Moviepy - Done !\n",
      "Moviepy - video ready ExtractedVideos/117_Men_10m_Prel_London2012.mp4\n",
      "{'Sno': 117, 'Match name': 'Men_10m_Prel_London2012', 'Time': 8567, 'Name': 'GERMAN SANCHEZ !', 'Country': 'MEX', 'Difficulty': '3.3', 'Dive Position': 'TUCK', 'Somersaults': '37', 'Dive Group': 'REVERSE', 'Twists': None, 'Score': ([8.5, 8.5, 8.5, 8.0, 85.0, 85.0, 8.5], '0'), 'Final Score': ''}\n",
      "143 minutes and 43 seconds  dive started\n",
      "144 minutes and 27 seconds  dive scores announced\n",
      "DownloadedVideos/Men_10m_Prel_London2012.mp4\n",
      "ExtractedVideos/118_Men_10m_Prel_London2012.mp4\n",
      "8623\n",
      "8667\n",
      "Moviepy - Building video ExtractedVideos/118_Men_10m_Prel_London2012.mp4.\n",
      "Moviepy - Writing video ExtractedVideos/118_Men_10m_Prel_London2012.mp4\n",
      "\n"
     ]
    },
    {
     "name": "stderr",
     "output_type": "stream",
     "text": [
      "                                                                \r"
     ]
    },
    {
     "name": "stdout",
     "output_type": "stream",
     "text": [
      "Moviepy - Done !\n",
      "Moviepy - video ready ExtractedVideos/118_Men_10m_Prel_London2012.mp4\n",
      "{'Sno': 118, 'Match name': 'Men_10m_Prel_London2012', 'Time': 8623, 'Name': 'RILEY MCCORMICK', 'Country': 'CAN', 'Difficulty': '', 'Dive Position': 'TUCK', 'Somersaults': '3', 'Dive Group': 'REVERSE', 'Twists': None, 'Score': ([2.0, 5.0, 5.0, 85.0, 68.0, 62.0], '0'), 'Final Score': '64'}\n",
      "144 minutes and 49 seconds  dive started\n",
      "145 minutes and 33 seconds  dive scores announced\n",
      "DownloadedVideos/Men_10m_Prel_London2012.mp4\n",
      "ExtractedVideos/119_Men_10m_Prel_London2012.mp4\n",
      "8689\n",
      "8733\n",
      "Moviepy - Building video ExtractedVideos/119_Men_10m_Prel_London2012.mp4.\n",
      "Moviepy - Writing video ExtractedVideos/119_Men_10m_Prel_London2012.mp4\n",
      "\n"
     ]
    },
    {
     "name": "stderr",
     "output_type": "stream",
     "text": [
      "                                                                \r"
     ]
    },
    {
     "name": "stdout",
     "output_type": "stream",
     "text": [
      "Moviepy - Done !\n",
      "Moviepy - video ready ExtractedVideos/119_Men_10m_Prel_London2012.mp4\n",
      "{'Sno': 119, 'Match name': 'Men_10m_Prel_London2012', 'Time': 8689, 'Name': 'MATTHEW MITCHAM', 'Country': 'AUS', 'Difficulty': '3.3', 'Dive Position': 'TUCK', 'Somersaults': '3.3', 'Dive Group': 'ARMSTAND', 'Twists': None, 'Score': ([7.0, 8.5, 6.5, 7.0, 6.5, 7.5, 8.5], '0'), 'Final Score': '66'}\n",
      "145 minutes and 55 seconds  dive started\n",
      "146 minutes and 32 seconds  dive scores announced\n",
      "DownloadedVideos/Men_10m_Prel_London2012.mp4\n",
      "ExtractedVideos/120_Men_10m_Prel_London2012.mp4\n",
      "8755\n",
      "8792\n",
      "Moviepy - Building video ExtractedVideos/120_Men_10m_Prel_London2012.mp4.\n",
      "Moviepy - Writing video ExtractedVideos/120_Men_10m_Prel_London2012.mp4\n",
      "\n"
     ]
    },
    {
     "name": "stderr",
     "output_type": "stream",
     "text": [
      "                                                              \r"
     ]
    },
    {
     "name": "stdout",
     "output_type": "stream",
     "text": [
      "Moviepy - Done !\n",
      "Moviepy - video ready ExtractedVideos/120_Men_10m_Prel_London2012.mp4\n",
      "{'Sno': 120, 'Match name': 'Men_10m_Prel_London2012', 'Time': 8755, 'Name': 'AMUND NORDAL GISi', 'Country': 'NOR', 'Difficulty': '', 'Dive Position': 'FREE', 'Somersaults': '3.1', 'Dive Group': 'ARMSTAND', 'Twists': '1', 'Score': ([8.0, 7.5, 7.5, 7.85, 7.0, 7.8], '0'), 'Final Score': '69'}\n",
      "146 minutes and 47 seconds  dive started\n",
      "147 minutes and 24 seconds  dive scores announced\n",
      "DownloadedVideos/Men_10m_Prel_London2012.mp4\n",
      "ExtractedVideos/121_Men_10m_Prel_London2012.mp4\n",
      "8807\n",
      "8844\n",
      "Moviepy - Building video ExtractedVideos/121_Men_10m_Prel_London2012.mp4.\n",
      "Moviepy - Writing video ExtractedVideos/121_Men_10m_Prel_London2012.mp4\n",
      "\n"
     ]
    },
    {
     "name": "stderr",
     "output_type": "stream",
     "text": [
      "                                                              \r"
     ]
    },
    {
     "name": "stdout",
     "output_type": "stream",
     "text": [
      "Moviepy - Done !\n",
      "Moviepy - video ready ExtractedVideos/121_Men_10m_Prel_London2012.mp4\n",
      "{'Sno': 121, 'Match name': 'Men_10m_Prel_London2012', 'Time': 8807, 'Name': \"FRANCESCO DELL'Ut\", 'Country': '', 'Difficulty': '3.3', 'Dive Position': 'TUCK', 'Somersaults': '3', 'Dive Group': 'REVERSE', 'Twists': None, 'Score': ([], '0'), 'Final Score': ''}\n",
      "147 minutes and 46 seconds  dive started\n",
      "148 minutes and 32 seconds  dive scores announced\n",
      "DownloadedVideos/Men_10m_Prel_London2012.mp4\n",
      "ExtractedVideos/122_Men_10m_Prel_London2012.mp4\n",
      "8866\n",
      "8912\n",
      "Moviepy - Building video ExtractedVideos/122_Men_10m_Prel_London2012.mp4.\n",
      "Moviepy - Writing video ExtractedVideos/122_Men_10m_Prel_London2012.mp4\n",
      "\n"
     ]
    },
    {
     "name": "stderr",
     "output_type": "stream",
     "text": [
      "                                                                \r"
     ]
    },
    {
     "name": "stdout",
     "output_type": "stream",
     "text": [
      "Moviepy - Done !\n",
      "Moviepy - video ready ExtractedVideos/122_Men_10m_Prel_London2012.mp4\n",
      "{'Sno': 122, 'Match name': 'Men_10m_Prel_London2012', 'Time': 8866, 'Name': 'CHRISTOFER ESKILS', 'Country': 'SWE', 'Difficulty': '3.3', 'Dive Position': 'TUCK', 'Somersaults': '3', 'Dive Group': 'REVERSE', 'Twists': None, 'Score': ([4.5, 4.0, 4.0, 4.5, 4.0, 45.0, 45.0], '0'), 'Final Score': ''}\n",
      "148 minutes and 52 seconds  dive started\n",
      "149 minutes and 28 seconds  dive scores announced\n",
      "DownloadedVideos/Men_10m_Prel_London2012.mp4\n",
      "ExtractedVideos/123_Men_10m_Prel_London2012.mp4\n",
      "8932\n",
      "8968\n",
      "Moviepy - Building video ExtractedVideos/123_Men_10m_Prel_London2012.mp4.\n",
      "Moviepy - Writing video ExtractedVideos/123_Men_10m_Prel_London2012.mp4\n",
      "\n"
     ]
    },
    {
     "name": "stderr",
     "output_type": "stream",
     "text": [
      "                                                              \r"
     ]
    },
    {
     "name": "stdout",
     "output_type": "stream",
     "text": [
      "Moviepy - Done !\n",
      "Moviepy - video ready ExtractedVideos/123_Men_10m_Prel_London2012.mp4\n",
      "{'Sno': 123, 'Match name': 'Men_10m_Prel_London2012', 'Time': 8932, 'Name': '', 'Country': 'CAN', 'Difficulty': '', 'Dive Position': 'TUCK', 'Somersaults': '37', 'Dive Group': 'BACK', 'Twists': None, 'Score': ([8.0, 8.5, 6.5, 8.0, 5.0, 8.0, 5.0], '0'), 'Final Score': '49'}\n",
      "150 minutes and 46 seconds  dive started\n",
      "151 minutes and 41 seconds  dive scores announced\n",
      "DownloadedVideos/Men_10m_Prel_London2012.mp4\n",
      "ExtractedVideos/124_Men_10m_Prel_London2012.mp4\n",
      "9046\n",
      "9101\n",
      "Moviepy - Building video ExtractedVideos/124_Men_10m_Prel_London2012.mp4.\n",
      "Moviepy - Writing video ExtractedVideos/124_Men_10m_Prel_London2012.mp4\n",
      "\n"
     ]
    },
    {
     "name": "stderr",
     "output_type": "stream",
     "text": [
      "                                                                \r"
     ]
    },
    {
     "name": "stdout",
     "output_type": "stream",
     "text": [
      "Moviepy - Done !\n",
      "Moviepy - video ready ExtractedVideos/124_Men_10m_Prel_London2012.mp4\n",
      "{'Sno': 124, 'Match name': 'Men_10m_Prel_London2012', 'Time': 9046, 'Name': '', 'Country': 'MEX', 'Difficulty': '3.3', 'Dive Position': 'TUCK', 'Somersaults': '37', 'Dive Group': 'REVERSE', 'Twists': None, 'Score': ([85.0, 9.0, 85.0], '0'), 'Final Score': '85'}\n",
      "152 minutes and 8 seconds  dive started\n",
      "152 minutes and 41 seconds  dive scores announced\n",
      "DownloadedVideos/Men_10m_Prel_London2012.mp4\n",
      "ExtractedVideos/125_Men_10m_Prel_London2012.mp4\n",
      "9128\n",
      "9161\n",
      "Moviepy - Building video ExtractedVideos/125_Men_10m_Prel_London2012.mp4.\n",
      "Moviepy - Writing video ExtractedVideos/125_Men_10m_Prel_London2012.mp4\n",
      "\n"
     ]
    },
    {
     "name": "stderr",
     "output_type": "stream",
     "text": [
      "                                                              \r"
     ]
    },
    {
     "name": "stdout",
     "output_type": "stream",
     "text": [
      "Moviepy - Done !\n",
      "Moviepy - video ready ExtractedVideos/125_Men_10m_Prel_London2012.mp4\n",
      "{'Sno': 125, 'Match name': 'Men_10m_Prel_London2012', 'Time': 9128, 'Name': 'NicHOLAS MCCROR)', 'Country': 'USA', 'Difficulty': '3.3', 'Dive Position': 'TUCK', 'Somersaults': '3', 'Dive Group': 'BACK', 'Twists': None, 'Score': ([8.0, 8.0, 8.0, 6.0], '0'), 'Final Score': ''}\n",
      "152 minutes and 52 seconds  dive started\n",
      "153 minutes and 34 seconds  dive scores announced\n",
      "DownloadedVideos/Men_10m_Prel_London2012.mp4\n",
      "ExtractedVideos/126_Men_10m_Prel_London2012.mp4\n",
      "9172\n",
      "9214\n",
      "Moviepy - Building video ExtractedVideos/126_Men_10m_Prel_London2012.mp4.\n",
      "Moviepy - Writing video ExtractedVideos/126_Men_10m_Prel_London2012.mp4\n",
      "\n"
     ]
    },
    {
     "name": "stderr",
     "output_type": "stream",
     "text": [
      "                                                                \r"
     ]
    },
    {
     "name": "stdout",
     "output_type": "stream",
     "text": [
      "Moviepy - Done !\n",
      "Moviepy - video ready ExtractedVideos/126_Men_10m_Prel_London2012.mp4\n",
      "{'Sno': 126, 'Match name': 'Men_10m_Prel_London2012', 'Time': 9172, 'Name': 'JOSE ANTONIO GUEF', 'Country': '', 'Difficulty': '', 'Dive Position': 'TUCK', 'Somersaults': '3', 'Dive Group': 'REVERSE', 'Twists': None, 'Score': ([], '0'), 'Final Score': ''}\n",
      "153 minutes and 47 seconds  dive started\n",
      "154 minutes and 23 seconds  dive scores announced\n",
      "DownloadedVideos/Men_10m_Prel_London2012.mp4\n",
      "ExtractedVideos/127_Men_10m_Prel_London2012.mp4\n",
      "9227\n",
      "9263\n",
      "Moviepy - Building video ExtractedVideos/127_Men_10m_Prel_London2012.mp4.\n",
      "Moviepy - Writing video ExtractedVideos/127_Men_10m_Prel_London2012.mp4\n",
      "\n"
     ]
    },
    {
     "name": "stderr",
     "output_type": "stream",
     "text": [
      "                                                              \r"
     ]
    },
    {
     "name": "stdout",
     "output_type": "stream",
     "text": [
      "Moviepy - Done !\n",
      "Moviepy - video ready ExtractedVideos/127_Men_10m_Prel_London2012.mp4\n",
      "{'Sno': 127, 'Match name': 'Men_10m_Prel_London2012', 'Time': 9227, 'Name': 'SEBASTIAN VILLA C/', 'Country': 'COoL', 'Difficulty': '', 'Dive Position': 'TUCK', 'Somersaults': '3', 'Dive Group': 'BACK', 'Twists': None, 'Score': ([8.5], '0'), 'Final Score': '80'}\n",
      "154 minutes and 41 seconds  dive started\n",
      "155 minutes and 16 seconds  dive scores announced\n",
      "DownloadedVideos/Men_10m_Prel_London2012.mp4\n",
      "ExtractedVideos/128_Men_10m_Prel_London2012.mp4\n",
      "9281\n",
      "9316\n",
      "Moviepy - Building video ExtractedVideos/128_Men_10m_Prel_London2012.mp4.\n",
      "Moviepy - Writing video ExtractedVideos/128_Men_10m_Prel_London2012.mp4\n",
      "\n"
     ]
    },
    {
     "name": "stderr",
     "output_type": "stream",
     "text": [
      "                                                              \r"
     ]
    },
    {
     "name": "stdout",
     "output_type": "stream",
     "text": [
      "Moviepy - Done !\n",
      "Moviepy - video ready ExtractedVideos/128_Men_10m_Prel_London2012.mp4\n",
      "{'Sno': 128, 'Match name': 'Men_10m_Prel_London2012', 'Time': 9281, 'Name': 'DAviD BOUDIA', 'Country': '', 'Difficulty': '3.6', 'Dive Position': 'PIKE', 'Somersaults': '3', 'Dive Group': 'BACK', 'Twists': None, 'Score': ([75.0, 7.5, 7.5, 7.5, 7.8], '0'), 'Final Score': '81'}\n",
      "156 minutes and 16 seconds  dive started\n",
      "156 minutes and 47 seconds  dive scores announced\n",
      "DownloadedVideos/Men_10m_Prel_London2012.mp4\n",
      "ExtractedVideos/129_Men_10m_Prel_London2012.mp4\n",
      "9376\n",
      "9407\n",
      "Moviepy - Building video ExtractedVideos/129_Men_10m_Prel_London2012.mp4.\n",
      "Moviepy - Writing video ExtractedVideos/129_Men_10m_Prel_London2012.mp4\n",
      "\n"
     ]
    },
    {
     "name": "stderr",
     "output_type": "stream",
     "text": [
      "                                                              \r"
     ]
    },
    {
     "name": "stdout",
     "output_type": "stream",
     "text": [
      "Moviepy - Done !\n",
      "Moviepy - video ready ExtractedVideos/129_Men_10m_Prel_London2012.mp4\n",
      "{'Sno': 129, 'Match name': 'Men_10m_Prel_London2012', 'Time': 9376, 'Name': 'SASCHA KLEIN', 'Country': 'GER', 'Difficulty': '3.3', 'Dive Position': 'TUCK', 'Somersaults': '3', 'Dive Group': 'REVERSE', 'Twists': None, 'Score': ([8.0, 9.0, 8.5, 9.0, 9.0, 68.0, 8.0], '0'), 'Final Score': '89'}\n",
      "157 minutes and 6 seconds  dive started\n",
      "157 minutes and 56 seconds  dive scores announced\n",
      "DownloadedVideos/Men_10m_Prel_London2012.mp4\n",
      "ExtractedVideos/130_Men_10m_Prel_London2012.mp4\n",
      "9426\n",
      "9476\n",
      "Moviepy - Building video ExtractedVideos/130_Men_10m_Prel_London2012.mp4.\n",
      "Moviepy - Writing video ExtractedVideos/130_Men_10m_Prel_London2012.mp4\n",
      "\n"
     ]
    },
    {
     "name": "stderr",
     "output_type": "stream",
     "text": [
      "                                                                \r"
     ]
    },
    {
     "name": "stdout",
     "output_type": "stream",
     "text": [
      "Moviepy - Done !\n",
      "Moviepy - video ready ExtractedVideos/130_Men_10m_Prel_London2012.mp4\n",
      "{'Sno': 130, 'Match name': 'Men_10m_Prel_London2012', 'Time': 9426, 'Name': 'VaDIM KAPTUR', 'Country': 'BLR', 'Difficulty': '3.3', 'Dive Position': 'TuCK', 'Somersaults': '3', 'Dive Group': 'BACK', 'Twists': None, 'Score': ([6.5, 6.5, 8.5, 6.0, 55.0, 6.0], '0'), 'Final Score': '61.05'}\n",
      "158 minutes and 12 seconds  dive started\n",
      "159 minutes and 0 seconds  dive scores announced\n",
      "DownloadedVideos/Men_10m_Prel_London2012.mp4\n",
      "ExtractedVideos/131_Men_10m_Prel_London2012.mp4\n",
      "9492\n",
      "9540\n",
      "Moviepy - Building video ExtractedVideos/131_Men_10m_Prel_London2012.mp4.\n",
      "Moviepy - Writing video ExtractedVideos/131_Men_10m_Prel_London2012.mp4\n",
      "\n"
     ]
    },
    {
     "name": "stderr",
     "output_type": "stream",
     "text": [
      "                                                                \r"
     ]
    },
    {
     "name": "stdout",
     "output_type": "stream",
     "text": [
      "Moviepy - Done !\n",
      "Moviepy - video ready ExtractedVideos/131_Men_10m_Prel_London2012.mp4\n",
      "{'Sno': 131, 'Match name': 'Men_10m_Prel_London2012', 'Time': 9492, 'Name': 'THOMAS DALEY', 'Country': 'GBR', 'Difficulty': '3.6', 'Dive Position': 'PIKE', 'Somersaults': '3', 'Dive Group': 'BACK', 'Twists': None, 'Score': ([3.5, 3.5, 4.0, 8.0, 8.0, 8.0], '0'), 'Final Score': '39'}\n",
      "159 minutes and 58 seconds  dive started\n",
      "160 minutes and 46 seconds  dive scores announced\n",
      "DownloadedVideos/Men_10m_Prel_London2012.mp4\n",
      "ExtractedVideos/132_Men_10m_Prel_London2012.mp4\n",
      "9598\n",
      "9646\n",
      "Moviepy - Building video ExtractedVideos/132_Men_10m_Prel_London2012.mp4.\n",
      "Moviepy - Writing video ExtractedVideos/132_Men_10m_Prel_London2012.mp4\n",
      "\n"
     ]
    },
    {
     "name": "stderr",
     "output_type": "stream",
     "text": [
      "                                                                \r"
     ]
    },
    {
     "name": "stdout",
     "output_type": "stream",
     "text": [
      "Moviepy - Done !\n",
      "Moviepy - video ready ExtractedVideos/132_Men_10m_Prel_London2012.mp4\n",
      "{'Sno': 132, 'Match name': 'Men_10m_Prel_London2012', 'Time': 9598, 'Name': 'HUGO PARISI', 'Country': 'BRA', 'Difficulty': '3.3', 'Dive Position': 'TUCK', 'Somersaults': '3', 'Dive Group': 'REVERSE', 'Twists': None, 'Score': ([7.0, 8.5, 6.5], '0'), 'Final Score': '66'}\n",
      "160 minutes and 59 seconds  dive started\n",
      "161 minutes and 44 seconds  dive scores announced\n",
      "DownloadedVideos/Men_10m_Prel_London2012.mp4\n",
      "ExtractedVideos/133_Men_10m_Prel_London2012.mp4\n",
      "9659\n",
      "9704\n",
      "Moviepy - Building video ExtractedVideos/133_Men_10m_Prel_London2012.mp4.\n",
      "Moviepy - Writing video ExtractedVideos/133_Men_10m_Prel_London2012.mp4\n",
      "\n"
     ]
    },
    {
     "name": "stderr",
     "output_type": "stream",
     "text": [
      "                                                                \r"
     ]
    },
    {
     "name": "stdout",
     "output_type": "stream",
     "text": [
      "Moviepy - Done !\n",
      "Moviepy - video ready ExtractedVideos/133_Men_10m_Prel_London2012.mp4\n",
      "{'Sno': 133, 'Match name': 'Men_10m_Prel_London2012', 'Time': 9659, 'Name': 'PETER WATERFIELD', 'Country': '', 'Difficulty': '3.3', 'Dive Position': 'TUCK', 'Somersaults': '3', 'Dive Group': 'REVERSE', 'Twists': None, 'Score': ([8.5, 6.5, 6.5, 7.0], '0'), 'Final Score': ''}\n",
      "163 minutes and 17 seconds  dive started\n",
      "164 minutes and 9 seconds  dive scores announced\n",
      "DownloadedVideos/Men_10m_Prel_London2012.mp4\n",
      "ExtractedVideos/134_Men_10m_Prel_London2012.mp4\n",
      "9797\n",
      "9849\n",
      "Moviepy - Building video ExtractedVideos/134_Men_10m_Prel_London2012.mp4.\n",
      "Moviepy - Writing video ExtractedVideos/134_Men_10m_Prel_London2012.mp4\n",
      "\n"
     ]
    },
    {
     "name": "stderr",
     "output_type": "stream",
     "text": [
      "                                                                \r"
     ]
    },
    {
     "name": "stdout",
     "output_type": "stream",
     "text": [
      "Moviepy - Done !\n",
      "Moviepy - video ready ExtractedVideos/134_Men_10m_Prel_London2012.mp4\n",
      "{'Sno': 134, 'Match name': 'Men_10m_Prel_London2012', 'Time': 9797, 'Name': 'GLEB GALPERIN', 'Country': 'RUS', 'Difficulty': '', 'Dive Position': 'PIKE', 'Somersaults': '2', 'Dive Group': 'BACK', 'Twists': 2.5, 'Score': ([7.5, 7.5, 7.5, 7.5, 6.5, 7.5, 1.5], '0'), 'Final Score': '81'}\n",
      "164 minutes and 38 seconds  dive started\n",
      "165 minutes and 16 seconds  dive scores announced\n",
      "DownloadedVideos/Men_10m_Prel_London2012.mp4\n",
      "ExtractedVideos/135_Men_10m_Prel_London2012.mp4\n",
      "9878\n",
      "9916\n",
      "Moviepy - Building video ExtractedVideos/135_Men_10m_Prel_London2012.mp4.\n",
      "Moviepy - Writing video ExtractedVideos/135_Men_10m_Prel_London2012.mp4\n",
      "\n"
     ]
    },
    {
     "name": "stderr",
     "output_type": "stream",
     "text": [
      "                                                              \r"
     ]
    },
    {
     "name": "stdout",
     "output_type": "stream",
     "text": [
      "Moviepy - Done !\n",
      "Moviepy - video ready ExtractedVideos/135_Men_10m_Prel_London2012.mp4\n",
      "{'Sno': 135, 'Match name': 'Men_10m_Prel_London2012', 'Time': 9878, 'Name': 'LIN YUE', 'Country': 'CHN', 'Difficulty': '3.6', 'Dive Position': 'PIKE', 'Somersaults': '27', 'Dive Group': 'BACK', 'Twists': 2.5, 'Score': ([8.5, 8.5, 8.0, 8.0, 7.5, 8.0, 8.0], '0'), 'Final Score': '86.40'}\n",
      "165 minutes and 33 seconds  dive started\n",
      "166 minutes and 5 seconds  dive scores announced\n",
      "DownloadedVideos/Men_10m_Prel_London2012.mp4\n",
      "ExtractedVideos/136_Men_10m_Prel_London2012.mp4\n",
      "9933\n",
      "9965\n",
      "Moviepy - Building video ExtractedVideos/136_Men_10m_Prel_London2012.mp4.\n",
      "Moviepy - Writing video ExtractedVideos/136_Men_10m_Prel_London2012.mp4\n",
      "\n"
     ]
    },
    {
     "name": "stderr",
     "output_type": "stream",
     "text": [
      "                                                              \r"
     ]
    },
    {
     "name": "stdout",
     "output_type": "stream",
     "text": [
      "Moviepy - Done !\n",
      "Moviepy - video ready ExtractedVideos/136_Men_10m_Prel_London2012.mp4\n",
      "{'Sno': 136, 'Match name': 'Men_10m_Prel_London2012', 'Time': 9933, 'Name': 'VICTOR ORTEGA SE|', 'Country': 'coL', 'Difficulty': '3.3', 'Dive Position': 'TUCK', 'Somersaults': '37', 'Dive Group': 'REVERSE', 'Twists': None, 'Score': ([7.5, 8.0, 7.5, 7.0, 7.5, 8.0, 7.5], '0'), 'Final Score': ''}\n",
      "167 minutes and 18 seconds  dive started\n",
      "167 minutes and 49 seconds  dive scores announced\n",
      "DownloadedVideos/Men_10m_Prel_London2012.mp4\n",
      "ExtractedVideos/137_Men_10m_Prel_London2012.mp4\n",
      "10038\n",
      "10069\n",
      "Moviepy - Building video ExtractedVideos/137_Men_10m_Prel_London2012.mp4.\n",
      "Moviepy - Writing video ExtractedVideos/137_Men_10m_Prel_London2012.mp4\n",
      "\n"
     ]
    },
    {
     "name": "stderr",
     "output_type": "stream",
     "text": [
      "                                                              \r"
     ]
    },
    {
     "name": "stdout",
     "output_type": "stream",
     "text": [
      "Moviepy - Done !\n",
      "Moviepy - video ready ExtractedVideos/137_Men_10m_Prel_London2012.mp4\n",
      "{'Sno': 137, 'Match name': 'Men_10m_Prel_London2012', 'Time': 10038, 'Name': 'TIMOFEI HORDEICHI,', 'Country': 'BLR', 'Difficulty': '3.3', 'Dive Position': 'TUCK', 'Somersaults': '31', 'Dive Group': 'REVERSE', 'Twists': None, 'Score': ([8.5, 8.0, 6.5, 5.0, 5.0, 8.5], '0'), 'Final Score': '51.15'}\n",
      "168 minutes and 19 seconds  dive started\n",
      "168 minutes and 48 seconds  dive scores announced\n",
      "DownloadedVideos/Men_10m_Prel_London2012.mp4\n",
      "ExtractedVideos/138_Men_10m_Prel_London2012.mp4\n",
      "10099\n",
      "10128\n",
      "Moviepy - Building video ExtractedVideos/138_Men_10m_Prel_London2012.mp4.\n",
      "Moviepy - Writing video ExtractedVideos/138_Men_10m_Prel_London2012.mp4\n",
      "\n"
     ]
    },
    {
     "name": "stderr",
     "output_type": "stream",
     "text": [
      "                                                              \r"
     ]
    },
    {
     "name": "stdout",
     "output_type": "stream",
     "text": [
      "Moviepy - Done !\n",
      "Moviepy - video ready ExtractedVideos/138_Men_10m_Prel_London2012.mp4\n",
      "{'Sno': 138, 'Match name': 'Men_10m_Prel_London2012', 'Time': 10099, 'Name': 'RI HYUN JU', 'Country': 'PRK', 'Difficulty': '3.2', 'Dive Position': 'PIKE', 'Somersaults': '2', 'Dive Group': 'BACK', 'Twists': 1.5, 'Score': ([8.0, 7.5, 8.0, 8.0, 7.5, 7.5, 7.5], '0'), 'Final Score': '73.60'}\n",
      "169 minutes and 16 seconds  dive started\n",
      "169 minutes and 59 seconds  dive scores announced\n",
      "DownloadedVideos/Men_10m_Prel_London2012.mp4\n",
      "ExtractedVideos/139_Men_10m_Prel_London2012.mp4\n",
      "10156\n",
      "10199\n",
      "Moviepy - Building video ExtractedVideos/139_Men_10m_Prel_London2012.mp4.\n",
      "Moviepy - Writing video ExtractedVideos/139_Men_10m_Prel_London2012.mp4\n",
      "\n"
     ]
    },
    {
     "name": "stderr",
     "output_type": "stream",
     "text": [
      "                                                                \r"
     ]
    },
    {
     "name": "stdout",
     "output_type": "stream",
     "text": [
      "Moviepy - Done !\n",
      "Moviepy - video ready ExtractedVideos/139_Men_10m_Prel_London2012.mp4\n",
      "{'Sno': 139, 'Match name': 'Men_10m_Prel_London2012', 'Time': 10156, 'Name': 'JAMES CONNOR', 'Country': 'AUS', 'Difficulty': '3.2', 'Dive Position': 'PIKE', 'Somersaults': '2', 'Dive Group': 'BACK', 'Twists': 1.5, 'Score': ([8.0, 7.0, 7.0, 7.5, 7.0, 7.0, 7.0], '0'), 'Final Score': '67.20'}\n",
      "170 minutes and 9 seconds  dive started\n",
      "170 minutes and 49 seconds  dive scores announced\n",
      "DownloadedVideos/Men_10m_Prel_London2012.mp4\n",
      "ExtractedVideos/140_Men_10m_Prel_London2012.mp4\n",
      "10209\n",
      "10249\n",
      "Moviepy - Building video ExtractedVideos/140_Men_10m_Prel_London2012.mp4.\n",
      "Moviepy - Writing video ExtractedVideos/140_Men_10m_Prel_London2012.mp4\n",
      "\n"
     ]
    },
    {
     "name": "stderr",
     "output_type": "stream",
     "text": [
      "                                                               \r"
     ]
    },
    {
     "name": "stdout",
     "output_type": "stream",
     "text": [
      "Moviepy - Done !\n",
      "Moviepy - video ready ExtractedVideos/140_Men_10m_Prel_London2012.mp4\n",
      "{'Sno': 140, 'Match name': 'Men_10m_Prel_London2012', 'Time': 10209, 'Name': 'MARTIN WOLFRAM', 'Country': '', 'Difficulty': '3.7', 'Dive Position': 'TUCK', 'Somersaults': '47', 'Dive Group': 'FORWARD', 'Twists': None, 'Score': ([8.5, 8.5, 8.5, 8.5, 8.0, 8.5, 8.5], '0'), 'Final Score': '94'}\n",
      "171 minutes and 13 seconds  dive started\n",
      "171 minutes and 58 seconds  dive scores announced\n",
      "DownloadedVideos/Men_10m_Prel_London2012.mp4\n",
      "ExtractedVideos/141_Men_10m_Prel_London2012.mp4\n",
      "10273\n",
      "10318\n",
      "Moviepy - Building video ExtractedVideos/141_Men_10m_Prel_London2012.mp4.\n",
      "Moviepy - Writing video ExtractedVideos/141_Men_10m_Prel_London2012.mp4\n",
      "\n"
     ]
    },
    {
     "name": "stderr",
     "output_type": "stream",
     "text": [
      "                                                                \r"
     ]
    },
    {
     "name": "stdout",
     "output_type": "stream",
     "text": [
      "Moviepy - Done !\n",
      "Moviepy - video ready ExtractedVideos/141_Men_10m_Prel_London2012.mp4\n",
      "{'Sno': 141, 'Match name': 'Men_10m_Prel_London2012', 'Time': 10273, 'Name': 'JEINKLER AGUIRRE', 'Country': '', 'Difficulty': '3.6', 'Dive Position': 'IKE', 'Somersaults': None, 'Dive Group': '', 'Twists': '202', 'Score': ([8.0, 8.0, 1.5, 7.5], '0'), 'Final Score': '84'}\n",
      "173 minutes and 21 seconds  dive started\n",
      "173 minutes and 59 seconds  dive scores announced\n",
      "DownloadedVideos/Men_10m_Prel_London2012.mp4\n",
      "ExtractedVideos/142_Men_10m_Prel_London2012.mp4\n",
      "10401\n",
      "10439\n",
      "Moviepy - Building video ExtractedVideos/142_Men_10m_Prel_London2012.mp4.\n",
      "Moviepy - Writing video ExtractedVideos/142_Men_10m_Prel_London2012.mp4\n",
      "\n"
     ]
    },
    {
     "name": "stderr",
     "output_type": "stream",
     "text": [
      "                                                              \r"
     ]
    },
    {
     "name": "stdout",
     "output_type": "stream",
     "text": [
      "Moviepy - Done !\n",
      "Moviepy - video ready ExtractedVideos/142_Men_10m_Prel_London2012.mp4\n",
      "{'Sno': 142, 'Match name': 'Men_10m_Prel_London2012', 'Time': 10401, 'Name': 'PARK JIHO', 'Country': '', 'Difficulty': '3.2', 'Dive Position': 'FREE', 'Somersaults': '3.2', 'Dive Group': 'ARMSTAND', 'Twists': 1.5, 'Score': ([7.5, 7.0, 7.0, 7.0, 7.5, 7.5, 7.0], '0'), 'Final Score': '68.80'}\n",
      "174 minutes and 15 seconds  dive started\n",
      "175 minutes and 15 seconds  dive scores announced\n",
      "DownloadedVideos/Men_10m_Prel_London2012.mp4\n",
      "ExtractedVideos/143_Men_10m_Prel_London2012.mp4\n",
      "10455\n",
      "10515\n",
      "Moviepy - Building video ExtractedVideos/143_Men_10m_Prel_London2012.mp4.\n",
      "Moviepy - Writing video ExtractedVideos/143_Men_10m_Prel_London2012.mp4\n",
      "\n"
     ]
    },
    {
     "name": "stderr",
     "output_type": "stream",
     "text": [
      "                                                                \r"
     ]
    },
    {
     "name": "stdout",
     "output_type": "stream",
     "text": [
      "Moviepy - Done !\n",
      "Moviepy - video ready ExtractedVideos/143_Men_10m_Prel_London2012.mp4\n",
      "{'Sno': 143, 'Match name': 'Men_10m_Prel_London2012', 'Time': 10455, 'Name': 'VICTOR MINIBAEV', 'Country': 'RUS', 'Difficulty': '3.6', 'Dive Position': 'PIKE', 'Somersaults': '27', 'Dive Group': 'BACK', 'Twists': '2', 'Score': ([7.5, 8.0, 8.0, 8.0, 8.5, 8.0, 8.0], '0'), 'Final Score': ''}\n",
      "176 minutes and 27 seconds  dive started\n",
      "177 minutes and 14 seconds  dive scores announced\n",
      "DownloadedVideos/Men_10m_Prel_London2012.mp4\n",
      "ExtractedVideos/144_Men_10m_Prel_London2012.mp4\n",
      "10587\n",
      "10634\n",
      "Moviepy - Building video ExtractedVideos/144_Men_10m_Prel_London2012.mp4.\n",
      "Moviepy - Writing video ExtractedVideos/144_Men_10m_Prel_London2012.mp4\n",
      "\n"
     ]
    },
    {
     "name": "stderr",
     "output_type": "stream",
     "text": [
      "                                                                \r"
     ]
    },
    {
     "name": "stdout",
     "output_type": "stream",
     "text": [
      "Moviepy - Done !\n",
      "Moviepy - video ready ExtractedVideos/144_Men_10m_Prel_London2012.mp4\n",
      "{'Sno': 144, 'Match name': 'Men_10m_Prel_London2012', 'Time': 10587, 'Name': 'RiLEY MCCORMICK', 'Country': 'CAN', 'Difficulty': '3.6', 'Dive Position': 'PIKE', 'Somersaults': '3', 'Dive Group': 'BACK', 'Twists': None, 'Score': ([8.0, 8.0, 8.0, 8.0, 8.0, 8.0], '0'), 'Final Score': '86'}\n"
     ]
    },
    {
     "ename": "KeyboardInterrupt",
     "evalue": "",
     "output_type": "error",
     "traceback": [
      "\u001b[1;31m---------------------------------------------------------------------------\u001b[0m",
      "\u001b[1;31mKeyboardInterrupt\u001b[0m                         Traceback (most recent call last)",
      "Cell \u001b[1;32mIn[5], line 3\u001b[0m\n\u001b[0;32m      1\u001b[0m templateLondon \u001b[38;5;241m=\u001b[39m cv2\u001b[38;5;241m.\u001b[39mimread(\u001b[38;5;124m'\u001b[39m\u001b[38;5;124mHelperImages/template_london.png\u001b[39m\u001b[38;5;124m'\u001b[39m, cv2\u001b[38;5;241m.\u001b[39mIMREAD_GRAYSCALE)\n\u001b[0;32m      2\u001b[0m templateResLondon \u001b[38;5;241m=\u001b[39m cv2\u001b[38;5;241m.\u001b[39mimread(\u001b[38;5;124m'\u001b[39m\u001b[38;5;124mHelperImages/template_res_london.png\u001b[39m\u001b[38;5;124m'\u001b[39m, cv2\u001b[38;5;241m.\u001b[39mIMREAD_GRAYSCALE)\n\u001b[1;32m----> 3\u001b[0m \u001b[43mextract_from_video\u001b[49m\u001b[43m(\u001b[49m\u001b[38;5;124;43m\"\u001b[39;49m\u001b[38;5;124;43mDownloadedVideos/Men_10m_Prel_London2012.mp4\u001b[39;49m\u001b[38;5;124;43m\"\u001b[39;49m\u001b[43m,\u001b[49m\u001b[38;5;124;43m\"\u001b[39;49m\u001b[38;5;124;43mMen_10m_Prel_London2012\u001b[39;49m\u001b[38;5;124;43m\"\u001b[39;49m\u001b[43m,\u001b[49m\u001b[43mtemplateLondon\u001b[49m\u001b[43m,\u001b[49m\u001b[43mtemplateResLondon\u001b[49m\u001b[43m)\u001b[49m\n",
      "Cell \u001b[1;32mIn[4], line 60\u001b[0m, in \u001b[0;36mextract_from_video\u001b[1;34m(filePath, videoName, template, templateRes)\u001b[0m\n\u001b[0;32m     57\u001b[0m gray \u001b[38;5;241m=\u001b[39m cv2\u001b[38;5;241m.\u001b[39mcvtColor(frame, cv2\u001b[38;5;241m.\u001b[39mCOLOR_BGR2GRAY)\n\u001b[0;32m     59\u001b[0m \u001b[38;5;66;03m# Use OCR to extract the text from the frame\u001b[39;00m\n\u001b[1;32m---> 60\u001b[0m text \u001b[38;5;241m=\u001b[39m \u001b[43mimage_to_string\u001b[49m\u001b[43m(\u001b[49m\u001b[43mgray\u001b[49m\u001b[43m,\u001b[49m\u001b[43mlang\u001b[49m\u001b[38;5;241;43m=\u001b[39;49m\u001b[38;5;124;43m\"\u001b[39;49m\u001b[38;5;124;43meng\u001b[39;49m\u001b[38;5;124;43m\"\u001b[39;49m\u001b[43m)\u001b[49m   \n\u001b[0;32m     62\u001b[0m words \u001b[38;5;241m=\u001b[39m text\u001b[38;5;241m.\u001b[39mlower()\u001b[38;5;241m.\u001b[39msplit()  \u001b[38;5;66;03m# split the text into a list of words\u001b[39;00m\n\u001b[0;32m     63\u001b[0m filtered_words \u001b[38;5;241m=\u001b[39m [word \u001b[38;5;28;01mfor\u001b[39;00m word \u001b[38;5;129;01min\u001b[39;00m words \u001b[38;5;28;01mif\u001b[39;00m (word \u001b[38;5;241m!=\u001b[39m \u001b[38;5;124m'\u001b[39m\u001b[38;5;124molympic\u001b[39m\u001b[38;5;124m'\u001b[39m \u001b[38;5;129;01mand\u001b[39;00m word \u001b[38;5;241m!=\u001b[39m \u001b[38;5;124m'\u001b[39m\u001b[38;5;124molympic\u001b[39m\u001b[38;5;124m'\u001b[39m \u001b[38;5;129;01mand\u001b[39;00m word\u001b[38;5;241m!=\u001b[39m\u001b[38;5;124m'\u001b[39m\u001b[38;5;124m2012\u001b[39m\u001b[38;5;124m'\u001b[39m \u001b[38;5;129;01mand\u001b[39;00m word\u001b[38;5;241m!=\u001b[39m\u001b[38;5;124m'\u001b[39m\u001b[38;5;124m201\u001b[39m\u001b[38;5;124m'\u001b[39m \u001b[38;5;129;01mand\u001b[39;00m word\u001b[38;5;241m!=\u001b[39m\u001b[38;5;124m'\u001b[39m\u001b[38;5;124mlondon\u001b[39m\u001b[38;5;124m'\u001b[39m \u001b[38;5;129;01mand\u001b[39;00m word\u001b[38;5;241m!=\u001b[39m\u001b[38;5;124m'\u001b[39m\u001b[38;5;124mlondon2012\u001b[39m\u001b[38;5;124m'\u001b[39m \u001b[38;5;129;01mand\u001b[39;00m word\u001b[38;5;241m!=\u001b[39m\u001b[38;5;124m\"\u001b[39m\u001b[38;5;124mlon\u001b[39m\u001b[38;5;124m\"\u001b[39m \u001b[38;5;129;01mand\u001b[39;00m word\u001b[38;5;241m!=\u001b[39m\u001b[38;5;124m\"\u001b[39m\u001b[38;5;124mlondo\u001b[39m\u001b[38;5;124m\"\u001b[39m) ]  \u001b[38;5;66;03m# use list comprehension to remove the word \"hello\"\u001b[39;00m\n",
      "File \u001b[1;32m~\\AppData\\Roaming\\Python\\Python310\\site-packages\\pytesseract\\pytesseract.py:423\u001b[0m, in \u001b[0;36mimage_to_string\u001b[1;34m(image, lang, config, nice, output_type, timeout)\u001b[0m\n\u001b[0;32m    418\u001b[0m \u001b[38;5;124;03m\"\"\"\u001b[39;00m\n\u001b[0;32m    419\u001b[0m \u001b[38;5;124;03mReturns the result of a Tesseract OCR run on the provided image to string\u001b[39;00m\n\u001b[0;32m    420\u001b[0m \u001b[38;5;124;03m\"\"\"\u001b[39;00m\n\u001b[0;32m    421\u001b[0m args \u001b[38;5;241m=\u001b[39m [image, \u001b[38;5;124m'\u001b[39m\u001b[38;5;124mtxt\u001b[39m\u001b[38;5;124m'\u001b[39m, lang, config, nice, timeout]\n\u001b[1;32m--> 423\u001b[0m \u001b[38;5;28;01mreturn\u001b[39;00m \u001b[43m{\u001b[49m\n\u001b[0;32m    424\u001b[0m \u001b[43m    \u001b[49m\u001b[43mOutput\u001b[49m\u001b[38;5;241;43m.\u001b[39;49m\u001b[43mBYTES\u001b[49m\u001b[43m:\u001b[49m\u001b[43m \u001b[49m\u001b[38;5;28;43;01mlambda\u001b[39;49;00m\u001b[43m:\u001b[49m\u001b[43m \u001b[49m\u001b[43mrun_and_get_output\u001b[49m\u001b[43m(\u001b[49m\u001b[38;5;241;43m*\u001b[39;49m\u001b[43m(\u001b[49m\u001b[43margs\u001b[49m\u001b[43m \u001b[49m\u001b[38;5;241;43m+\u001b[39;49m\u001b[43m \u001b[49m\u001b[43m[\u001b[49m\u001b[38;5;28;43;01mTrue\u001b[39;49;00m\u001b[43m]\u001b[49m\u001b[43m)\u001b[49m\u001b[43m)\u001b[49m\u001b[43m,\u001b[49m\n\u001b[0;32m    425\u001b[0m \u001b[43m    \u001b[49m\u001b[43mOutput\u001b[49m\u001b[38;5;241;43m.\u001b[39;49m\u001b[43mDICT\u001b[49m\u001b[43m:\u001b[49m\u001b[43m \u001b[49m\u001b[38;5;28;43;01mlambda\u001b[39;49;00m\u001b[43m:\u001b[49m\u001b[43m \u001b[49m\u001b[43m{\u001b[49m\u001b[38;5;124;43m'\u001b[39;49m\u001b[38;5;124;43mtext\u001b[39;49m\u001b[38;5;124;43m'\u001b[39;49m\u001b[43m:\u001b[49m\u001b[43m \u001b[49m\u001b[43mrun_and_get_output\u001b[49m\u001b[43m(\u001b[49m\u001b[38;5;241;43m*\u001b[39;49m\u001b[43margs\u001b[49m\u001b[43m)\u001b[49m\u001b[43m}\u001b[49m\u001b[43m,\u001b[49m\n\u001b[0;32m    426\u001b[0m \u001b[43m    \u001b[49m\u001b[43mOutput\u001b[49m\u001b[38;5;241;43m.\u001b[39;49m\u001b[43mSTRING\u001b[49m\u001b[43m:\u001b[49m\u001b[43m \u001b[49m\u001b[38;5;28;43;01mlambda\u001b[39;49;00m\u001b[43m:\u001b[49m\u001b[43m \u001b[49m\u001b[43mrun_and_get_output\u001b[49m\u001b[43m(\u001b[49m\u001b[38;5;241;43m*\u001b[39;49m\u001b[43margs\u001b[49m\u001b[43m)\u001b[49m\u001b[43m,\u001b[49m\n\u001b[0;32m    427\u001b[0m \u001b[43m\u001b[49m\u001b[43m}\u001b[49m\u001b[43m[\u001b[49m\u001b[43moutput_type\u001b[49m\u001b[43m]\u001b[49m\u001b[43m(\u001b[49m\u001b[43m)\u001b[49m\n",
      "File \u001b[1;32m~\\AppData\\Roaming\\Python\\Python310\\site-packages\\pytesseract\\pytesseract.py:426\u001b[0m, in \u001b[0;36mimage_to_string.<locals>.<lambda>\u001b[1;34m()\u001b[0m\n\u001b[0;32m    418\u001b[0m \u001b[38;5;124;03m\"\"\"\u001b[39;00m\n\u001b[0;32m    419\u001b[0m \u001b[38;5;124;03mReturns the result of a Tesseract OCR run on the provided image to string\u001b[39;00m\n\u001b[0;32m    420\u001b[0m \u001b[38;5;124;03m\"\"\"\u001b[39;00m\n\u001b[0;32m    421\u001b[0m args \u001b[38;5;241m=\u001b[39m [image, \u001b[38;5;124m'\u001b[39m\u001b[38;5;124mtxt\u001b[39m\u001b[38;5;124m'\u001b[39m, lang, config, nice, timeout]\n\u001b[0;32m    423\u001b[0m \u001b[38;5;28;01mreturn\u001b[39;00m {\n\u001b[0;32m    424\u001b[0m     Output\u001b[38;5;241m.\u001b[39mBYTES: \u001b[38;5;28;01mlambda\u001b[39;00m: run_and_get_output(\u001b[38;5;241m*\u001b[39m(args \u001b[38;5;241m+\u001b[39m [\u001b[38;5;28;01mTrue\u001b[39;00m])),\n\u001b[0;32m    425\u001b[0m     Output\u001b[38;5;241m.\u001b[39mDICT: \u001b[38;5;28;01mlambda\u001b[39;00m: {\u001b[38;5;124m'\u001b[39m\u001b[38;5;124mtext\u001b[39m\u001b[38;5;124m'\u001b[39m: run_and_get_output(\u001b[38;5;241m*\u001b[39margs)},\n\u001b[1;32m--> 426\u001b[0m     Output\u001b[38;5;241m.\u001b[39mSTRING: \u001b[38;5;28;01mlambda\u001b[39;00m: \u001b[43mrun_and_get_output\u001b[49m\u001b[43m(\u001b[49m\u001b[38;5;241;43m*\u001b[39;49m\u001b[43margs\u001b[49m\u001b[43m)\u001b[49m,\n\u001b[0;32m    427\u001b[0m }[output_type]()\n",
      "File \u001b[1;32m~\\AppData\\Roaming\\Python\\Python310\\site-packages\\pytesseract\\pytesseract.py:288\u001b[0m, in \u001b[0;36mrun_and_get_output\u001b[1;34m(image, extension, lang, config, nice, timeout, return_bytes)\u001b[0m\n\u001b[0;32m    277\u001b[0m \u001b[38;5;28;01mwith\u001b[39;00m save(image) \u001b[38;5;28;01mas\u001b[39;00m (temp_name, input_filename):\n\u001b[0;32m    278\u001b[0m     kwargs \u001b[38;5;241m=\u001b[39m {\n\u001b[0;32m    279\u001b[0m         \u001b[38;5;124m'\u001b[39m\u001b[38;5;124minput_filename\u001b[39m\u001b[38;5;124m'\u001b[39m: input_filename,\n\u001b[0;32m    280\u001b[0m         \u001b[38;5;124m'\u001b[39m\u001b[38;5;124moutput_filename_base\u001b[39m\u001b[38;5;124m'\u001b[39m: temp_name,\n\u001b[1;32m   (...)\u001b[0m\n\u001b[0;32m    285\u001b[0m         \u001b[38;5;124m'\u001b[39m\u001b[38;5;124mtimeout\u001b[39m\u001b[38;5;124m'\u001b[39m: timeout,\n\u001b[0;32m    286\u001b[0m     }\n\u001b[1;32m--> 288\u001b[0m     run_tesseract(\u001b[38;5;241m*\u001b[39m\u001b[38;5;241m*\u001b[39mkwargs)\n\u001b[0;32m    289\u001b[0m     filename \u001b[38;5;241m=\u001b[39m \u001b[38;5;124mf\u001b[39m\u001b[38;5;124m\"\u001b[39m\u001b[38;5;132;01m{\u001b[39;00mkwargs[\u001b[38;5;124m'\u001b[39m\u001b[38;5;124moutput_filename_base\u001b[39m\u001b[38;5;124m'\u001b[39m]\u001b[38;5;132;01m}\u001b[39;00m\u001b[38;5;132;01m{\u001b[39;00mextsep\u001b[38;5;132;01m}\u001b[39;00m\u001b[38;5;132;01m{\u001b[39;00mextension\u001b[38;5;132;01m}\u001b[39;00m\u001b[38;5;124m\"\u001b[39m\n\u001b[0;32m    290\u001b[0m     \u001b[38;5;28;01mwith\u001b[39;00m \u001b[38;5;28mopen\u001b[39m(filename, \u001b[38;5;124m'\u001b[39m\u001b[38;5;124mrb\u001b[39m\u001b[38;5;124m'\u001b[39m) \u001b[38;5;28;01mas\u001b[39;00m output_file:\n",
      "File \u001b[1;32m~\\AppData\\Roaming\\Python\\Python310\\site-packages\\pytesseract\\pytesseract.py:262\u001b[0m, in \u001b[0;36mrun_tesseract\u001b[1;34m(input_filename, output_filename_base, extension, lang, config, nice, timeout)\u001b[0m\n\u001b[0;32m    259\u001b[0m     \u001b[38;5;28;01melse\u001b[39;00m:\n\u001b[0;32m    260\u001b[0m         \u001b[38;5;28;01mraise\u001b[39;00m TesseractNotFoundError()\n\u001b[1;32m--> 262\u001b[0m \u001b[38;5;28;01mwith\u001b[39;00m timeout_manager(proc, timeout) \u001b[38;5;28;01mas\u001b[39;00m error_string:\n\u001b[0;32m    263\u001b[0m     \u001b[38;5;28;01mif\u001b[39;00m proc\u001b[38;5;241m.\u001b[39mreturncode:\n\u001b[0;32m    264\u001b[0m         \u001b[38;5;28;01mraise\u001b[39;00m TesseractError(proc\u001b[38;5;241m.\u001b[39mreturncode, get_errors(error_string))\n",
      "File \u001b[1;32mC:\\ProgramData\\anaconda3\\lib\\contextlib.py:135\u001b[0m, in \u001b[0;36m_GeneratorContextManager.__enter__\u001b[1;34m(self)\u001b[0m\n\u001b[0;32m    133\u001b[0m \u001b[38;5;28;01mdel\u001b[39;00m \u001b[38;5;28mself\u001b[39m\u001b[38;5;241m.\u001b[39margs, \u001b[38;5;28mself\u001b[39m\u001b[38;5;241m.\u001b[39mkwds, \u001b[38;5;28mself\u001b[39m\u001b[38;5;241m.\u001b[39mfunc\n\u001b[0;32m    134\u001b[0m \u001b[38;5;28;01mtry\u001b[39;00m:\n\u001b[1;32m--> 135\u001b[0m     \u001b[38;5;28;01mreturn\u001b[39;00m \u001b[38;5;28;43mnext\u001b[39;49m\u001b[43m(\u001b[49m\u001b[38;5;28;43mself\u001b[39;49m\u001b[38;5;241;43m.\u001b[39;49m\u001b[43mgen\u001b[49m\u001b[43m)\u001b[49m\n\u001b[0;32m    136\u001b[0m \u001b[38;5;28;01mexcept\u001b[39;00m \u001b[38;5;167;01mStopIteration\u001b[39;00m:\n\u001b[0;32m    137\u001b[0m     \u001b[38;5;28;01mraise\u001b[39;00m \u001b[38;5;167;01mRuntimeError\u001b[39;00m(\u001b[38;5;124m\"\u001b[39m\u001b[38;5;124mgenerator didn\u001b[39m\u001b[38;5;124m'\u001b[39m\u001b[38;5;124mt yield\u001b[39m\u001b[38;5;124m\"\u001b[39m) \u001b[38;5;28;01mfrom\u001b[39;00m \u001b[38;5;28mNone\u001b[39m\n",
      "File \u001b[1;32m~\\AppData\\Roaming\\Python\\Python310\\site-packages\\pytesseract\\pytesseract.py:127\u001b[0m, in \u001b[0;36mtimeout_manager\u001b[1;34m(proc, seconds)\u001b[0m\n\u001b[0;32m    125\u001b[0m \u001b[38;5;28;01mtry\u001b[39;00m:\n\u001b[0;32m    126\u001b[0m     \u001b[38;5;28;01mif\u001b[39;00m \u001b[38;5;129;01mnot\u001b[39;00m seconds:\n\u001b[1;32m--> 127\u001b[0m         \u001b[38;5;28;01myield\u001b[39;00m \u001b[43mproc\u001b[49m\u001b[38;5;241;43m.\u001b[39;49m\u001b[43mcommunicate\u001b[49m\u001b[43m(\u001b[49m\u001b[43m)\u001b[49m[\u001b[38;5;241m1\u001b[39m]\n\u001b[0;32m    128\u001b[0m         \u001b[38;5;28;01mreturn\u001b[39;00m\n\u001b[0;32m    130\u001b[0m     \u001b[38;5;28;01mtry\u001b[39;00m:\n",
      "File \u001b[1;32mC:\\ProgramData\\anaconda3\\lib\\subprocess.py:1154\u001b[0m, in \u001b[0;36mPopen.communicate\u001b[1;34m(self, input, timeout)\u001b[0m\n\u001b[0;32m   1151\u001b[0m     endtime \u001b[38;5;241m=\u001b[39m \u001b[38;5;28;01mNone\u001b[39;00m\n\u001b[0;32m   1153\u001b[0m \u001b[38;5;28;01mtry\u001b[39;00m:\n\u001b[1;32m-> 1154\u001b[0m     stdout, stderr \u001b[38;5;241m=\u001b[39m \u001b[38;5;28;43mself\u001b[39;49m\u001b[38;5;241;43m.\u001b[39;49m\u001b[43m_communicate\u001b[49m\u001b[43m(\u001b[49m\u001b[38;5;28;43minput\u001b[39;49m\u001b[43m,\u001b[49m\u001b[43m \u001b[49m\u001b[43mendtime\u001b[49m\u001b[43m,\u001b[49m\u001b[43m \u001b[49m\u001b[43mtimeout\u001b[49m\u001b[43m)\u001b[49m\n\u001b[0;32m   1155\u001b[0m \u001b[38;5;28;01mexcept\u001b[39;00m \u001b[38;5;167;01mKeyboardInterrupt\u001b[39;00m:\n\u001b[0;32m   1156\u001b[0m     \u001b[38;5;66;03m# https://bugs.python.org/issue25942\u001b[39;00m\n\u001b[0;32m   1157\u001b[0m     \u001b[38;5;66;03m# See the detailed comment in .wait().\u001b[39;00m\n\u001b[0;32m   1158\u001b[0m     \u001b[38;5;28;01mif\u001b[39;00m timeout \u001b[38;5;129;01mis\u001b[39;00m \u001b[38;5;129;01mnot\u001b[39;00m \u001b[38;5;28;01mNone\u001b[39;00m:\n",
      "File \u001b[1;32mC:\\ProgramData\\anaconda3\\lib\\subprocess.py:1544\u001b[0m, in \u001b[0;36mPopen._communicate\u001b[1;34m(self, input, endtime, orig_timeout)\u001b[0m\n\u001b[0;32m   1540\u001b[0m \u001b[38;5;66;03m# Wait for the reader threads, or time out.  If we time out, the\u001b[39;00m\n\u001b[0;32m   1541\u001b[0m \u001b[38;5;66;03m# threads remain reading and the fds left open in case the user\u001b[39;00m\n\u001b[0;32m   1542\u001b[0m \u001b[38;5;66;03m# calls communicate again.\u001b[39;00m\n\u001b[0;32m   1543\u001b[0m \u001b[38;5;28;01mif\u001b[39;00m \u001b[38;5;28mself\u001b[39m\u001b[38;5;241m.\u001b[39mstdout \u001b[38;5;129;01mis\u001b[39;00m \u001b[38;5;129;01mnot\u001b[39;00m \u001b[38;5;28;01mNone\u001b[39;00m:\n\u001b[1;32m-> 1544\u001b[0m     \u001b[38;5;28;43mself\u001b[39;49m\u001b[38;5;241;43m.\u001b[39;49m\u001b[43mstdout_thread\u001b[49m\u001b[38;5;241;43m.\u001b[39;49m\u001b[43mjoin\u001b[49m\u001b[43m(\u001b[49m\u001b[38;5;28;43mself\u001b[39;49m\u001b[38;5;241;43m.\u001b[39;49m\u001b[43m_remaining_time\u001b[49m\u001b[43m(\u001b[49m\u001b[43mendtime\u001b[49m\u001b[43m)\u001b[49m\u001b[43m)\u001b[49m\n\u001b[0;32m   1545\u001b[0m     \u001b[38;5;28;01mif\u001b[39;00m \u001b[38;5;28mself\u001b[39m\u001b[38;5;241m.\u001b[39mstdout_thread\u001b[38;5;241m.\u001b[39mis_alive():\n\u001b[0;32m   1546\u001b[0m         \u001b[38;5;28;01mraise\u001b[39;00m TimeoutExpired(\u001b[38;5;28mself\u001b[39m\u001b[38;5;241m.\u001b[39margs, orig_timeout)\n",
      "File \u001b[1;32mC:\\ProgramData\\anaconda3\\lib\\threading.py:1096\u001b[0m, in \u001b[0;36mThread.join\u001b[1;34m(self, timeout)\u001b[0m\n\u001b[0;32m   1093\u001b[0m     \u001b[38;5;28;01mraise\u001b[39;00m \u001b[38;5;167;01mRuntimeError\u001b[39;00m(\u001b[38;5;124m\"\u001b[39m\u001b[38;5;124mcannot join current thread\u001b[39m\u001b[38;5;124m\"\u001b[39m)\n\u001b[0;32m   1095\u001b[0m \u001b[38;5;28;01mif\u001b[39;00m timeout \u001b[38;5;129;01mis\u001b[39;00m \u001b[38;5;28;01mNone\u001b[39;00m:\n\u001b[1;32m-> 1096\u001b[0m     \u001b[38;5;28;43mself\u001b[39;49m\u001b[38;5;241;43m.\u001b[39;49m\u001b[43m_wait_for_tstate_lock\u001b[49m\u001b[43m(\u001b[49m\u001b[43m)\u001b[49m\n\u001b[0;32m   1097\u001b[0m \u001b[38;5;28;01melse\u001b[39;00m:\n\u001b[0;32m   1098\u001b[0m     \u001b[38;5;66;03m# the behavior of a negative timeout isn't documented, but\u001b[39;00m\n\u001b[0;32m   1099\u001b[0m     \u001b[38;5;66;03m# historically .join(timeout=x) for x<0 has acted as if timeout=0\u001b[39;00m\n\u001b[0;32m   1100\u001b[0m     \u001b[38;5;28mself\u001b[39m\u001b[38;5;241m.\u001b[39m_wait_for_tstate_lock(timeout\u001b[38;5;241m=\u001b[39m\u001b[38;5;28mmax\u001b[39m(timeout, \u001b[38;5;241m0\u001b[39m))\n",
      "File \u001b[1;32mC:\\ProgramData\\anaconda3\\lib\\threading.py:1116\u001b[0m, in \u001b[0;36mThread._wait_for_tstate_lock\u001b[1;34m(self, block, timeout)\u001b[0m\n\u001b[0;32m   1113\u001b[0m     \u001b[38;5;28;01mreturn\u001b[39;00m\n\u001b[0;32m   1115\u001b[0m \u001b[38;5;28;01mtry\u001b[39;00m:\n\u001b[1;32m-> 1116\u001b[0m     \u001b[38;5;28;01mif\u001b[39;00m \u001b[43mlock\u001b[49m\u001b[38;5;241;43m.\u001b[39;49m\u001b[43macquire\u001b[49m\u001b[43m(\u001b[49m\u001b[43mblock\u001b[49m\u001b[43m,\u001b[49m\u001b[43m \u001b[49m\u001b[43mtimeout\u001b[49m\u001b[43m)\u001b[49m:\n\u001b[0;32m   1117\u001b[0m         lock\u001b[38;5;241m.\u001b[39mrelease()\n\u001b[0;32m   1118\u001b[0m         \u001b[38;5;28mself\u001b[39m\u001b[38;5;241m.\u001b[39m_stop()\n",
      "\u001b[1;31mKeyboardInterrupt\u001b[0m: "
     ]
    }
   ],
   "source": [
    "templateLondon = cv2.imread('HelperImages/template_london.png', cv2.IMREAD_GRAYSCALE)\n",
    "templateResLondon = cv2.imread('HelperImages/template_res_london.png', cv2.IMREAD_GRAYSCALE)\n",
    "extract_from_video(\"DownloadedVideos/Men_10m_Prel_London2012.mp4\",\"Men_10m_Prel_London2012\",templateLondon,templateResLondon)"
   ]
  },
  {
   "cell_type": "code",
   "execution_count": null,
   "id": "2f226763",
   "metadata": {},
   "outputs": [],
   "source": []
  },
  {
   "cell_type": "code",
   "execution_count": null,
   "id": "be507d59",
   "metadata": {},
   "outputs": [],
   "source": []
  }
 ],
 "metadata": {
  "kernelspec": {
   "display_name": "Python 3 (ipykernel)",
   "language": "python",
   "name": "python3"
  },
  "language_info": {
   "codemirror_mode": {
    "name": "ipython",
    "version": 3
   },
   "file_extension": ".py",
   "mimetype": "text/x-python",
   "name": "python",
   "nbconvert_exporter": "python",
   "pygments_lexer": "ipython3",
   "version": "3.12.2"
  }
 },
 "nbformat": 4,
 "nbformat_minor": 5
}
