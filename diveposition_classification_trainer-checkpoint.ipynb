{
 "cells": [
  {
   "cell_type": "code",
   "execution_count": 1,
   "id": "1c6758aa",
   "metadata": {},
   "outputs": [],
   "source": [
    "import pandas as pd\n",
    "import numpy as np\n",
    "import tensorflow as tf\n",
    "import os\n",
    "import math\n",
    "from tensorflow import keras\n",
    "from sklearn.preprocessing import LabelEncoder\n",
    "from sklearn.model_selection import train_test_split\n",
    "from tensorflow.keras.layers import LSTM, Dense, Dropout\n",
    "from tensorflow.keras.utils import to_categorical\n",
    "from tensorflow.keras.models import Sequential\n",
    "import seaborn as sns\n",
    "import matplotlib.pyplot as plt"
   ]
  },
  {
   "cell_type": "code",
   "execution_count": 2,
   "id": "be333afd",
   "metadata": {},
   "outputs": [],
   "source": [
    "class Vis_obj():         \n",
    "    def __init__(self,dat1,dat2):   \n",
    "        self.name = dat1  \n",
    "        self.vis = dat2"
   ]
  },
  {
   "cell_type": "code",
   "execution_count": 3,
   "id": "5298511b",
   "metadata": {},
   "outputs": [],
   "source": [
    "features = ['NOSE_x','NOSE_y','NOSE_z','NOSE_vis',\n",
    "            #'LEFT_EYE_INNER_x','LEFT_EYE_INNER_y','LEFT_EYE_INNER_z','LEFT_EYE_INNER_vis',\n",
    "            #'LEFT_EYE_x','LEFT_EYE_y','LEFT_EYE_z','LEFT_EYE_vis',\n",
    "            #'LEFT_EYE_OUTER_x','LEFT_EYE_OUTER_y','LEFT_EYE_OUTER_z','LEFT_EYE_OUTER_vis',\n",
    "            #'RIGHT_EYE_INNER_x','RIGHT_EYE_INNER_y','RIGHT_EYE_INNER_z','RIGHT_EYE_INNER_vis',\n",
    "            #'RIGHT_EYE_x','RIGHT_EYE_y','RIGHT_EYE_z','RIGHT_EYE_vis',\n",
    "            #'RIGHT_EYE_OUTER_x','RIGHT_EYE_OUTER_y','RIGHT_EYE_OUTER_z','RIGHT_EYE_OUTER_vis',\n",
    "            #'LEFT_EAR_x','LEFT_EAR_y','LEFT_EAR_z','LEFT_EAR_vis',\n",
    "            #'RIGHT_EAR_x','RIGHT_EAR_y','RIGHT_EAR_z','RIGHT_EAR_vis',\n",
    "            #'MOUTH_LEFT_x','MOUTH_LEFT_y','MOUTH_LEFT_z','MOUTH_LEFT_vis',\n",
    "            #'MOUTH_RIGHT_x','MOUTH_RIGHT_y','MOUTH_RIGHT_z','MOUTH_RIGHT_vis',\n",
    "            'LEFT_SHOULDER_x','LEFT_SHOULDER_y','LEFT_SHOULDER_z','LEFT_SHOULDER_vis',\n",
    "            'RIGHT_SHOULDER_x','RIGHT_SHOULDER_y','RIGHT_SHOULDER_z','RIGHT_SHOULDER_vis',\n",
    "            'LEFT_ELBOW_x','LEFT_ELBOW_y','LEFT_ELBOW_z','LEFT_ELBOW_vis',\n",
    "            'RIGHT_ELBOW_x','RIGHT_ELBOW_y','RIGHT_ELBOW_z','RIGHT_ELBOW_vis',\n",
    "            'LEFT_WRIST_x','LEFT_WRIST_y','LEFT_WRIST_z','LEFT_WRIST_vis',\n",
    "            'RIGHT_WRIST_x','RIGHT_WRIST_y','RIGHT_WRIST_z','RIGHT_WRIST_vis',\n",
    "            #'LEFT_PINKY_x','LEFT_PINKY_y','LEFT_PINKY_z','LEFT_PINKY_vis',\n",
    "            #'RIGHT_PINKY_x','RIGHT_PINKY_y','RIGHT_PINKY_z','RIGHT_PINKY_vis',\n",
    "            #'LEFT_INDEX_x','LEFT_INDEX_y','LEFT_INDEX_z','LEFT_INDEX_vis',\n",
    "            #'RIGHT_INDEX_x','RIGHT_INDEX_y','RIGHT_INDEX_z','RIGHT_INDEX_vis',\n",
    "            #'LEFT_THUMB_x','LEFT_THUMB_y','LEFT_THUMB_z','LEFT_THUMB_vis',\n",
    "            #'RIGHT_THUMB_x','RIGHT_THUMB_y','RIGHT_THUMB_z','RIGHT_THUMB_vis',\n",
    "            'LEFT_HIP_x','LEFT_HIP_y','LEFT_HIP_z','LEFT_HIP_vis',\n",
    "            'RIGHT_HIP_x','RIGHT_HIP_y','RIGHT_HIP_z','RIGHT_HIP_vis',\n",
    "            'LEFT_KNEE_x','LEFT_KNEE_y','LEFT_KNEE_z','LEFT_KNEE_vis',\n",
    "            'RIGHT_KNEE_x','RIGHT_KNEE_y','RIGHT_KNEE_z','RIGHT_KNEE_vis',\n",
    "            'LEFT_ANKLE_x','LEFT_ANKLE_y','LEFT_ANKLE_z','LEFT_ANKLE_vis',\n",
    "            'RIGHT_ANKLE_x','RIGHT_ANKLE_y','RIGHT_ANKLE_z','RIGHT_ANKLE_vis',\n",
    "            'LEFT_HEEL_x','LEFT_HEEL_y','LEFT_HEEL_z','LEFT_HEEL_vis',\n",
    "            'RIGHT_HEEL_x','RIGHT_HEEL_y','RIGHT_HEEL_z','RIGHT_HEEL_vis',\n",
    "            'LEFT_FOOT_INDEX_x','LEFT_FOOT_INDEX_y','LEFT_FOOT_INDEX_z','LEFT_FOOT_INDEX_vis',\n",
    "            'RIGHT_FOOT_INDEX_x','RIGHT_FOOT_INDEX_y','RIGHT_FOOT_INDEX_z','RIGHT_FOOT_INDEX_vis'\n",
    "            ]\n"
   ]
  },
  {
   "cell_type": "code",
   "execution_count": 4,
   "id": "8afc7df7",
   "metadata": {},
   "outputs": [],
   "source": [
    "final_train_data=np.array([])\n",
    "start_frame=10\n",
    "num_frames_to_process=100\n",
    "interval_between_frames=2"
   ]
  },
  {
   "cell_type": "code",
   "execution_count": 5,
   "id": "65fa9ed7",
   "metadata": {},
   "outputs": [],
   "source": [
    "csv_file = 'scores.csv'\n",
    "df = pd.read_csv(csv_file)\n",
    "pose_data = []\n",
    "video_labels = []\n",
    "final_train_data\n",
    "count=0\n",
    "for index, row in df.iterrows():\n",
    "    \n",
    "    matchName=row['Match name']\n",
    "    sno=row['Sno']\n",
    "    divePosition=row['Dive Position']\n",
    "    \n",
    "    if type(divePosition) is str:\n",
    "        divePosition=divePosition.upper()\n",
    "    if(divePosition==\"TUUCK\" or divePosition==\"TUCCK\"):\n",
    "        divePosition=\"TUCK\"\n",
    "    if(divePosition!=\"PIKE\" and divePosition!=\"TUCK\"):\n",
    "        #print(divePosition)\n",
    "        continue\n",
    "    \n",
    "    isFile = os.path.isfile('ExtractedPoseData/'+str(sno)+\"_\"+matchName+\".csv\")\n",
    "    if(isFile):\n",
    "        pose_df = pd.read_csv('ExtractedPoseData/'+str(sno)+\"_\"+matchName+\".csv\")\n",
    "        if pose_df.shape[0]<100:\n",
    "            continue\n",
    "        \n",
    "        video_label=divePosition\n",
    "        feature_columns = [f'{part}' for part in features]\n",
    "        pose_data_combined=[]\n",
    "        pose_df_cropped=pose_df[feature_columns]\n",
    "        \n",
    "        total_frames=len(pose_df)        \n",
    "        interval_between_frames=int((total_frames)/30)\n",
    "        #print(pose_df.iloc[-1]['Frame'],pose_df.iloc[0]['Frame'],total_frames,interval_between_frames)\n",
    "        count_frame=0\n",
    "        for x in range(25,(total_frames)-1,interval_between_frames):\n",
    "                count_frame+=1\n",
    "                pose_data_combined.append(pose_df_cropped.iloc[x])\n",
    "                if count_frame>=20:\n",
    "                    break\n",
    "        pose_data.append(pose_data_combined)\n",
    "        video_labels.append(video_label)\n",
    "        count+=1\n",
    "final_train_data = np.array(pose_data)      \n",
    "video_labels = np.array(video_labels)"
   ]
  },
  {
   "cell_type": "code",
   "execution_count": 6,
   "id": "fb371b28",
   "metadata": {},
   "outputs": [
    {
     "name": "stdout",
     "output_type": "stream",
     "text": [
      "RIGHT_ELBOW_ 5600.938510443259\n",
      "LEFT_KNEE_ 5629.451846607757\n",
      "RIGHT_WRIST_ 5891.381738640368\n",
      "RIGHT_KNEE_ 6048.301042616775\n",
      "LEFT_WRIST_ 6096.378877119219\n",
      "LEFT_ANKLE_ 6114.456666223035\n",
      "RIGHT_ANKLE_ 6323.1874911787745\n",
      "RIGHT_HEEL_ 6335.897151692305\n",
      "LEFT_HEEL_ 6363.077772298362\n",
      "LEFT_ELBOW_ 6407.145416835789\n",
      "RIGHT_FOOT_INDEX_ 6557.473268353264\n",
      "LEFT_FOOT_INDEX_ 6650.307938299724\n",
      "LEFT_HIP_ 13113.453713344177\n",
      "RIGHT_HIP_ 13116.073339958908\n",
      "NOSE_ 13153.252757184207\n",
      "RIGHT_SHOULDER_ 13390.982017725706\n",
      "LEFT_SHOULDER_ 13403.41330960393\n"
     ]
    }
   ],
   "source": [
    "\n",
    "# Define a list of N features you want to plot\n",
    "features_to_plot = [\n",
    "            'NOSE_',\n",
    "            #'LEFT_EYE_INNER_',\n",
    "            #'LEFT_EYE_',\n",
    "            #'LEFT_EYE_OUTER_',\n",
    "            #'RIGHT_EYE_INNER_',\n",
    "            #'RIGHT_EYE_',\n",
    "            #'RIGHT_EYE_OUTER_',\n",
    "            #'LEFT_EAR_',\n",
    "            #'RIGHT_EAR_',\n",
    "            #'MOUTH_LEFT_',\n",
    "            #'MOUTH_RIGHT_',\n",
    "            'LEFT_SHOULDER_',\n",
    "            'RIGHT_SHOULDER_',\n",
    "            'LEFT_ELBOW_',\n",
    "            'RIGHT_ELBOW_',\n",
    "            'LEFT_WRIST_',\n",
    "            'RIGHT_WRIST_',\n",
    "            #'LEFT_PINKY_',\n",
    "            #'RIGHT_PINKY_',\n",
    "            #'LEFT_INDEX_',\n",
    "            #'RIGHT_INDEX_',\n",
    "            #'LEFT_THUMB_',\n",
    "            #'RIGHT_THUMB_',\n",
    "            'LEFT_HIP_',\n",
    "            'RIGHT_HIP_',\n",
    "            'LEFT_KNEE_',\n",
    "            'RIGHT_KNEE_',\n",
    "            'LEFT_ANKLE_',\n",
    "            'RIGHT_ANKLE_',\n",
    "            'LEFT_HEEL_',\n",
    "            'RIGHT_HEEL_',\n",
    "            'LEFT_FOOT_INDEX_',\n",
    "            'RIGHT_FOOT_INDEX_'\n",
    "                   ]  \n",
    "\n",
    "# Create an empty list to store the summed data for each feature\n",
    "summed_data = []\n",
    "vis_data=[0]*len(features_to_plot)\n",
    "\n",
    "# Find the indices and extract the \"vis\" attribute for each feature\n",
    "for vi in range(final_train_data.shape[0]):\n",
    "    for fi in range(final_train_data.shape[1]):\n",
    "            for feature in features_to_plot:\n",
    "                index_feature = features.index(feature+'vis')\n",
    "                vis_data[features_to_plot.index(feature)] += final_train_data[vi][fi][index_feature]     \n",
    "\n",
    "final_vis_data=[]\n",
    "for i in range(len(vis_data)):\n",
    "    final_vis_data.append(Vis_obj(dat1=features_to_plot[i],dat2=vis_data[i]))\n",
    "sorted_vis_data = sorted(final_vis_data, key=lambda x: x.vis)\n",
    "sorted_features=[]\n",
    "for i in range(len(vis_data)):\n",
    "    print(sorted_vis_data[i].name,sorted_vis_data[i].vis)\n",
    "    sorted_features.append(sorted_vis_data[i].name)\n",
    "\n"
   ]
  },
  {
   "cell_type": "code",
   "execution_count": 7,
   "id": "f1179a59",
   "metadata": {},
   "outputs": [
    {
     "name": "stdout",
     "output_type": "stream",
     "text": [
      "['NOSE_x', 'NOSE_y', 'NOSE_z', 'LEFT_SHOULDER_x', 'LEFT_SHOULDER_y', 'LEFT_SHOULDER_z', 'RIGHT_SHOULDER_x', 'RIGHT_SHOULDER_y', 'RIGHT_SHOULDER_z', 'LEFT_ELBOW_x', 'LEFT_ELBOW_y', 'LEFT_ELBOW_z', 'RIGHT_ELBOW_x', 'RIGHT_ELBOW_y', 'RIGHT_ELBOW_z', 'LEFT_WRIST_x', 'LEFT_WRIST_y', 'LEFT_WRIST_z', 'RIGHT_WRIST_x', 'RIGHT_WRIST_y', 'RIGHT_WRIST_z', 'LEFT_HIP_x', 'LEFT_HIP_y', 'LEFT_HIP_z', 'RIGHT_HIP_x', 'RIGHT_HIP_y', 'RIGHT_HIP_z', 'LEFT_KNEE_x', 'LEFT_KNEE_y', 'LEFT_KNEE_z', 'RIGHT_KNEE_x', 'RIGHT_KNEE_y', 'RIGHT_KNEE_z', 'LEFT_ANKLE_x', 'LEFT_ANKLE_y', 'LEFT_ANKLE_z', 'RIGHT_ANKLE_x', 'RIGHT_ANKLE_y', 'RIGHT_ANKLE_z', 'LEFT_HEEL_x', 'LEFT_HEEL_y', 'LEFT_HEEL_z', 'RIGHT_HEEL_x', 'RIGHT_HEEL_y', 'RIGHT_HEEL_z', 'LEFT_FOOT_INDEX_x', 'LEFT_FOOT_INDEX_y', 'LEFT_FOOT_INDEX_z', 'RIGHT_FOOT_INDEX_x', 'RIGHT_FOOT_INDEX_y', 'RIGHT_FOOT_INDEX_z']\n"
     ]
    }
   ],
   "source": [
    "# remove less visible features\n",
    "processed_data=[] \n",
    "features_t=[]\n",
    "for vi in range(final_train_data.shape[0]):\n",
    "    i=0\n",
    "    vid_data=np.array(final_train_data[vi]) \n",
    "    features_t=features.copy()\n",
    "    for feature in sorted_features:\n",
    "        column_index = features_t.index(feature+'vis')\n",
    "        vid_data = np.delete(vid_data, column_index, axis=1)   \n",
    "        features_t.remove(feature+'vis')\n",
    "        if i<0:\n",
    "            vid_data1 = np.delete(vid_data,features_t.index(feature+'x'), axis=1)  \n",
    "            features_t.remove(feature+'x')\n",
    "            vid_data2 = np.delete(vid_data1,features_t.index(feature+'y'), axis=1)\n",
    "            features_t.remove(feature+'y')\n",
    "            vid_data3 = np.delete(vid_data2,features_t.index(feature+'z'), axis=1)\n",
    "            features_t.remove(feature+'z')\n",
    "            vid_data.resize(vid_data3.shape)\n",
    "            vid_data=vid_data3\n",
    "        i+=1\n",
    "        \n",
    "    processed_data.append(vid_data)\n",
    "\n",
    "print(features_t)\n",
    "processed_data = np.array(processed_data) \n",
    "            "
   ]
  },
  {
   "cell_type": "code",
   "execution_count": 8,
   "id": "f0587590",
   "metadata": {},
   "outputs": [],
   "source": [
    "# Encode labels as integers\n",
    "label_encoder = LabelEncoder()\n",
    "encoded_labels = label_encoder.fit_transform(video_labels)\n"
   ]
  },
  {
   "cell_type": "code",
   "execution_count": 9,
   "id": "d7000144",
   "metadata": {},
   "outputs": [],
   "source": [
    "# Split the data into training and testing sets\n",
    "X_train, X_test, y_train, y_test = train_test_split(processed_data, encoded_labels, test_size=0.2, random_state=42)\n"
   ]
  },
  {
   "cell_type": "code",
   "execution_count": 10,
   "id": "439583e9",
   "metadata": {},
   "outputs": [
    {
     "name": "stdout",
     "output_type": "stream",
     "text": [
      "672 (20, 51)\n",
      "(672,)\n",
      "[0 0 0 0 0 1 0 0 0 1 0 0 0 0 0 0 1 0 0 1 0 0 0 1 1 0 0 0 0 0 1 1 1 1 0 1 1\n",
      " 1 1 1 1 0 1 1 1 1 1 1 0 1 1 1 0 1 0 1 0 0 0 0 0 0 1 0 0 0 0 0 0 0 0 1 0 1\n",
      " 0 1 1 0 0 1 1 1 0 1 1 1 1 1 1 1 1 0 1 1 1 1 0 0 0 0 0 0 1 1 1 1 1 0 1 1 1\n",
      " 1 0 1 1 1 1 1 0 1 1 0 1 1 0 1 1 1 0 1 1 1 1 1 1 1 1 1 0 0 0 0 0 0 0 0 0 1\n",
      " 0 0 1 0 0 0 1 0 0 0 0 0 0 0 0 0 0 0 1 0 0 0 0 0 0 0 0 0 0 0 0 0 0 0 0 0 0\n",
      " 0 0 0 0 0 0 0 0 0 0 0 0 0 0 0 0 0 0 0 0 0 0 0 0 0 0 0 0 0 1 0 0 0 1 1 0 1\n",
      " 1 0 0 1 0 1 1 1 0 1 1 0 1 1 1 0 1 1 1 0 0 1 1 1 1 1 0 1 1 1 1 0 1 0 0 0 0\n",
      " 1 0 0 0 0 0 0 0 0 0 1 1 1 1 0 1 0 1 1 1 1 1 1 0 1 1 0 1 1 1 1 1 1 1 1 0 0\n",
      " 0 1 1 0 0 0 0 0 0 1 1 1 1 0 0 0 1 1 1 1 1 0 1 0 1 0 1 1 1 0 0 0 0 0 1 1 0\n",
      " 0 0 0 0 0 1 0 0 0 0 0 1 0 1 0 0 0 1 1 1 0 1 1 0 1 0 0 0 0 1 0 1 1 1 1 1 0\n",
      " 0 1 1 1 1 1 0 1 0 1 0 0 1 0 1 1 0 1 1 1 1 0 0 0 0 0 0 1 0 0 0 1 0 0 0 0 0\n",
      " 0 1 0 0 0 0 0 0 0 0 0 0 1 0 0 0 0 0 0 0 0 0 0 1 1 0 0 0 0 0 0 0 0 0 0 0 0\n",
      " 0 1 0 0 0 0 0 0 0 0 0 0 0 0 0 0 0 0 0 0 0 0 0 0 0 0 1 0 0 1 1 1 1 1 1 1 1\n",
      " 1 1 1 1 0 0 0 0 1 0 0 0 1 1 1 1 1 1 1 0 1 1 0 1 0 0 1 1 0 1 1 1 1 0 0 1 0\n",
      " 0 1 0 0 0 0 1 1 1 0 0 0 1 1 0 1 1 1 1 0 1 1 1 0 1 0 0 0 0 1 0 1 0 0 1 0 1\n",
      " 1 1 1 1 0 1 1 0 0 0 1 1 0 0 0 0 1 1 1 0 0 0 0 0 1 1 0 0 0 1 1 0 0 0 1 0 0\n",
      " 0 0 1 0 0 1 0 0 1 0 0 0 1 0 1 1 1 0 0 1 1 0 1 0 1 0 1 0 1 0 0 0 1 1 1 1 1\n",
      " 1 0 0 1 1 0 0 0 0 0 1 1 1 1 1 0 1 0 1 0 0 0 0 1 1 0 1 0 1 1 0 0 0 1 0 0 0\n",
      " 0 1 1 0 1 0]\n"
     ]
    }
   ],
   "source": [
    "num_classes = 2\n",
    "num_epochs = 60\n",
    "batch_size = 10\n",
    "print(len(processed_data),processed_data[0].shape)\n",
    "print(encoded_labels.shape)\n",
    "print(encoded_labels)"
   ]
  },
  {
   "cell_type": "code",
   "execution_count": 11,
   "id": "1815f864",
   "metadata": {},
   "outputs": [],
   "source": [
    "y_train_encoded = to_categorical(y_train, num_classes=num_classes)\n",
    "y_test_encoded = to_categorical(y_test, num_classes=num_classes)"
   ]
  },
  {
   "cell_type": "code",
   "execution_count": 12,
   "id": "a08e9332",
   "metadata": {},
   "outputs": [],
   "source": [
    "model = Sequential()\n",
    "model.add(LSTM(units=64, input_shape=(processed_data[0].shape[0], processed_data[0].shape[1])))  # Input shape: (timesteps, features)\n",
    "model.add(Dense(units=num_classes, activation='softmax'))  # Output layer with softmax for classification"
   ]
  },
  {
   "cell_type": "code",
   "execution_count": 13,
   "id": "8747b645",
   "metadata": {},
   "outputs": [],
   "source": [
    "# Compile the model\n",
    "model.compile(loss='categorical_crossentropy', optimizer='adam', metrics=['accuracy'])\n"
   ]
  },
  {
   "cell_type": "code",
   "execution_count": 14,
   "id": "f27d88ce",
   "metadata": {},
   "outputs": [
    {
     "name": "stdout",
     "output_type": "stream",
     "text": [
      "Epoch 1/60\n",
      "54/54 [==============================] - 5s 33ms/step - loss: 0.6948 - accuracy: 0.5531 - val_loss: 0.7042 - val_accuracy: 0.5037\n",
      "Epoch 2/60\n",
      "54/54 [==============================] - 1s 13ms/step - loss: 0.6733 - accuracy: 0.5847 - val_loss: 0.7642 - val_accuracy: 0.5037\n",
      "Epoch 3/60\n",
      "54/54 [==============================] - 1s 13ms/step - loss: 0.6810 - accuracy: 0.5736 - val_loss: 0.7191 - val_accuracy: 0.5037\n",
      "Epoch 4/60\n",
      "54/54 [==============================] - 1s 12ms/step - loss: 0.6644 - accuracy: 0.5885 - val_loss: 0.7171 - val_accuracy: 0.5037\n",
      "Epoch 5/60\n",
      "54/54 [==============================] - 1s 12ms/step - loss: 0.6500 - accuracy: 0.6257 - val_loss: 0.6739 - val_accuracy: 0.5852\n",
      "Epoch 6/60\n",
      "54/54 [==============================] - 1s 11ms/step - loss: 0.6436 - accuracy: 0.6499 - val_loss: 0.7559 - val_accuracy: 0.5037\n",
      "Epoch 7/60\n",
      "54/54 [==============================] - 1s 13ms/step - loss: 0.6181 - accuracy: 0.6462 - val_loss: 0.6922 - val_accuracy: 0.5037\n",
      "Epoch 8/60\n",
      "54/54 [==============================] - 1s 11ms/step - loss: 0.6087 - accuracy: 0.6499 - val_loss: 0.7264 - val_accuracy: 0.5704\n",
      "Epoch 9/60\n",
      "54/54 [==============================] - 1s 11ms/step - loss: 0.6311 - accuracy: 0.6331 - val_loss: 0.6489 - val_accuracy: 0.6667\n",
      "Epoch 10/60\n",
      "54/54 [==============================] - 1s 12ms/step - loss: 0.5543 - accuracy: 0.6983 - val_loss: 0.6356 - val_accuracy: 0.6444\n",
      "Epoch 11/60\n",
      "54/54 [==============================] - 1s 12ms/step - loss: 0.5446 - accuracy: 0.7356 - val_loss: 0.5957 - val_accuracy: 0.6593\n",
      "Epoch 12/60\n",
      "54/54 [==============================] - 1s 12ms/step - loss: 0.5220 - accuracy: 0.7244 - val_loss: 0.5749 - val_accuracy: 0.7630\n",
      "Epoch 13/60\n",
      "54/54 [==============================] - 1s 12ms/step - loss: 0.4642 - accuracy: 0.7635 - val_loss: 0.5132 - val_accuracy: 0.8074\n",
      "Epoch 14/60\n",
      "54/54 [==============================] - 1s 12ms/step - loss: 0.4785 - accuracy: 0.7430 - val_loss: 0.5696 - val_accuracy: 0.7259\n",
      "Epoch 15/60\n",
      "54/54 [==============================] - 1s 11ms/step - loss: 0.3816 - accuracy: 0.8156 - val_loss: 0.5600 - val_accuracy: 0.7704\n",
      "Epoch 16/60\n",
      "54/54 [==============================] - 1s 12ms/step - loss: 0.4549 - accuracy: 0.7747 - val_loss: 0.4792 - val_accuracy: 0.8222\n",
      "Epoch 17/60\n",
      "54/54 [==============================] - 1s 12ms/step - loss: 0.3516 - accuracy: 0.8305 - val_loss: 0.4110 - val_accuracy: 0.8519\n",
      "Epoch 18/60\n",
      "54/54 [==============================] - 1s 12ms/step - loss: 0.3589 - accuracy: 0.8436 - val_loss: 0.4464 - val_accuracy: 0.8963\n",
      "Epoch 19/60\n",
      "54/54 [==============================] - 1s 13ms/step - loss: 0.3969 - accuracy: 0.8194 - val_loss: 0.5269 - val_accuracy: 0.7926\n",
      "Epoch 20/60\n",
      "54/54 [==============================] - 1s 12ms/step - loss: 0.3309 - accuracy: 0.8585 - val_loss: 0.4172 - val_accuracy: 0.8370\n",
      "Epoch 21/60\n",
      "54/54 [==============================] - 1s 13ms/step - loss: 0.3276 - accuracy: 0.8566 - val_loss: 0.4765 - val_accuracy: 0.7926\n",
      "Epoch 22/60\n",
      "54/54 [==============================] - 1s 12ms/step - loss: 0.2632 - accuracy: 0.8901 - val_loss: 0.3705 - val_accuracy: 0.8519\n",
      "Epoch 23/60\n",
      "54/54 [==============================] - 1s 13ms/step - loss: 0.2261 - accuracy: 0.8994 - val_loss: 0.3276 - val_accuracy: 0.9259\n",
      "Epoch 24/60\n",
      "54/54 [==============================] - 1s 13ms/step - loss: 0.2441 - accuracy: 0.8920 - val_loss: 0.3354 - val_accuracy: 0.8889\n",
      "Epoch 25/60\n",
      "54/54 [==============================] - 1s 12ms/step - loss: 0.2379 - accuracy: 0.9013 - val_loss: 0.2911 - val_accuracy: 0.9111\n",
      "Epoch 26/60\n",
      "54/54 [==============================] - 1s 12ms/step - loss: 0.1870 - accuracy: 0.9236 - val_loss: 0.3700 - val_accuracy: 0.8593\n",
      "Epoch 27/60\n",
      "54/54 [==============================] - 1s 13ms/step - loss: 0.2065 - accuracy: 0.9050 - val_loss: 0.2565 - val_accuracy: 0.9481\n",
      "Epoch 28/60\n",
      "54/54 [==============================] - 1s 11ms/step - loss: 0.1661 - accuracy: 0.9236 - val_loss: 0.3010 - val_accuracy: 0.9111\n",
      "Epoch 29/60\n",
      "54/54 [==============================] - 1s 11ms/step - loss: 0.3105 - accuracy: 0.8547 - val_loss: 0.4583 - val_accuracy: 0.8444\n",
      "Epoch 30/60\n",
      "54/54 [==============================] - 1s 12ms/step - loss: 0.2042 - accuracy: 0.9181 - val_loss: 0.2795 - val_accuracy: 0.9111\n",
      "Epoch 31/60\n",
      "54/54 [==============================] - 1s 12ms/step - loss: 0.2052 - accuracy: 0.9069 - val_loss: 0.3002 - val_accuracy: 0.9185\n",
      "Epoch 32/60\n",
      "54/54 [==============================] - 1s 12ms/step - loss: 0.1583 - accuracy: 0.9292 - val_loss: 0.2793 - val_accuracy: 0.9333\n",
      "Epoch 33/60\n",
      "54/54 [==============================] - 1s 11ms/step - loss: 0.1294 - accuracy: 0.9423 - val_loss: 0.2526 - val_accuracy: 0.9407\n",
      "Epoch 34/60\n",
      "54/54 [==============================] - 1s 11ms/step - loss: 0.1435 - accuracy: 0.9404 - val_loss: 0.3500 - val_accuracy: 0.9037\n",
      "Epoch 35/60\n",
      "54/54 [==============================] - 1s 12ms/step - loss: 0.1186 - accuracy: 0.9479 - val_loss: 0.2954 - val_accuracy: 0.9185\n",
      "Epoch 36/60\n",
      "54/54 [==============================] - 1s 11ms/step - loss: 0.1268 - accuracy: 0.9479 - val_loss: 0.3218 - val_accuracy: 0.9037\n",
      "Epoch 37/60\n",
      "54/54 [==============================] - 1s 12ms/step - loss: 0.1158 - accuracy: 0.9479 - val_loss: 0.2726 - val_accuracy: 0.9407\n",
      "Epoch 38/60\n",
      "54/54 [==============================] - 1s 12ms/step - loss: 0.1618 - accuracy: 0.9181 - val_loss: 0.2628 - val_accuracy: 0.9259\n",
      "Epoch 39/60\n",
      "54/54 [==============================] - 1s 12ms/step - loss: 0.1076 - accuracy: 0.9441 - val_loss: 0.4798 - val_accuracy: 0.8519\n",
      "Epoch 40/60\n",
      "54/54 [==============================] - 1s 11ms/step - loss: 0.1226 - accuracy: 0.9479 - val_loss: 0.2694 - val_accuracy: 0.9333\n",
      "Epoch 41/60\n",
      "54/54 [==============================] - 1s 11ms/step - loss: 0.1144 - accuracy: 0.9460 - val_loss: 0.4040 - val_accuracy: 0.8963\n",
      "Epoch 42/60\n",
      "54/54 [==============================] - 1s 12ms/step - loss: 0.1571 - accuracy: 0.9348 - val_loss: 0.3159 - val_accuracy: 0.8963\n",
      "Epoch 43/60\n",
      "54/54 [==============================] - 1s 13ms/step - loss: 0.1489 - accuracy: 0.9330 - val_loss: 0.2398 - val_accuracy: 0.9556\n",
      "Epoch 44/60\n",
      "54/54 [==============================] - 1s 12ms/step - loss: 0.0799 - accuracy: 0.9683 - val_loss: 0.2929 - val_accuracy: 0.9333\n",
      "Epoch 45/60\n",
      "54/54 [==============================] - 1s 13ms/step - loss: 0.0708 - accuracy: 0.9814 - val_loss: 0.2659 - val_accuracy: 0.9407\n",
      "Epoch 46/60\n",
      "54/54 [==============================] - 1s 12ms/step - loss: 0.0694 - accuracy: 0.9739 - val_loss: 0.3308 - val_accuracy: 0.9259\n",
      "Epoch 47/60\n",
      "54/54 [==============================] - 1s 13ms/step - loss: 0.0687 - accuracy: 0.9758 - val_loss: 0.2744 - val_accuracy: 0.9333\n",
      "Epoch 48/60\n",
      "54/54 [==============================] - 1s 12ms/step - loss: 0.0930 - accuracy: 0.9590 - val_loss: 0.3039 - val_accuracy: 0.9333\n",
      "Epoch 49/60\n",
      "54/54 [==============================] - 1s 12ms/step - loss: 0.0792 - accuracy: 0.9628 - val_loss: 0.4548 - val_accuracy: 0.8741\n",
      "Epoch 50/60\n",
      "54/54 [==============================] - 1s 12ms/step - loss: 0.1603 - accuracy: 0.9218 - val_loss: 0.3507 - val_accuracy: 0.8593\n",
      "Epoch 51/60\n",
      "54/54 [==============================] - 1s 12ms/step - loss: 0.1659 - accuracy: 0.9367 - val_loss: 0.2433 - val_accuracy: 0.9407\n",
      "Epoch 52/60\n",
      "54/54 [==============================] - 1s 13ms/step - loss: 0.0552 - accuracy: 0.9851 - val_loss: 0.2823 - val_accuracy: 0.9333\n",
      "Epoch 53/60\n",
      "54/54 [==============================] - 1s 12ms/step - loss: 0.0748 - accuracy: 0.9795 - val_loss: 0.2260 - val_accuracy: 0.9481\n",
      "Epoch 54/60\n",
      "54/54 [==============================] - 1s 12ms/step - loss: 0.0906 - accuracy: 0.9590 - val_loss: 0.2569 - val_accuracy: 0.9407\n",
      "Epoch 55/60\n",
      "54/54 [==============================] - 1s 11ms/step - loss: 0.0629 - accuracy: 0.9739 - val_loss: 0.2477 - val_accuracy: 0.9481\n",
      "Epoch 56/60\n",
      "54/54 [==============================] - 1s 12ms/step - loss: 0.0397 - accuracy: 0.9888 - val_loss: 0.2855 - val_accuracy: 0.9407\n",
      "Epoch 57/60\n",
      "54/54 [==============================] - 1s 12ms/step - loss: 0.0721 - accuracy: 0.9777 - val_loss: 0.2541 - val_accuracy: 0.9407\n",
      "Epoch 58/60\n",
      "54/54 [==============================] - 1s 12ms/step - loss: 0.0479 - accuracy: 0.9814 - val_loss: 0.4409 - val_accuracy: 0.9185\n"
     ]
    },
    {
     "name": "stdout",
     "output_type": "stream",
     "text": [
      "Epoch 59/60\n",
      "54/54 [==============================] - 1s 12ms/step - loss: 0.0497 - accuracy: 0.9851 - val_loss: 0.2354 - val_accuracy: 0.9407\n",
      "Epoch 60/60\n",
      "54/54 [==============================] - 1s 12ms/step - loss: 0.0318 - accuracy: 0.9907 - val_loss: 0.3024 - val_accuracy: 0.9556\n"
     ]
    },
    {
     "data": {
      "text/plain": [
       "<keras.src.callbacks.History at 0x273e2c86a40>"
      ]
     },
     "execution_count": 14,
     "metadata": {},
     "output_type": "execute_result"
    }
   ],
   "source": [
    "# Train the model\n",
    "model.fit(X_train, y_train_encoded, epochs=num_epochs, batch_size=batch_size, validation_data=(X_test, y_test_encoded))\n"
   ]
  },
  {
   "cell_type": "code",
   "execution_count": 15,
   "id": "d91753f5",
   "metadata": {},
   "outputs": [
    {
     "name": "stdout",
     "output_type": "stream",
     "text": [
      "5/5 [==============================] - 0s 7ms/step - loss: 0.3024 - accuracy: 0.9556\n",
      "Test accuracy: 95.56%\n"
     ]
    }
   ],
   "source": [
    "\n",
    "test_loss, test_accuracy = model.evaluate(X_test, y_test_encoded)\n",
    "\n",
    "print(f'Test accuracy: {test_accuracy * 100:.2f}%')"
   ]
  },
  {
   "cell_type": "code",
   "execution_count": 16,
   "id": "027e96be",
   "metadata": {},
   "outputs": [
    {
     "name": "stdout",
     "output_type": "stream",
     "text": [
      "17/17 [==============================] - 0s 6ms/step - loss: 0.0260 - accuracy: 0.9944\n",
      "Train accuracy: 99.44%\n"
     ]
    }
   ],
   "source": [
    "\n",
    "train_loss, train_accuracy = model.evaluate(X_train, y_train_encoded)\n",
    "\n",
    "print(f'Train accuracy: {train_accuracy * 100:.2f}%')"
   ]
  },
  {
   "cell_type": "code",
   "execution_count": 17,
   "id": "92fd6b26",
   "metadata": {},
   "outputs": [
    {
     "name": "stdout",
     "output_type": "stream",
     "text": [
      "17/17 [==============================] - 1s 5ms/step\n",
      "[[ 1.         -0.05010177  0.11758143 ... -0.0207862  -0.05338381\n",
      "   0.05338381]\n",
      " [-0.05010177  1.          0.10703767 ... -0.07325435  0.02427004\n",
      "  -0.02427005]\n",
      " [ 0.11758143  0.10703767  1.         ... -0.05236055 -0.02926593\n",
      "   0.02926593]\n",
      " ...\n",
      " [-0.0207862  -0.07325435 -0.05236055 ...  1.          0.01805905\n",
      "  -0.01805905]\n",
      " [-0.05338381  0.02427004 -0.02926593 ...  0.01805905  1.\n",
      "  -1.        ]\n",
      " [ 0.05338381 -0.02427005  0.02926593 ... -0.01805905 -1.\n",
      "   1.        ]]\n"
     ]
    }
   ],
   "source": [
    "predictions = model.predict(X_train)\n",
    "\n",
    "correlation_matrix = np.corrcoef(X_train.reshape(X_train.shape[0], -1).T, predictions.T)\n",
    "\n",
    "print(correlation_matrix)"
   ]
  },
  {
   "cell_type": "code",
   "execution_count": null,
   "id": "004eecd8",
   "metadata": {},
   "outputs": [],
   "source": []
  },
  {
   "cell_type": "code",
   "execution_count": null,
   "id": "cf327660",
   "metadata": {},
   "outputs": [],
   "source": []
  },
  {
   "cell_type": "code",
   "execution_count": null,
   "id": "5bb75dc5",
   "metadata": {},
   "outputs": [],
   "source": []
  }
 ],
 "metadata": {
  "kernelspec": {
   "display_name": "Python 3 (ipykernel)",
   "language": "python",
   "name": "python3"
  },
  "language_info": {
   "codemirror_mode": {
    "name": "ipython",
    "version": 3
   },
   "file_extension": ".py",
   "mimetype": "text/x-python",
   "name": "python",
   "nbconvert_exporter": "python",
   "pygments_lexer": "ipython3",
   "version": "3.10.12"
  }
 },
 "nbformat": 4,
 "nbformat_minor": 5
}
