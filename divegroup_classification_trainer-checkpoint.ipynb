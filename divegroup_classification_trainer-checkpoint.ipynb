{
 "cells": [
  {
   "cell_type": "code",
   "execution_count": 1,
   "id": "1c6758aa",
   "metadata": {},
   "outputs": [],
   "source": [
    "import pandas as pd\n",
    "import numpy as np\n",
    "import tensorflow as tf\n",
    "import os\n",
    "import math\n",
    "from tensorflow import keras\n",
    "from sklearn.preprocessing import LabelEncoder\n",
    "from sklearn.model_selection import train_test_split\n",
    "from tensorflow.keras.layers import LSTM, Dense, Dropout\n",
    "from tensorflow.keras.utils import to_categorical\n",
    "from tensorflow.keras.models import Sequential\n",
    "import seaborn as sns\n",
    "import matplotlib.pyplot as plt"
   ]
  },
  {
   "cell_type": "code",
   "execution_count": 2,
   "id": "aead090b",
   "metadata": {},
   "outputs": [],
   "source": [
    "class Vis_obj():         \n",
    "    def __init__(self,dat1,dat2):   \n",
    "        self.name = dat1  \n",
    "        self.vis = dat2"
   ]
  },
  {
   "cell_type": "code",
   "execution_count": 3,
   "id": "5298511b",
   "metadata": {},
   "outputs": [],
   "source": [
    "features = ['NOSE_x','NOSE_y','NOSE_z','NOSE_vis',\n",
    "            #'LEFT_EYE_INNER_x','LEFT_EYE_INNER_y','LEFT_EYE_INNER_z','LEFT_EYE_INNER_vis',\n",
    "            #'LEFT_EYE_x','LEFT_EYE_y','LEFT_EYE_z','LEFT_EYE_vis',\n",
    "            #'LEFT_EYE_OUTER_x','LEFT_EYE_OUTER_y','LEFT_EYE_OUTER_z','LEFT_EYE_OUTER_vis',\n",
    "            #'RIGHT_EYE_INNER_x','RIGHT_EYE_INNER_y','RIGHT_EYE_INNER_z','RIGHT_EYE_INNER_vis',\n",
    "            #'RIGHT_EYE_x','RIGHT_EYE_y','RIGHT_EYE_z','RIGHT_EYE_vis',\n",
    "            #'RIGHT_EYE_OUTER_x','RIGHT_EYE_OUTER_y','RIGHT_EYE_OUTER_z','RIGHT_EYE_OUTER_vis',\n",
    "            #'LEFT_EAR_x','LEFT_EAR_y','LEFT_EAR_z','LEFT_EAR_vis',\n",
    "            #'RIGHT_EAR_x','RIGHT_EAR_y','RIGHT_EAR_z','RIGHT_EAR_vis',\n",
    "            #'MOUTH_LEFT_x','MOUTH_LEFT_y','MOUTH_LEFT_z','MOUTH_LEFT_vis',\n",
    "            #'MOUTH_RIGHT_x','MOUTH_RIGHT_y','MOUTH_RIGHT_z','MOUTH_RIGHT_vis',\n",
    "            'LEFT_SHOULDER_x','LEFT_SHOULDER_y','LEFT_SHOULDER_z','LEFT_SHOULDER_vis',\n",
    "            'RIGHT_SHOULDER_x','RIGHT_SHOULDER_y','RIGHT_SHOULDER_z','RIGHT_SHOULDER_vis',\n",
    "            'LEFT_ELBOW_x','LEFT_ELBOW_y','LEFT_ELBOW_z','LEFT_ELBOW_vis',\n",
    "            'RIGHT_ELBOW_x','RIGHT_ELBOW_y','RIGHT_ELBOW_z','RIGHT_ELBOW_vis',\n",
    "            'LEFT_WRIST_x','LEFT_WRIST_y','LEFT_WRIST_z','LEFT_WRIST_vis',\n",
    "            'RIGHT_WRIST_x','RIGHT_WRIST_y','RIGHT_WRIST_z','RIGHT_WRIST_vis',\n",
    "            #'LEFT_PINKY_x','LEFT_PINKY_y','LEFT_PINKY_z','LEFT_PINKY_vis',\n",
    "            #'RIGHT_PINKY_x','RIGHT_PINKY_y','RIGHT_PINKY_z','RIGHT_PINKY_vis',\n",
    "            #'LEFT_INDEX_x','LEFT_INDEX_y','LEFT_INDEX_z','LEFT_INDEX_vis',\n",
    "            #'RIGHT_INDEX_x','RIGHT_INDEX_y','RIGHT_INDEX_z','RIGHT_INDEX_vis',\n",
    "            #'LEFT_THUMB_x','LEFT_THUMB_y','LEFT_THUMB_z','LEFT_THUMB_vis',\n",
    "            #'RIGHT_THUMB_x','RIGHT_THUMB_y','RIGHT_THUMB_z','RIGHT_THUMB_vis',\n",
    "            'LEFT_HIP_x','LEFT_HIP_y','LEFT_HIP_z','LEFT_HIP_vis',\n",
    "            'RIGHT_HIP_x','RIGHT_HIP_y','RIGHT_HIP_z','RIGHT_HIP_vis',\n",
    "            'LEFT_KNEE_x','LEFT_KNEE_y','LEFT_KNEE_z','LEFT_KNEE_vis',\n",
    "            'RIGHT_KNEE_x','RIGHT_KNEE_y','RIGHT_KNEE_z','RIGHT_KNEE_vis',\n",
    "            'LEFT_ANKLE_x','LEFT_ANKLE_y','LEFT_ANKLE_z','LEFT_ANKLE_vis',\n",
    "            'RIGHT_ANKLE_x','RIGHT_ANKLE_y','RIGHT_ANKLE_z','RIGHT_ANKLE_vis',\n",
    "            'LEFT_HEEL_x','LEFT_HEEL_y','LEFT_HEEL_z','LEFT_HEEL_vis',\n",
    "            'RIGHT_HEEL_x','RIGHT_HEEL_y','RIGHT_HEEL_z','RIGHT_HEEL_vis',\n",
    "            'LEFT_FOOT_INDEX_x','LEFT_FOOT_INDEX_y','LEFT_FOOT_INDEX_z','LEFT_FOOT_INDEX_vis',\n",
    "            'RIGHT_FOOT_INDEX_x','RIGHT_FOOT_INDEX_y','RIGHT_FOOT_INDEX_z','RIGHT_FOOT_INDEX_vis'\n",
    "            ]\n"
   ]
  },
  {
   "cell_type": "code",
   "execution_count": 4,
   "id": "8afc7df7",
   "metadata": {},
   "outputs": [],
   "source": [
    "final_train_data=np.array([])\n",
    "start_frame=10\n",
    "num_frames_to_process=100\n",
    "interval_between_frames=2"
   ]
  },
  {
   "cell_type": "code",
   "execution_count": 18,
   "id": "65fa9ed7",
   "metadata": {},
   "outputs": [],
   "source": [
    "csv_file = 'scores.csv'\n",
    "df = pd.read_csv(csv_file)\n",
    "pose_data = []\n",
    "video_labels = []\n",
    "final_train_data\n",
    "count=0\n",
    "for index, row in df.iterrows():\n",
    "    \n",
    "    matchName=row['Match name']\n",
    "    sno=row['Sno']\n",
    "    divePosition=row['Dive Group']\n",
    "    \n",
    "    if type(divePosition) is str:\n",
    "        divePosition=divePosition.upper()\n",
    "    \n",
    "    if(divePosition!=\"INWARD\" and divePosition!=\"BACK\"):# and divePosition!=\"FORWARD\" and divePosition!=\"REVERSE\" and divePosition!=\"ARMSTAND\"):\n",
    "        continue\n",
    "    \n",
    "    isFile = os.path.isfile('ExtractedPoseData/'+str(sno)+\"_\"+matchName+\".csv\")\n",
    "    if(isFile):\n",
    "        pose_df = pd.read_csv('ExtractedPoseData/'+str(sno)+\"_\"+matchName+\".csv\")\n",
    "        if pose_df.shape[0]<100:\n",
    "            continue\n",
    "        \n",
    "        video_label=divePosition\n",
    "        feature_columns = [f'{part}' for part in features]\n",
    "        pose_data_combined=[]\n",
    "        pose_df_cropped=pose_df[feature_columns]\n",
    "        \n",
    "        total_frames=len(pose_df)        \n",
    "        interval_between_frames=int((total_frames)/25)\n",
    "        #print(pose_df.iloc[-1]['Frame'],pose_df.iloc[0]['Frame'],total_frames,interval_between_frames)\n",
    "        count_frame=0\n",
    "        for x in range(0,total_frames-1,interval_between_frames):\n",
    "                count_frame+=1\n",
    "                pose_data_combined.append(pose_df_cropped.iloc[x])\n",
    "                if count_frame>=25:\n",
    "                    break\n",
    "        pose_data.append(pose_data_combined)\n",
    "        video_labels.append(video_label)\n",
    "        count+=1\n",
    "final_train_data = np.array(pose_data)      \n",
    "video_labels = np.array(video_labels)"
   ]
  },
  {
   "cell_type": "code",
   "execution_count": 19,
   "id": "fb371b28",
   "metadata": {},
   "outputs": [
    {
     "name": "stdout",
     "output_type": "stream",
     "text": [
      "LEFT_KNEE_ 3197.1296403475317\n",
      "LEFT_WRIST_ 3432.5723331738845\n",
      "LEFT_ELBOW_ 3488.8626293942216\n",
      "LEFT_ANKLE_ 3539.6919381086373\n",
      "RIGHT_ELBOW_ 3577.8996898913756\n",
      "RIGHT_WRIST_ 3691.514462128871\n",
      "RIGHT_KNEE_ 3787.974464105806\n",
      "LEFT_HEEL_ 3819.3562428453297\n",
      "RIGHT_ANKLE_ 3887.9614133322902\n",
      "LEFT_FOOT_INDEX_ 3890.1233994794748\n",
      "RIGHT_HEEL_ 3896.3276167250588\n",
      "RIGHT_FOOT_INDEX_ 3982.2084009314713\n",
      "NOSE_ 7956.94141360186\n",
      "LEFT_HIP_ 7959.2293283920735\n",
      "RIGHT_HIP_ 7961.220680771396\n",
      "RIGHT_SHOULDER_ 8105.355346858501\n",
      "LEFT_SHOULDER_ 8111.282342791557\n"
     ]
    }
   ],
   "source": [
    "\n",
    "# Define a list of N features you want to plot\n",
    "features_to_plot = [\n",
    "            'NOSE_',\n",
    "            #'LEFT_EYE_INNER_',\n",
    "            #'LEFT_EYE_',\n",
    "            #'LEFT_EYE_OUTER_',\n",
    "            #'RIGHT_EYE_INNER_',\n",
    "            #'RIGHT_EYE_',\n",
    "            #'RIGHT_EYE_OUTER_',\n",
    "            #'LEFT_EAR_',\n",
    "            #'RIGHT_EAR_',\n",
    "            #'MOUTH_LEFT_',\n",
    "            #'MOUTH_RIGHT_',\n",
    "            'LEFT_SHOULDER_',\n",
    "            'RIGHT_SHOULDER_',\n",
    "            'LEFT_ELBOW_',\n",
    "            'RIGHT_ELBOW_',\n",
    "            'LEFT_WRIST_',\n",
    "            'RIGHT_WRIST_',\n",
    "            #'LEFT_PINKY_',\n",
    "            #'RIGHT_PINKY_',\n",
    "            #'LEFT_INDEX_',\n",
    "            #'RIGHT_INDEX_',\n",
    "            #'LEFT_THUMB_',\n",
    "            #'RIGHT_THUMB_',\n",
    "            'LEFT_HIP_',\n",
    "            'RIGHT_HIP_',\n",
    "            'LEFT_KNEE_',\n",
    "            'RIGHT_KNEE_',\n",
    "            'LEFT_ANKLE_',\n",
    "            'RIGHT_ANKLE_',\n",
    "            'LEFT_HEEL_',\n",
    "            'RIGHT_HEEL_',\n",
    "            'LEFT_FOOT_INDEX_',\n",
    "            'RIGHT_FOOT_INDEX_'\n",
    "                   ]  \n",
    "\n",
    "# Create an empty list to store the summed data for each feature\n",
    "summed_data = []\n",
    "vis_data=[0]*len(features_to_plot)\n",
    "\n",
    "# Find the indices and extract the \"vis\" attribute for each feature\n",
    "for vi in range(final_train_data.shape[0]):\n",
    "    for fi in range(final_train_data.shape[1]):\n",
    "            for feature in features_to_plot:\n",
    "                index_feature = features.index(feature+'vis')\n",
    "                vis_data[features_to_plot.index(feature)] += final_train_data[vi][fi][index_feature]     \n",
    "\n",
    "final_vis_data=[]\n",
    "for i in range(len(vis_data)):\n",
    "    final_vis_data.append(Vis_obj(dat1=features_to_plot[i],dat2=vis_data[i]))\n",
    "sorted_vis_data = sorted(final_vis_data, key=lambda x: x.vis)\n",
    "sorted_features=[]\n",
    "for i in range(len(vis_data)):\n",
    "    print(sorted_vis_data[i].name,sorted_vis_data[i].vis)\n",
    "    sorted_features.append(sorted_vis_data[i].name)\n",
    "\n"
   ]
  },
  {
   "cell_type": "code",
   "execution_count": 20,
   "id": "6d52727d",
   "metadata": {},
   "outputs": [
    {
     "name": "stdout",
     "output_type": "stream",
     "text": [
      "['NOSE_x', 'NOSE_y', 'NOSE_z', 'LEFT_SHOULDER_x', 'LEFT_SHOULDER_y', 'LEFT_SHOULDER_z', 'RIGHT_SHOULDER_x', 'RIGHT_SHOULDER_y', 'RIGHT_SHOULDER_z', 'LEFT_ELBOW_x', 'LEFT_ELBOW_y', 'LEFT_ELBOW_z', 'RIGHT_ELBOW_x', 'RIGHT_ELBOW_y', 'RIGHT_ELBOW_z', 'LEFT_WRIST_x', 'LEFT_WRIST_y', 'LEFT_WRIST_z', 'RIGHT_WRIST_x', 'RIGHT_WRIST_y', 'RIGHT_WRIST_z', 'LEFT_HIP_x', 'LEFT_HIP_y', 'LEFT_HIP_z', 'RIGHT_HIP_x', 'RIGHT_HIP_y', 'RIGHT_HIP_z', 'LEFT_KNEE_x', 'LEFT_KNEE_y', 'LEFT_KNEE_z', 'RIGHT_KNEE_x', 'RIGHT_KNEE_y', 'RIGHT_KNEE_z', 'LEFT_ANKLE_x', 'LEFT_ANKLE_y', 'LEFT_ANKLE_z', 'RIGHT_ANKLE_x', 'RIGHT_ANKLE_y', 'RIGHT_ANKLE_z', 'LEFT_HEEL_x', 'LEFT_HEEL_y', 'LEFT_HEEL_z', 'RIGHT_HEEL_x', 'RIGHT_HEEL_y', 'RIGHT_HEEL_z', 'LEFT_FOOT_INDEX_x', 'LEFT_FOOT_INDEX_y', 'LEFT_FOOT_INDEX_z', 'RIGHT_FOOT_INDEX_x', 'RIGHT_FOOT_INDEX_y', 'RIGHT_FOOT_INDEX_z']\n"
     ]
    }
   ],
   "source": [
    "# remove less visible features\n",
    "processed_data=[] \n",
    "features_t=[]\n",
    "for vi in range(final_train_data.shape[0]):\n",
    "    i=0\n",
    "    vid_data=np.array(final_train_data[vi]) \n",
    "    features_t=features.copy()\n",
    "    for feature in sorted_features:\n",
    "        column_index = features_t.index(feature+'vis')\n",
    "        vid_data = np.delete(vid_data, column_index, axis=1)   \n",
    "        features_t.remove(feature+'vis')\n",
    "        if i<0:\n",
    "            vid_data1 = np.delete(vid_data,features_t.index(feature+'x'), axis=1)  \n",
    "            features_t.remove(feature+'x')\n",
    "            vid_data2 = np.delete(vid_data1,features_t.index(feature+'y'), axis=1)\n",
    "            features_t.remove(feature+'y')\n",
    "            vid_data3 = np.delete(vid_data2,features_t.index(feature+'z'), axis=1)\n",
    "            features_t.remove(feature+'z')\n",
    "            vid_data.resize(vid_data3.shape)\n",
    "            vid_data=vid_data3\n",
    "        i+=1\n",
    "        \n",
    "    processed_data.append(vid_data)\n",
    "\n",
    "print(features_t)\n",
    "processed_data = np.array(processed_data) \n",
    "            "
   ]
  },
  {
   "cell_type": "code",
   "execution_count": 21,
   "id": "f0587590",
   "metadata": {},
   "outputs": [],
   "source": [
    "# Encode labels as integers\n",
    "label_encoder = LabelEncoder()\n",
    "encoded_labels = label_encoder.fit_transform(video_labels)\n"
   ]
  },
  {
   "cell_type": "code",
   "execution_count": 22,
   "id": "d7000144",
   "metadata": {},
   "outputs": [],
   "source": [
    "# Split the data into training and testing sets\n",
    "X_train, X_test, y_train, y_test = train_test_split(processed_data, encoded_labels, test_size=0.2, random_state=42)\n"
   ]
  },
  {
   "cell_type": "code",
   "execution_count": 23,
   "id": "439583e9",
   "metadata": {},
   "outputs": [
    {
     "name": "stdout",
     "output_type": "stream",
     "text": [
      "325 (25, 51)\n",
      "(325,)\n",
      "[0 0 0 0 1 0 0 1 0 1 0 1 1 1 1 1 1 1 1 0 0 1 0 0 1 0 0 0 1 0 0 1 0 1 1 1 0\n",
      " 0 1 0 0 0 0 0 0 1 1 1 0 1 0 0 1 1 1 1 1 0 0 0 0 0 0 0 0 0 0 0 0 0 0 0 0 1\n",
      " 1 0 1 0 1 0 1 0 0 0 0 1 1 1 1 1 1 0 0 1 1 1 0 0 1 0 0 0 1 1 1 0 1 0 1 1 0\n",
      " 0 0 0 0 1 1 0 1 0 1 0 0 0 0 0 0 0 0 0 0 0 0 0 0 0 1 1 1 1 0 1 1 1 1 1 0 0\n",
      " 0 0 0 1 1 1 0 0 0 0 1 0 0 0 0 0 0 0 0 0 0 0 0 0 0 0 0 0 0 0 1 0 0 1 1 1 0\n",
      " 1 0 0 1 1 0 0 1 0 0 0 1 1 1 1 1 1 0 1 1 0 0 0 1 0 0 0 0 1 1 0 0 0 1 0 1 1\n",
      " 1 0 0 1 1 1 0 0 1 1 1 0 0 0 0 0 0 1 0 0 0 1 1 1 1 0 1 1 1 0 0 0 0 0 0 1 1\n",
      " 0 0 1 1 0 1 0 0 0 1 0 0 0 0 0 0 0 0 0 0 0 0 0 1 0 0 0 0 0 0 1 1 0 0 1 1 0\n",
      " 1 1 0 0 1 0 0 0 1 1 1 1 1 0 1 1 0 0 0 1 0 0 0 1 1 0 0 1 1]\n"
     ]
    }
   ],
   "source": [
    "num_classes = 4\n",
    "num_epochs = 60\n",
    "batch_size = 10\n",
    "print(len(processed_data),processed_data[0].shape)\n",
    "print(encoded_labels.shape)\n",
    "print(encoded_labels)"
   ]
  },
  {
   "cell_type": "code",
   "execution_count": 24,
   "id": "1815f864",
   "metadata": {},
   "outputs": [],
   "source": [
    "y_train_encoded = to_categorical(y_train, num_classes=num_classes)\n",
    "y_test_encoded = to_categorical(y_test, num_classes=num_classes)"
   ]
  },
  {
   "cell_type": "code",
   "execution_count": 25,
   "id": "a08e9332",
   "metadata": {},
   "outputs": [],
   "source": [
    "model = Sequential()\n",
    "model.add(LSTM(units=64, input_shape=(processed_data[0].shape[0], processed_data[0].shape[1])))  # Input shape: (timesteps, features)\n",
    "model.add(Dense(units=num_classes, activation='softmax'))  # Output layer with softmax for classification"
   ]
  },
  {
   "cell_type": "code",
   "execution_count": 26,
   "id": "8747b645",
   "metadata": {},
   "outputs": [],
   "source": [
    "# Compile the model\n",
    "model.compile(loss='categorical_crossentropy', optimizer='adam', metrics=['accuracy'])\n"
   ]
  },
  {
   "cell_type": "code",
   "execution_count": 27,
   "id": "f27d88ce",
   "metadata": {},
   "outputs": [
    {
     "name": "stdout",
     "output_type": "stream",
     "text": [
      "Epoch 1/60\n",
      "26/26 [==============================] - 3s 36ms/step - loss: 0.8853 - accuracy: 0.5500 - val_loss: 0.7556 - val_accuracy: 0.4154\n",
      "Epoch 2/60\n",
      "26/26 [==============================] - 0s 12ms/step - loss: 0.7155 - accuracy: 0.5731 - val_loss: 0.6989 - val_accuracy: 0.5692\n",
      "Epoch 3/60\n",
      "26/26 [==============================] - 0s 14ms/step - loss: 0.6765 - accuracy: 0.6115 - val_loss: 0.6939 - val_accuracy: 0.5692\n",
      "Epoch 4/60\n",
      "26/26 [==============================] - 0s 11ms/step - loss: 0.6747 - accuracy: 0.6115 - val_loss: 0.6840 - val_accuracy: 0.5692\n",
      "Epoch 5/60\n",
      "26/26 [==============================] - 0s 12ms/step - loss: 0.6729 - accuracy: 0.6231 - val_loss: 0.7083 - val_accuracy: 0.5692\n",
      "Epoch 6/60\n",
      "26/26 [==============================] - 0s 11ms/step - loss: 0.6807 - accuracy: 0.5962 - val_loss: 0.7201 - val_accuracy: 0.5692\n",
      "Epoch 7/60\n",
      "26/26 [==============================] - 0s 11ms/step - loss: 0.6548 - accuracy: 0.6154 - val_loss: 0.6736 - val_accuracy: 0.5692\n",
      "Epoch 8/60\n",
      "26/26 [==============================] - 0s 12ms/step - loss: 0.6452 - accuracy: 0.6154 - val_loss: 0.6579 - val_accuracy: 0.5692\n",
      "Epoch 9/60\n",
      "26/26 [==============================] - 0s 11ms/step - loss: 0.6336 - accuracy: 0.6538 - val_loss: 0.7447 - val_accuracy: 0.5692\n",
      "Epoch 10/60\n",
      "26/26 [==============================] - 0s 12ms/step - loss: 0.6455 - accuracy: 0.6154 - val_loss: 0.6480 - val_accuracy: 0.6462\n",
      "Epoch 11/60\n",
      "26/26 [==============================] - 0s 11ms/step - loss: 0.6266 - accuracy: 0.6385 - val_loss: 0.6330 - val_accuracy: 0.5846\n",
      "Epoch 12/60\n",
      "26/26 [==============================] - 0s 13ms/step - loss: 0.6196 - accuracy: 0.6538 - val_loss: 0.6279 - val_accuracy: 0.5692\n",
      "Epoch 13/60\n",
      "26/26 [==============================] - 0s 10ms/step - loss: 0.5982 - accuracy: 0.6500 - val_loss: 0.6091 - val_accuracy: 0.7538\n",
      "Epoch 14/60\n",
      "26/26 [==============================] - 0s 11ms/step - loss: 0.6137 - accuracy: 0.6692 - val_loss: 0.5998 - val_accuracy: 0.6154\n",
      "Epoch 15/60\n",
      "26/26 [==============================] - 0s 11ms/step - loss: 0.6025 - accuracy: 0.6462 - val_loss: 0.6859 - val_accuracy: 0.5846\n",
      "Epoch 16/60\n",
      "26/26 [==============================] - 0s 14ms/step - loss: 0.5743 - accuracy: 0.6923 - val_loss: 0.5556 - val_accuracy: 0.7385\n",
      "Epoch 17/60\n",
      "26/26 [==============================] - 0s 13ms/step - loss: 0.5520 - accuracy: 0.7154 - val_loss: 0.5714 - val_accuracy: 0.6154\n",
      "Epoch 18/60\n",
      "26/26 [==============================] - 0s 13ms/step - loss: 0.4989 - accuracy: 0.7731 - val_loss: 0.6046 - val_accuracy: 0.6462\n",
      "Epoch 19/60\n",
      "26/26 [==============================] - 0s 14ms/step - loss: 0.5741 - accuracy: 0.6769 - val_loss: 0.6734 - val_accuracy: 0.6923\n",
      "Epoch 20/60\n",
      "26/26 [==============================] - 0s 11ms/step - loss: 0.5264 - accuracy: 0.7654 - val_loss: 0.4869 - val_accuracy: 0.7538\n",
      "Epoch 21/60\n",
      "26/26 [==============================] - 0s 11ms/step - loss: 0.4675 - accuracy: 0.7731 - val_loss: 0.4120 - val_accuracy: 0.8615\n",
      "Epoch 22/60\n",
      "26/26 [==============================] - 0s 11ms/step - loss: 0.4282 - accuracy: 0.8231 - val_loss: 0.4288 - val_accuracy: 0.8000\n",
      "Epoch 23/60\n",
      "26/26 [==============================] - 0s 11ms/step - loss: 0.4094 - accuracy: 0.8269 - val_loss: 0.5771 - val_accuracy: 0.7077\n",
      "Epoch 24/60\n",
      "26/26 [==============================] - 0s 13ms/step - loss: 0.4380 - accuracy: 0.7846 - val_loss: 0.3644 - val_accuracy: 0.8615\n",
      "Epoch 25/60\n",
      "26/26 [==============================] - 0s 13ms/step - loss: 0.3575 - accuracy: 0.8462 - val_loss: 0.3303 - val_accuracy: 0.8923\n",
      "Epoch 26/60\n",
      "26/26 [==============================] - 0s 11ms/step - loss: 0.3356 - accuracy: 0.8769 - val_loss: 0.2885 - val_accuracy: 0.8923\n",
      "Epoch 27/60\n",
      "26/26 [==============================] - 0s 11ms/step - loss: 0.4487 - accuracy: 0.7731 - val_loss: 0.4809 - val_accuracy: 0.7077\n",
      "Epoch 28/60\n",
      "26/26 [==============================] - 0s 10ms/step - loss: 0.3952 - accuracy: 0.8500 - val_loss: 0.4251 - val_accuracy: 0.8462\n",
      "Epoch 29/60\n",
      "26/26 [==============================] - 0s 16ms/step - loss: 0.3261 - accuracy: 0.8654 - val_loss: 0.3304 - val_accuracy: 0.8923\n",
      "Epoch 30/60\n",
      "26/26 [==============================] - 0s 12ms/step - loss: 0.3035 - accuracy: 0.8808 - val_loss: 0.2581 - val_accuracy: 0.8923\n",
      "Epoch 31/60\n",
      "26/26 [==============================] - 0s 14ms/step - loss: 0.2614 - accuracy: 0.9077 - val_loss: 0.3995 - val_accuracy: 0.8769\n",
      "Epoch 32/60\n",
      "26/26 [==============================] - 0s 13ms/step - loss: 0.2731 - accuracy: 0.8962 - val_loss: 0.2857 - val_accuracy: 0.9077\n",
      "Epoch 33/60\n",
      "26/26 [==============================] - 0s 16ms/step - loss: 0.2302 - accuracy: 0.9269 - val_loss: 0.2622 - val_accuracy: 0.8615\n",
      "Epoch 34/60\n",
      "26/26 [==============================] - 0s 15ms/step - loss: 0.1924 - accuracy: 0.9346 - val_loss: 0.1993 - val_accuracy: 0.9231\n",
      "Epoch 35/60\n",
      "26/26 [==============================] - 0s 12ms/step - loss: 0.1768 - accuracy: 0.9346 - val_loss: 0.1883 - val_accuracy: 0.9385\n",
      "Epoch 36/60\n",
      "26/26 [==============================] - 0s 14ms/step - loss: 0.2082 - accuracy: 0.9308 - val_loss: 0.2064 - val_accuracy: 0.9231\n",
      "Epoch 37/60\n",
      "26/26 [==============================] - 0s 13ms/step - loss: 0.1714 - accuracy: 0.9346 - val_loss: 0.1977 - val_accuracy: 0.9385\n",
      "Epoch 38/60\n",
      "26/26 [==============================] - 0s 12ms/step - loss: 0.1663 - accuracy: 0.9423 - val_loss: 0.1839 - val_accuracy: 0.9538\n",
      "Epoch 39/60\n",
      "26/26 [==============================] - 0s 13ms/step - loss: 0.1098 - accuracy: 0.9769 - val_loss: 0.1087 - val_accuracy: 0.9846\n",
      "Epoch 40/60\n",
      "26/26 [==============================] - 0s 15ms/step - loss: 0.1356 - accuracy: 0.9615 - val_loss: 0.1230 - val_accuracy: 0.9538\n",
      "Epoch 41/60\n",
      "26/26 [==============================] - 0s 12ms/step - loss: 0.1665 - accuracy: 0.9346 - val_loss: 0.1902 - val_accuracy: 0.9231\n",
      "Epoch 42/60\n",
      "26/26 [==============================] - 0s 14ms/step - loss: 0.1488 - accuracy: 0.9500 - val_loss: 0.1709 - val_accuracy: 0.9231\n",
      "Epoch 43/60\n",
      "26/26 [==============================] - 0s 15ms/step - loss: 0.1018 - accuracy: 0.9654 - val_loss: 0.1331 - val_accuracy: 0.9385\n",
      "Epoch 44/60\n",
      "26/26 [==============================] - 0s 13ms/step - loss: 0.0781 - accuracy: 0.9731 - val_loss: 0.1836 - val_accuracy: 0.9538\n",
      "Epoch 45/60\n",
      "26/26 [==============================] - 0s 13ms/step - loss: 0.0575 - accuracy: 0.9885 - val_loss: 0.0833 - val_accuracy: 0.9692\n",
      "Epoch 46/60\n",
      "26/26 [==============================] - 0s 12ms/step - loss: 0.0834 - accuracy: 0.9846 - val_loss: 0.0761 - val_accuracy: 0.9692\n",
      "Epoch 47/60\n",
      "26/26 [==============================] - 0s 13ms/step - loss: 0.0770 - accuracy: 0.9769 - val_loss: 0.1031 - val_accuracy: 0.9692\n",
      "Epoch 48/60\n",
      "26/26 [==============================] - 0s 13ms/step - loss: 0.1557 - accuracy: 0.9308 - val_loss: 0.4146 - val_accuracy: 0.8615\n",
      "Epoch 49/60\n",
      "26/26 [==============================] - 0s 12ms/step - loss: 0.1466 - accuracy: 0.9346 - val_loss: 0.1594 - val_accuracy: 0.9231\n",
      "Epoch 50/60\n",
      "26/26 [==============================] - 0s 14ms/step - loss: 0.0916 - accuracy: 0.9654 - val_loss: 0.2860 - val_accuracy: 0.9077\n",
      "Epoch 51/60\n",
      "26/26 [==============================] - 1s 21ms/step - loss: 0.0723 - accuracy: 0.9769 - val_loss: 0.1625 - val_accuracy: 0.9077\n",
      "Epoch 52/60\n",
      "26/26 [==============================] - 0s 13ms/step - loss: 0.0366 - accuracy: 0.9962 - val_loss: 0.1623 - val_accuracy: 0.9538\n",
      "Epoch 53/60\n",
      "26/26 [==============================] - 0s 11ms/step - loss: 0.0730 - accuracy: 0.9654 - val_loss: 0.1883 - val_accuracy: 0.9538\n",
      "Epoch 54/60\n",
      "26/26 [==============================] - 0s 11ms/step - loss: 0.0325 - accuracy: 0.9962 - val_loss: 0.1167 - val_accuracy: 0.9538\n",
      "Epoch 55/60\n",
      "26/26 [==============================] - 0s 11ms/step - loss: 0.0205 - accuracy: 0.9962 - val_loss: 0.1043 - val_accuracy: 0.9692\n",
      "Epoch 56/60\n",
      "26/26 [==============================] - 0s 11ms/step - loss: 0.0337 - accuracy: 0.9923 - val_loss: 0.2054 - val_accuracy: 0.9077\n",
      "Epoch 57/60\n",
      "26/26 [==============================] - 0s 11ms/step - loss: 0.0492 - accuracy: 0.9808 - val_loss: 0.0912 - val_accuracy: 0.9538\n",
      "Epoch 58/60\n",
      "26/26 [==============================] - 0s 11ms/step - loss: 0.0360 - accuracy: 0.9885 - val_loss: 0.0652 - val_accuracy: 0.9692\n"
     ]
    },
    {
     "name": "stdout",
     "output_type": "stream",
     "text": [
      "Epoch 59/60\n",
      "26/26 [==============================] - 0s 12ms/step - loss: 0.0349 - accuracy: 0.9962 - val_loss: 0.1516 - val_accuracy: 0.9538\n",
      "Epoch 60/60\n",
      "26/26 [==============================] - 0s 11ms/step - loss: 0.0356 - accuracy: 0.9885 - val_loss: 0.2173 - val_accuracy: 0.9231\n"
     ]
    },
    {
     "data": {
      "text/plain": [
       "<keras.src.callbacks.History at 0x1dd1b338d60>"
      ]
     },
     "execution_count": 27,
     "metadata": {},
     "output_type": "execute_result"
    }
   ],
   "source": [
    "# Train the model\n",
    "model.fit(X_train, y_train_encoded, epochs=num_epochs, batch_size=batch_size, validation_data=(X_test, y_test_encoded))\n"
   ]
  },
  {
   "cell_type": "code",
   "execution_count": 28,
   "id": "d91753f5",
   "metadata": {},
   "outputs": [
    {
     "name": "stdout",
     "output_type": "stream",
     "text": [
      "3/3 [==============================] - 0s 7ms/step - loss: 0.2173 - accuracy: 0.9231\n",
      "Test accuracy: 92.31%\n"
     ]
    }
   ],
   "source": [
    "\n",
    "test_loss, test_accuracy = model.evaluate(X_test, y_test_encoded)\n",
    "\n",
    "print(f'Test accuracy: {test_accuracy * 100:.2f}%')"
   ]
  },
  {
   "cell_type": "code",
   "execution_count": 29,
   "id": "027e96be",
   "metadata": {},
   "outputs": [
    {
     "name": "stdout",
     "output_type": "stream",
     "text": [
      "9/9 [==============================] - 0s 6ms/step - loss: 0.0508 - accuracy: 0.9846\n",
      "Train accuracy: 98.46%\n"
     ]
    }
   ],
   "source": [
    "\n",
    "train_loss, train_accuracy = model.evaluate(X_train, y_train_encoded)\n",
    "\n",
    "print(f'Train accuracy: {train_accuracy * 100:.2f}%')"
   ]
  },
  {
   "cell_type": "code",
   "execution_count": 17,
   "id": "92fd6b26",
   "metadata": {},
   "outputs": [
    {
     "name": "stdout",
     "output_type": "stream",
     "text": [
      "17/17 [==============================] - 1s 5ms/step\n",
      "(1279, 1279)\n"
     ]
    }
   ],
   "source": [
    "predictions = model.predict(X_train)\n",
    "\n",
    "correlation_matrix = np.corrcoef(X_train.reshape(X_train.shape[0], -1).T, predictions.T)\n",
    "\n",
    "print(correlation_matrix.shape)"
   ]
  },
  {
   "cell_type": "code",
   "execution_count": null,
   "id": "004eecd8",
   "metadata": {},
   "outputs": [],
   "source": []
  },
  {
   "cell_type": "code",
   "execution_count": null,
   "id": "cf327660",
   "metadata": {},
   "outputs": [],
   "source": []
  },
  {
   "cell_type": "code",
   "execution_count": null,
   "id": "75b3496f",
   "metadata": {},
   "outputs": [],
   "source": []
  }
 ],
 "metadata": {
  "kernelspec": {
   "display_name": "Python 3 (ipykernel)",
   "language": "python",
   "name": "python3"
  },
  "language_info": {
   "codemirror_mode": {
    "name": "ipython",
    "version": 3
   },
   "file_extension": ".py",
   "mimetype": "text/x-python",
   "name": "python",
   "nbconvert_exporter": "python",
   "pygments_lexer": "ipython3",
   "version": "3.10.12"
  }
 },
 "nbformat": 4,
 "nbformat_minor": 5
}
