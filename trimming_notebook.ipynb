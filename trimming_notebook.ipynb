{
 "cells": [
  {
   "cell_type": "code",
   "execution_count": 10,
   "id": "c892c4f5-7bb2-4f62-ad75-46e1f4abd61f",
   "metadata": {},
   "outputs": [
    {
     "name": "stdout",
     "output_type": "stream",
     "text": [
      "Moviepy - Building video HighJumpDataset/women's\\115_high_jump_tokyo_olympics_women.mp4.\n",
      "Moviepy - Writing video HighJumpDataset/women's\\115_high_jump_tokyo_olympics_women.mp4\n",
      "\n"
     ]
    },
    {
     "name": "stderr",
     "output_type": "stream",
     "text": [
      "                                                                                                                       \r"
     ]
    },
    {
     "name": "stdout",
     "output_type": "stream",
     "text": [
      "Moviepy - Done !\n",
      "Moviepy - video ready HighJumpDataset/women's\\115_high_jump_tokyo_olympics_women.mp4\n",
      "Moviepy - Building video HighJumpDataset/women's\\116_high_jump_tokyo_olympics_women.mp4.\n",
      "Moviepy - Writing video HighJumpDataset/women's\\116_high_jump_tokyo_olympics_women.mp4\n",
      "\n"
     ]
    },
    {
     "name": "stderr",
     "output_type": "stream",
     "text": [
      "                                                                                                                       \r"
     ]
    },
    {
     "name": "stdout",
     "output_type": "stream",
     "text": [
      "Moviepy - Done !\n",
      "Moviepy - video ready HighJumpDataset/women's\\116_high_jump_tokyo_olympics_women.mp4\n",
      "Moviepy - Building video HighJumpDataset/women's\\117_high_jump_tokyo_olympics_women.mp4.\n",
      "Moviepy - Writing video HighJumpDataset/women's\\117_high_jump_tokyo_olympics_women.mp4\n",
      "\n"
     ]
    },
    {
     "name": "stderr",
     "output_type": "stream",
     "text": [
      "                                                                                                                       \r"
     ]
    },
    {
     "name": "stdout",
     "output_type": "stream",
     "text": [
      "Moviepy - Done !\n",
      "Moviepy - video ready HighJumpDataset/women's\\117_high_jump_tokyo_olympics_women.mp4\n",
      "Moviepy - Building video HighJumpDataset/women's\\118_high_jump_tokyo_olympics_women.mp4.\n",
      "Moviepy - Writing video HighJumpDataset/women's\\118_high_jump_tokyo_olympics_women.mp4\n",
      "\n"
     ]
    },
    {
     "name": "stderr",
     "output_type": "stream",
     "text": [
      "                                                                                                                       \r"
     ]
    },
    {
     "name": "stdout",
     "output_type": "stream",
     "text": [
      "Moviepy - Done !\n",
      "Moviepy - video ready HighJumpDataset/women's\\118_high_jump_tokyo_olympics_women.mp4\n",
      "Moviepy - Building video HighJumpDataset/women's\\119_high_jump_tokyo_olympics_women.mp4.\n",
      "Moviepy - Writing video HighJumpDataset/women's\\119_high_jump_tokyo_olympics_women.mp4\n",
      "\n"
     ]
    },
    {
     "name": "stderr",
     "output_type": "stream",
     "text": [
      "                                                                                                                       \r"
     ]
    },
    {
     "name": "stdout",
     "output_type": "stream",
     "text": [
      "Moviepy - Done !\n",
      "Moviepy - video ready HighJumpDataset/women's\\119_high_jump_tokyo_olympics_women.mp4\n",
      "Moviepy - Building video HighJumpDataset/women's\\120_high_jump_tokyo_olympics_women.mp4.\n",
      "Moviepy - Writing video HighJumpDataset/women's\\120_high_jump_tokyo_olympics_women.mp4\n",
      "\n"
     ]
    },
    {
     "name": "stderr",
     "output_type": "stream",
     "text": [
      "                                                                                                                       \r"
     ]
    },
    {
     "name": "stdout",
     "output_type": "stream",
     "text": [
      "Moviepy - Done !\n",
      "Moviepy - video ready HighJumpDataset/women's\\120_high_jump_tokyo_olympics_women.mp4\n",
      "Moviepy - Building video HighJumpDataset/women's\\121_high_jump_tokyo_olympics_women.mp4.\n",
      "Moviepy - Writing video HighJumpDataset/women's\\121_high_jump_tokyo_olympics_women.mp4\n",
      "\n"
     ]
    },
    {
     "name": "stderr",
     "output_type": "stream",
     "text": [
      "                                                                                                                       \r"
     ]
    },
    {
     "name": "stdout",
     "output_type": "stream",
     "text": [
      "Moviepy - Done !\n",
      "Moviepy - video ready HighJumpDataset/women's\\121_high_jump_tokyo_olympics_women.mp4\n",
      "Moviepy - Building video HighJumpDataset/women's\\122_high_jump_tokyo_olympics_women.mp4.\n",
      "Moviepy - Writing video HighJumpDataset/women's\\122_high_jump_tokyo_olympics_women.mp4\n",
      "\n"
     ]
    },
    {
     "name": "stderr",
     "output_type": "stream",
     "text": [
      "                                                                                                                       \r"
     ]
    },
    {
     "name": "stdout",
     "output_type": "stream",
     "text": [
      "Moviepy - Done !\n",
      "Moviepy - video ready HighJumpDataset/women's\\122_high_jump_tokyo_olympics_women.mp4\n",
      "Moviepy - Building video HighJumpDataset/women's\\123_high_jump_tokyo_olympics_women.mp4.\n",
      "Moviepy - Writing video HighJumpDataset/women's\\123_high_jump_tokyo_olympics_women.mp4\n",
      "\n"
     ]
    },
    {
     "name": "stderr",
     "output_type": "stream",
     "text": [
      "                                                                                                                       \r"
     ]
    },
    {
     "name": "stdout",
     "output_type": "stream",
     "text": [
      "Moviepy - Done !\n",
      "Moviepy - video ready HighJumpDataset/women's\\123_high_jump_tokyo_olympics_women.mp4\n",
      "Moviepy - Building video HighJumpDataset/women's\\124_high_jump_tokyo_olympics_women.mp4.\n",
      "Moviepy - Writing video HighJumpDataset/women's\\124_high_jump_tokyo_olympics_women.mp4\n",
      "\n"
     ]
    },
    {
     "name": "stderr",
     "output_type": "stream",
     "text": [
      "                                                                                                                       \r"
     ]
    },
    {
     "name": "stdout",
     "output_type": "stream",
     "text": [
      "Moviepy - Done !\n",
      "Moviepy - video ready HighJumpDataset/women's\\124_high_jump_tokyo_olympics_women.mp4\n",
      "Moviepy - Building video HighJumpDataset/women's\\125_high_jump_tokyo_olympics_women.mp4.\n",
      "Moviepy - Writing video HighJumpDataset/women's\\125_high_jump_tokyo_olympics_women.mp4\n",
      "\n"
     ]
    },
    {
     "name": "stderr",
     "output_type": "stream",
     "text": [
      "                                                                                                                       \r"
     ]
    },
    {
     "name": "stdout",
     "output_type": "stream",
     "text": [
      "Moviepy - Done !\n",
      "Moviepy - video ready HighJumpDataset/women's\\125_high_jump_tokyo_olympics_women.mp4\n",
      "Moviepy - Building video HighJumpDataset/women's\\126_high_jump_tokyo_olympics_women.mp4.\n",
      "Moviepy - Writing video HighJumpDataset/women's\\126_high_jump_tokyo_olympics_women.mp4\n",
      "\n"
     ]
    },
    {
     "name": "stderr",
     "output_type": "stream",
     "text": [
      "                                                                                                                       \r"
     ]
    },
    {
     "name": "stdout",
     "output_type": "stream",
     "text": [
      "Moviepy - Done !\n",
      "Moviepy - video ready HighJumpDataset/women's\\126_high_jump_tokyo_olympics_women.mp4\n",
      "Moviepy - Building video HighJumpDataset/women's\\127_high_jump_tokyo_olympics_women.mp4.\n",
      "Moviepy - Writing video HighJumpDataset/women's\\127_high_jump_tokyo_olympics_women.mp4\n",
      "\n"
     ]
    },
    {
     "name": "stderr",
     "output_type": "stream",
     "text": [
      "                                                                                                                       \r"
     ]
    },
    {
     "name": "stdout",
     "output_type": "stream",
     "text": [
      "Moviepy - Done !\n",
      "Moviepy - video ready HighJumpDataset/women's\\127_high_jump_tokyo_olympics_women.mp4\n",
      "Moviepy - Building video HighJumpDataset/women's\\128_high_jump_tokyo_olympics_women.mp4.\n",
      "Moviepy - Writing video HighJumpDataset/women's\\128_high_jump_tokyo_olympics_women.mp4\n",
      "\n"
     ]
    },
    {
     "name": "stderr",
     "output_type": "stream",
     "text": [
      "                                                                                                                       \r"
     ]
    },
    {
     "name": "stdout",
     "output_type": "stream",
     "text": [
      "Moviepy - Done !\n",
      "Moviepy - video ready HighJumpDataset/women's\\128_high_jump_tokyo_olympics_women.mp4\n",
      "Moviepy - Building video HighJumpDataset/women's\\129_high_jump_tokyo_olympics_women.mp4.\n",
      "Moviepy - Writing video HighJumpDataset/women's\\129_high_jump_tokyo_olympics_women.mp4\n",
      "\n"
     ]
    },
    {
     "name": "stderr",
     "output_type": "stream",
     "text": [
      "                                                                                                                       \r"
     ]
    },
    {
     "name": "stdout",
     "output_type": "stream",
     "text": [
      "Moviepy - Done !\n",
      "Moviepy - video ready HighJumpDataset/women's\\129_high_jump_tokyo_olympics_women.mp4\n",
      "Moviepy - Building video HighJumpDataset/women's\\130_high_jump_tokyo_olympics_women.mp4.\n",
      "Moviepy - Writing video HighJumpDataset/women's\\130_high_jump_tokyo_olympics_women.mp4\n",
      "\n"
     ]
    },
    {
     "name": "stderr",
     "output_type": "stream",
     "text": [
      "                                                                                                                       \r"
     ]
    },
    {
     "name": "stdout",
     "output_type": "stream",
     "text": [
      "Moviepy - Done !\n",
      "Moviepy - video ready HighJumpDataset/women's\\130_high_jump_tokyo_olympics_women.mp4\n",
      "Moviepy - Building video HighJumpDataset/women's\\131_high_jump_tokyo_olympics_women.mp4.\n",
      "Moviepy - Writing video HighJumpDataset/women's\\131_high_jump_tokyo_olympics_women.mp4\n",
      "\n"
     ]
    },
    {
     "name": "stderr",
     "output_type": "stream",
     "text": [
      "                                                                                                                       \r"
     ]
    },
    {
     "name": "stdout",
     "output_type": "stream",
     "text": [
      "Moviepy - Done !\n",
      "Moviepy - video ready HighJumpDataset/women's\\131_high_jump_tokyo_olympics_women.mp4\n",
      "Moviepy - Building video HighJumpDataset/women's\\132_high_jump_tokyo_olympics_women.mp4.\n",
      "Moviepy - Writing video HighJumpDataset/women's\\132_high_jump_tokyo_olympics_women.mp4\n",
      "\n"
     ]
    },
    {
     "name": "stderr",
     "output_type": "stream",
     "text": [
      "                                                                                                                       \r"
     ]
    },
    {
     "name": "stdout",
     "output_type": "stream",
     "text": [
      "Moviepy - Done !\n",
      "Moviepy - video ready HighJumpDataset/women's\\132_high_jump_tokyo_olympics_women.mp4\n",
      "Moviepy - Building video HighJumpDataset/women's\\133_high_jump_tokyo_olympics_women.mp4.\n",
      "Moviepy - Writing video HighJumpDataset/women's\\133_high_jump_tokyo_olympics_women.mp4\n",
      "\n"
     ]
    },
    {
     "name": "stderr",
     "output_type": "stream",
     "text": [
      "                                                                                                                       \r"
     ]
    },
    {
     "name": "stdout",
     "output_type": "stream",
     "text": [
      "Moviepy - Done !\n",
      "Moviepy - video ready HighJumpDataset/women's\\133_high_jump_tokyo_olympics_women.mp4\n",
      "Moviepy - Building video HighJumpDataset/women's\\134_high_jump_tokyo_olympics_women.mp4.\n",
      "Moviepy - Writing video HighJumpDataset/women's\\134_high_jump_tokyo_olympics_women.mp4\n",
      "\n"
     ]
    },
    {
     "name": "stderr",
     "output_type": "stream",
     "text": [
      "                                                                                                                       \r"
     ]
    },
    {
     "name": "stdout",
     "output_type": "stream",
     "text": [
      "Moviepy - Done !\n",
      "Moviepy - video ready HighJumpDataset/women's\\134_high_jump_tokyo_olympics_women.mp4\n",
      "Moviepy - Building video HighJumpDataset/women's\\135_high_jump_tokyo_olympics_women.mp4.\n",
      "Moviepy - Writing video HighJumpDataset/women's\\135_high_jump_tokyo_olympics_women.mp4\n",
      "\n"
     ]
    },
    {
     "name": "stderr",
     "output_type": "stream",
     "text": [
      "                                                                                                                       \r"
     ]
    },
    {
     "name": "stdout",
     "output_type": "stream",
     "text": [
      "Moviepy - Done !\n",
      "Moviepy - video ready HighJumpDataset/women's\\135_high_jump_tokyo_olympics_women.mp4\n",
      "Moviepy - Building video HighJumpDataset/women's\\136_high_jump_tokyo_olympics_women.mp4.\n",
      "Moviepy - Writing video HighJumpDataset/women's\\136_high_jump_tokyo_olympics_women.mp4\n",
      "\n"
     ]
    },
    {
     "name": "stderr",
     "output_type": "stream",
     "text": [
      "                                                                                                                       \r"
     ]
    },
    {
     "name": "stdout",
     "output_type": "stream",
     "text": [
      "Moviepy - Done !\n",
      "Moviepy - video ready HighJumpDataset/women's\\136_high_jump_tokyo_olympics_women.mp4\n",
      "Moviepy - Building video HighJumpDataset/women's\\137_high_jump_tokyo_olympics_women.mp4.\n",
      "Moviepy - Writing video HighJumpDataset/women's\\137_high_jump_tokyo_olympics_women.mp4\n",
      "\n"
     ]
    },
    {
     "name": "stderr",
     "output_type": "stream",
     "text": [
      "                                                                                                                       \r"
     ]
    },
    {
     "name": "stdout",
     "output_type": "stream",
     "text": [
      "Moviepy - Done !\n",
      "Moviepy - video ready HighJumpDataset/women's\\137_high_jump_tokyo_olympics_women.mp4\n",
      "Moviepy - Building video HighJumpDataset/women's\\138_high_jump_tokyo_olympics_women.mp4.\n",
      "Moviepy - Writing video HighJumpDataset/women's\\138_high_jump_tokyo_olympics_women.mp4\n",
      "\n"
     ]
    },
    {
     "name": "stderr",
     "output_type": "stream",
     "text": [
      "                                                                                                                       \r"
     ]
    },
    {
     "name": "stdout",
     "output_type": "stream",
     "text": [
      "Moviepy - Done !\n",
      "Moviepy - video ready HighJumpDataset/women's\\138_high_jump_tokyo_olympics_women.mp4\n",
      "Moviepy - Building video HighJumpDataset/women's\\139_high_jump_tokyo_olympics_women.mp4.\n",
      "Moviepy - Writing video HighJumpDataset/women's\\139_high_jump_tokyo_olympics_women.mp4\n",
      "\n"
     ]
    },
    {
     "name": "stderr",
     "output_type": "stream",
     "text": [
      "                                                                                                                       \r"
     ]
    },
    {
     "name": "stdout",
     "output_type": "stream",
     "text": [
      "Moviepy - Done !\n",
      "Moviepy - video ready HighJumpDataset/women's\\139_high_jump_tokyo_olympics_women.mp4\n",
      "Moviepy - Building video HighJumpDataset/women's\\140_high_jump_tokyo_olympics_women.mp4.\n",
      "Moviepy - Writing video HighJumpDataset/women's\\140_high_jump_tokyo_olympics_women.mp4\n",
      "\n"
     ]
    },
    {
     "name": "stderr",
     "output_type": "stream",
     "text": [
      "                                                                                                                       \r"
     ]
    },
    {
     "name": "stdout",
     "output_type": "stream",
     "text": [
      "Moviepy - Done !\n",
      "Moviepy - video ready HighJumpDataset/women's\\140_high_jump_tokyo_olympics_women.mp4\n",
      "Moviepy - Building video HighJumpDataset/women's\\141_high_jump_tokyo_olympics_women.mp4.\n",
      "Moviepy - Writing video HighJumpDataset/women's\\141_high_jump_tokyo_olympics_women.mp4\n",
      "\n"
     ]
    },
    {
     "name": "stderr",
     "output_type": "stream",
     "text": [
      "                                                                                                                       \r"
     ]
    },
    {
     "name": "stdout",
     "output_type": "stream",
     "text": [
      "Moviepy - Done !\n",
      "Moviepy - video ready HighJumpDataset/women's\\141_high_jump_tokyo_olympics_women.mp4\n",
      "Moviepy - Building video HighJumpDataset/women's\\142_high_jump_tokyo_olympics_women.mp4.\n",
      "Moviepy - Writing video HighJumpDataset/women's\\142_high_jump_tokyo_olympics_women.mp4\n",
      "\n"
     ]
    },
    {
     "name": "stderr",
     "output_type": "stream",
     "text": [
      "                                                                                                                       \r"
     ]
    },
    {
     "name": "stdout",
     "output_type": "stream",
     "text": [
      "Moviepy - Done !\n",
      "Moviepy - video ready HighJumpDataset/women's\\142_high_jump_tokyo_olympics_women.mp4\n",
      "Moviepy - Building video HighJumpDataset/women's\\143_high_jump_tokyo_olympics_women.mp4.\n",
      "Moviepy - Writing video HighJumpDataset/women's\\143_high_jump_tokyo_olympics_women.mp4\n",
      "\n"
     ]
    },
    {
     "name": "stderr",
     "output_type": "stream",
     "text": [
      "                                                                                                                       \r"
     ]
    },
    {
     "name": "stdout",
     "output_type": "stream",
     "text": [
      "Moviepy - Done !\n",
      "Moviepy - video ready HighJumpDataset/women's\\143_high_jump_tokyo_olympics_women.mp4\n",
      "Moviepy - Building video HighJumpDataset/women's\\144_high_jump_tokyo_olympics_women.mp4.\n",
      "Moviepy - Writing video HighJumpDataset/women's\\144_high_jump_tokyo_olympics_women.mp4\n",
      "\n"
     ]
    },
    {
     "name": "stderr",
     "output_type": "stream",
     "text": [
      "                                                                                                                       \r"
     ]
    },
    {
     "name": "stdout",
     "output_type": "stream",
     "text": [
      "Moviepy - Done !\n",
      "Moviepy - video ready HighJumpDataset/women's\\144_high_jump_tokyo_olympics_women.mp4\n",
      "Moviepy - Building video HighJumpDataset/women's\\145_high_jump_tokyo_olympics_women.mp4.\n",
      "Moviepy - Writing video HighJumpDataset/women's\\145_high_jump_tokyo_olympics_women.mp4\n",
      "\n"
     ]
    },
    {
     "name": "stderr",
     "output_type": "stream",
     "text": [
      "                                                                                                                       \r"
     ]
    },
    {
     "name": "stdout",
     "output_type": "stream",
     "text": [
      "Moviepy - Done !\n",
      "Moviepy - video ready HighJumpDataset/women's\\145_high_jump_tokyo_olympics_women.mp4\n",
      "Moviepy - Building video HighJumpDataset/women's\\146_high_jump_tokyo_olympics_women.mp4.\n",
      "Moviepy - Writing video HighJumpDataset/women's\\146_high_jump_tokyo_olympics_women.mp4\n",
      "\n"
     ]
    },
    {
     "name": "stderr",
     "output_type": "stream",
     "text": [
      "                                                                                                                       \r"
     ]
    },
    {
     "name": "stdout",
     "output_type": "stream",
     "text": [
      "Moviepy - Done !\n",
      "Moviepy - video ready HighJumpDataset/women's\\146_high_jump_tokyo_olympics_women.mp4\n",
      "Moviepy - Building video HighJumpDataset/women's\\147_high_jump_tokyo_olympics_women.mp4.\n",
      "Moviepy - Writing video HighJumpDataset/women's\\147_high_jump_tokyo_olympics_women.mp4\n",
      "\n"
     ]
    },
    {
     "name": "stderr",
     "output_type": "stream",
     "text": [
      "                                                                                                                       \r"
     ]
    },
    {
     "name": "stdout",
     "output_type": "stream",
     "text": [
      "Moviepy - Done !\n",
      "Moviepy - video ready HighJumpDataset/women's\\147_high_jump_tokyo_olympics_women.mp4\n",
      "Moviepy - Building video HighJumpDataset/women's\\148_high_jump_tokyo_olympics_women.mp4.\n",
      "Moviepy - Writing video HighJumpDataset/women's\\148_high_jump_tokyo_olympics_women.mp4\n",
      "\n"
     ]
    },
    {
     "name": "stderr",
     "output_type": "stream",
     "text": [
      "                                                                                                                       \r"
     ]
    },
    {
     "name": "stdout",
     "output_type": "stream",
     "text": [
      "Moviepy - Done !\n",
      "Moviepy - video ready HighJumpDataset/women's\\148_high_jump_tokyo_olympics_women.mp4\n",
      "Moviepy - Building video HighJumpDataset/women's\\149_high_jump_tokyo_olympics_women.mp4.\n",
      "Moviepy - Writing video HighJumpDataset/women's\\149_high_jump_tokyo_olympics_women.mp4\n",
      "\n"
     ]
    },
    {
     "name": "stderr",
     "output_type": "stream",
     "text": [
      "                                                                                                                       \r"
     ]
    },
    {
     "name": "stdout",
     "output_type": "stream",
     "text": [
      "Moviepy - Done !\n",
      "Moviepy - video ready HighJumpDataset/women's\\149_high_jump_tokyo_olympics_women.mp4\n",
      "Moviepy - Building video HighJumpDataset/women's\\150_high_jump_tokyo_olympics_women.mp4.\n",
      "Moviepy - Writing video HighJumpDataset/women's\\150_high_jump_tokyo_olympics_women.mp4\n",
      "\n"
     ]
    },
    {
     "name": "stderr",
     "output_type": "stream",
     "text": [
      "                                                                                                                       \r"
     ]
    },
    {
     "name": "stdout",
     "output_type": "stream",
     "text": [
      "Moviepy - Done !\n",
      "Moviepy - video ready HighJumpDataset/women's\\150_high_jump_tokyo_olympics_women.mp4\n",
      "Moviepy - Building video HighJumpDataset/women's\\151_high_jump_tokyo_olympics_women.mp4.\n",
      "Moviepy - Writing video HighJumpDataset/women's\\151_high_jump_tokyo_olympics_women.mp4\n",
      "\n"
     ]
    },
    {
     "name": "stderr",
     "output_type": "stream",
     "text": [
      "                                                                                                                       \r"
     ]
    },
    {
     "name": "stdout",
     "output_type": "stream",
     "text": [
      "Moviepy - Done !\n",
      "Moviepy - video ready HighJumpDataset/women's\\151_high_jump_tokyo_olympics_women.mp4\n",
      "Moviepy - Building video HighJumpDataset/women's\\152_high_jump_tokyo_olympics_women.mp4.\n",
      "Moviepy - Writing video HighJumpDataset/women's\\152_high_jump_tokyo_olympics_women.mp4\n",
      "\n"
     ]
    },
    {
     "name": "stderr",
     "output_type": "stream",
     "text": [
      "                                                                                                                       \r"
     ]
    },
    {
     "name": "stdout",
     "output_type": "stream",
     "text": [
      "Moviepy - Done !\n",
      "Moviepy - video ready HighJumpDataset/women's\\152_high_jump_tokyo_olympics_women.mp4\n",
      "Moviepy - Building video HighJumpDataset/women's\\153_high_jump_tokyo_olympics_women.mp4.\n",
      "Moviepy - Writing video HighJumpDataset/women's\\153_high_jump_tokyo_olympics_women.mp4\n",
      "\n"
     ]
    },
    {
     "name": "stderr",
     "output_type": "stream",
     "text": [
      "                                                                                                                       \r"
     ]
    },
    {
     "name": "stdout",
     "output_type": "stream",
     "text": [
      "Moviepy - Done !\n",
      "Moviepy - video ready HighJumpDataset/women's\\153_high_jump_tokyo_olympics_women.mp4\n",
      "Moviepy - Building video HighJumpDataset/women's\\154_high_jump_tokyo_olympics_women.mp4.\n",
      "Moviepy - Writing video HighJumpDataset/women's\\154_high_jump_tokyo_olympics_women.mp4\n",
      "\n"
     ]
    },
    {
     "name": "stderr",
     "output_type": "stream",
     "text": [
      "                                                                                                                       \r"
     ]
    },
    {
     "name": "stdout",
     "output_type": "stream",
     "text": [
      "Moviepy - Done !\n",
      "Moviepy - video ready HighJumpDataset/women's\\154_high_jump_tokyo_olympics_women.mp4\n",
      "Moviepy - Building video HighJumpDataset/women's\\155_high_jump_tokyo_olympics_women.mp4.\n",
      "Moviepy - Writing video HighJumpDataset/women's\\155_high_jump_tokyo_olympics_women.mp4\n",
      "\n"
     ]
    },
    {
     "name": "stderr",
     "output_type": "stream",
     "text": [
      "                                                                                                                       \r"
     ]
    },
    {
     "name": "stdout",
     "output_type": "stream",
     "text": [
      "Moviepy - Done !\n",
      "Moviepy - video ready HighJumpDataset/women's\\155_high_jump_tokyo_olympics_women.mp4\n",
      "Moviepy - Building video HighJumpDataset/women's\\156_high_jump_tokyo_olympics_women.mp4.\n",
      "Moviepy - Writing video HighJumpDataset/women's\\156_high_jump_tokyo_olympics_women.mp4\n",
      "\n"
     ]
    },
    {
     "name": "stderr",
     "output_type": "stream",
     "text": [
      "                                                                                                                       \r"
     ]
    },
    {
     "name": "stdout",
     "output_type": "stream",
     "text": [
      "Moviepy - Done !\n",
      "Moviepy - video ready HighJumpDataset/women's\\156_high_jump_tokyo_olympics_women.mp4\n",
      "Moviepy - Building video HighJumpDataset/women's\\157_high_jump_tokyo_olympics_women.mp4.\n",
      "Moviepy - Writing video HighJumpDataset/women's\\157_high_jump_tokyo_olympics_women.mp4\n",
      "\n"
     ]
    },
    {
     "name": "stderr",
     "output_type": "stream",
     "text": [
      "                                                                                                                       \r"
     ]
    },
    {
     "name": "stdout",
     "output_type": "stream",
     "text": [
      "Moviepy - Done !\n",
      "Moviepy - video ready HighJumpDataset/women's\\157_high_jump_tokyo_olympics_women.mp4\n",
      "Moviepy - Building video HighJumpDataset/women's\\158_high_jump_tokyo_olympics_women.mp4.\n",
      "Moviepy - Writing video HighJumpDataset/women's\\158_high_jump_tokyo_olympics_women.mp4\n",
      "\n"
     ]
    },
    {
     "name": "stderr",
     "output_type": "stream",
     "text": [
      "                                                                                                                       \r"
     ]
    },
    {
     "name": "stdout",
     "output_type": "stream",
     "text": [
      "Moviepy - Done !\n",
      "Moviepy - video ready HighJumpDataset/women's\\158_high_jump_tokyo_olympics_women.mp4\n",
      "Moviepy - Building video HighJumpDataset/women's\\159_high_jump_tokyo_olympics_women.mp4.\n",
      "Moviepy - Writing video HighJumpDataset/women's\\159_high_jump_tokyo_olympics_women.mp4\n",
      "\n"
     ]
    },
    {
     "name": "stderr",
     "output_type": "stream",
     "text": [
      "                                                                                                                       \r"
     ]
    },
    {
     "name": "stdout",
     "output_type": "stream",
     "text": [
      "Moviepy - Done !\n",
      "Moviepy - video ready HighJumpDataset/women's\\159_high_jump_tokyo_olympics_women.mp4\n",
      "Moviepy - Building video HighJumpDataset/women's\\160_high_jump_tokyo_olympics_women.mp4.\n",
      "Moviepy - Writing video HighJumpDataset/women's\\160_high_jump_tokyo_olympics_women.mp4\n",
      "\n"
     ]
    },
    {
     "name": "stderr",
     "output_type": "stream",
     "text": [
      "                                                                                                                       \r"
     ]
    },
    {
     "name": "stdout",
     "output_type": "stream",
     "text": [
      "Moviepy - Done !\n",
      "Moviepy - video ready HighJumpDataset/women's\\160_high_jump_tokyo_olympics_women.mp4\n",
      "Moviepy - Building video HighJumpDataset/women's\\161_high_jump_tokyo_olympics_women.mp4.\n",
      "Moviepy - Writing video HighJumpDataset/women's\\161_high_jump_tokyo_olympics_women.mp4\n",
      "\n"
     ]
    },
    {
     "name": "stderr",
     "output_type": "stream",
     "text": [
      "                                                                                                                       \r"
     ]
    },
    {
     "name": "stdout",
     "output_type": "stream",
     "text": [
      "Moviepy - Done !\n",
      "Moviepy - video ready HighJumpDataset/women's\\161_high_jump_tokyo_olympics_women.mp4\n",
      "Moviepy - Building video HighJumpDataset/women's\\162_high_jump_tokyo_olympics_women.mp4.\n",
      "Moviepy - Writing video HighJumpDataset/women's\\162_high_jump_tokyo_olympics_women.mp4\n",
      "\n"
     ]
    },
    {
     "name": "stderr",
     "output_type": "stream",
     "text": [
      "                                                                                                                       \r"
     ]
    },
    {
     "name": "stdout",
     "output_type": "stream",
     "text": [
      "Moviepy - Done !\n",
      "Moviepy - video ready HighJumpDataset/women's\\162_high_jump_tokyo_olympics_women.mp4\n",
      "Moviepy - Building video HighJumpDataset/women's\\163_high_jump_tokyo_olympics_women.mp4.\n",
      "Moviepy - Writing video HighJumpDataset/women's\\163_high_jump_tokyo_olympics_women.mp4\n",
      "\n"
     ]
    },
    {
     "name": "stderr",
     "output_type": "stream",
     "text": [
      "                                                                                                                       \r"
     ]
    },
    {
     "name": "stdout",
     "output_type": "stream",
     "text": [
      "Moviepy - Done !\n",
      "Moviepy - video ready HighJumpDataset/women's\\163_high_jump_tokyo_olympics_women.mp4\n",
      "Moviepy - Building video HighJumpDataset/women's\\164_high_jump_tokyo_olympics_women.mp4.\n",
      "Moviepy - Writing video HighJumpDataset/women's\\164_high_jump_tokyo_olympics_women.mp4\n",
      "\n"
     ]
    },
    {
     "name": "stderr",
     "output_type": "stream",
     "text": [
      "                                                                                                                       \r"
     ]
    },
    {
     "name": "stdout",
     "output_type": "stream",
     "text": [
      "Moviepy - Done !\n",
      "Moviepy - video ready HighJumpDataset/women's\\164_high_jump_tokyo_olympics_women.mp4\n",
      "Moviepy - Building video HighJumpDataset/women's\\165_high_jump_tokyo_olympics_women.mp4.\n",
      "Moviepy - Writing video HighJumpDataset/women's\\165_high_jump_tokyo_olympics_women.mp4\n",
      "\n"
     ]
    },
    {
     "name": "stderr",
     "output_type": "stream",
     "text": [
      "                                                                                                                       \r"
     ]
    },
    {
     "name": "stdout",
     "output_type": "stream",
     "text": [
      "Moviepy - Done !\n",
      "Moviepy - video ready HighJumpDataset/women's\\165_high_jump_tokyo_olympics_women.mp4\n",
      "Moviepy - Building video HighJumpDataset/women's\\166_high_jump_tokyo_olympics_women.mp4.\n",
      "Moviepy - Writing video HighJumpDataset/women's\\166_high_jump_tokyo_olympics_women.mp4\n",
      "\n"
     ]
    },
    {
     "name": "stderr",
     "output_type": "stream",
     "text": [
      "                                                                                                                       \r"
     ]
    },
    {
     "name": "stdout",
     "output_type": "stream",
     "text": [
      "Moviepy - Done !\n",
      "Moviepy - video ready HighJumpDataset/women's\\166_high_jump_tokyo_olympics_women.mp4\n",
      "Moviepy - Building video HighJumpDataset/women's\\167_high_jump_tokyo_olympics_women.mp4.\n",
      "Moviepy - Writing video HighJumpDataset/women's\\167_high_jump_tokyo_olympics_women.mp4\n",
      "\n"
     ]
    },
    {
     "name": "stderr",
     "output_type": "stream",
     "text": [
      "                                                                                                                       \r"
     ]
    },
    {
     "name": "stdout",
     "output_type": "stream",
     "text": [
      "Moviepy - Done !\n",
      "Moviepy - video ready HighJumpDataset/women's\\167_high_jump_tokyo_olympics_women.mp4\n",
      "Moviepy - Building video HighJumpDataset/women's\\168_high_jump_tokyo_olympics_women.mp4.\n",
      "Moviepy - Writing video HighJumpDataset/women's\\168_high_jump_tokyo_olympics_women.mp4\n",
      "\n"
     ]
    },
    {
     "name": "stderr",
     "output_type": "stream",
     "text": [
      "                                                                                                                       \r"
     ]
    },
    {
     "name": "stdout",
     "output_type": "stream",
     "text": [
      "Moviepy - Done !\n",
      "Moviepy - video ready HighJumpDataset/women's\\168_high_jump_tokyo_olympics_women.mp4\n",
      "Moviepy - Building video HighJumpDataset/women's\\169_high_jump_tokyo_olympics_women.mp4.\n",
      "Moviepy - Writing video HighJumpDataset/women's\\169_high_jump_tokyo_olympics_women.mp4\n",
      "\n"
     ]
    },
    {
     "name": "stderr",
     "output_type": "stream",
     "text": [
      "                                                                                                                       \r"
     ]
    },
    {
     "name": "stdout",
     "output_type": "stream",
     "text": [
      "Moviepy - Done !\n",
      "Moviepy - video ready HighJumpDataset/women's\\169_high_jump_tokyo_olympics_women.mp4\n",
      "Moviepy - Building video HighJumpDataset/women's\\170_high_jump_tokyo_olympics_women.mp4.\n",
      "Moviepy - Writing video HighJumpDataset/women's\\170_high_jump_tokyo_olympics_women.mp4\n",
      "\n"
     ]
    },
    {
     "name": "stderr",
     "output_type": "stream",
     "text": [
      "                                                                                                                       \r"
     ]
    },
    {
     "name": "stdout",
     "output_type": "stream",
     "text": [
      "Moviepy - Done !\n",
      "Moviepy - video ready HighJumpDataset/women's\\170_high_jump_tokyo_olympics_women.mp4\n",
      "Moviepy - Building video HighJumpDataset/women's\\171_high_jump_tokyo_olympics_women.mp4.\n",
      "Moviepy - Writing video HighJumpDataset/women's\\171_high_jump_tokyo_olympics_women.mp4\n",
      "\n"
     ]
    },
    {
     "name": "stderr",
     "output_type": "stream",
     "text": [
      "                                                                                                                       \r"
     ]
    },
    {
     "name": "stdout",
     "output_type": "stream",
     "text": [
      "Moviepy - Done !\n",
      "Moviepy - video ready HighJumpDataset/women's\\171_high_jump_tokyo_olympics_women.mp4\n",
      "Moviepy - Building video HighJumpDataset/women's\\172_high_jump_tokyo_olympics_women.mp4.\n",
      "Moviepy - Writing video HighJumpDataset/women's\\172_high_jump_tokyo_olympics_women.mp4\n",
      "\n"
     ]
    },
    {
     "name": "stderr",
     "output_type": "stream",
     "text": [
      "                                                                                                                       \r"
     ]
    },
    {
     "name": "stdout",
     "output_type": "stream",
     "text": [
      "Moviepy - Done !\n",
      "Moviepy - video ready HighJumpDataset/women's\\172_high_jump_tokyo_olympics_women.mp4\n",
      "Moviepy - Building video HighJumpDataset/women's\\173_high_jump_tokyo_olympics_women.mp4.\n",
      "Moviepy - Writing video HighJumpDataset/women's\\173_high_jump_tokyo_olympics_women.mp4\n",
      "\n"
     ]
    },
    {
     "name": "stderr",
     "output_type": "stream",
     "text": [
      "                                                                                                                       \r"
     ]
    },
    {
     "name": "stdout",
     "output_type": "stream",
     "text": [
      "Moviepy - Done !\n",
      "Moviepy - video ready HighJumpDataset/women's\\173_high_jump_tokyo_olympics_women.mp4\n",
      "Moviepy - Building video HighJumpDataset/women's\\174_high_jump_tokyo_olympics_women.mp4.\n",
      "Moviepy - Writing video HighJumpDataset/women's\\174_high_jump_tokyo_olympics_women.mp4\n",
      "\n"
     ]
    },
    {
     "name": "stderr",
     "output_type": "stream",
     "text": [
      "                                                                                                                       \r"
     ]
    },
    {
     "name": "stdout",
     "output_type": "stream",
     "text": [
      "Moviepy - Done !\n",
      "Moviepy - video ready HighJumpDataset/women's\\174_high_jump_tokyo_olympics_women.mp4\n",
      "Moviepy - Building video HighJumpDataset/women's\\175_high_jump_tokyo_olympics_women.mp4.\n",
      "Moviepy - Writing video HighJumpDataset/women's\\175_high_jump_tokyo_olympics_women.mp4\n",
      "\n"
     ]
    },
    {
     "name": "stderr",
     "output_type": "stream",
     "text": [
      "                                                                                                                       \r"
     ]
    },
    {
     "name": "stdout",
     "output_type": "stream",
     "text": [
      "Moviepy - Done !\n",
      "Moviepy - video ready HighJumpDataset/women's\\175_high_jump_tokyo_olympics_women.mp4\n",
      "Moviepy - Building video HighJumpDataset/women's\\176_high_jump_tokyo_olympics_women.mp4.\n",
      "Moviepy - Writing video HighJumpDataset/women's\\176_high_jump_tokyo_olympics_women.mp4\n",
      "\n"
     ]
    },
    {
     "name": "stderr",
     "output_type": "stream",
     "text": [
      "                                                                                                                       \r"
     ]
    },
    {
     "name": "stdout",
     "output_type": "stream",
     "text": [
      "Moviepy - Done !\n",
      "Moviepy - video ready HighJumpDataset/women's\\176_high_jump_tokyo_olympics_women.mp4\n",
      "Moviepy - Building video HighJumpDataset/women's\\177_high_jump_tokyo_olympics_women.mp4.\n",
      "Moviepy - Writing video HighJumpDataset/women's\\177_high_jump_tokyo_olympics_women.mp4\n",
      "\n"
     ]
    },
    {
     "name": "stderr",
     "output_type": "stream",
     "text": [
      "                                                                                                                       \r"
     ]
    },
    {
     "name": "stdout",
     "output_type": "stream",
     "text": [
      "Moviepy - Done !\n",
      "Moviepy - video ready HighJumpDataset/women's\\177_high_jump_tokyo_olympics_women.mp4\n",
      "Moviepy - Building video HighJumpDataset/women's\\178_high_jump_tokyo_olympics_women.mp4.\n",
      "Moviepy - Writing video HighJumpDataset/women's\\178_high_jump_tokyo_olympics_women.mp4\n",
      "\n"
     ]
    },
    {
     "name": "stderr",
     "output_type": "stream",
     "text": [
      "                                                                                                                       \r"
     ]
    },
    {
     "name": "stdout",
     "output_type": "stream",
     "text": [
      "Moviepy - Done !\n",
      "Moviepy - video ready HighJumpDataset/women's\\178_high_jump_tokyo_olympics_women.mp4\n",
      "Moviepy - Building video HighJumpDataset/women's\\179_high_jump_tokyo_olympics_women.mp4.\n",
      "Moviepy - Writing video HighJumpDataset/women's\\179_high_jump_tokyo_olympics_women.mp4\n",
      "\n"
     ]
    },
    {
     "name": "stderr",
     "output_type": "stream",
     "text": [
      "                                                                                                                       \r"
     ]
    },
    {
     "name": "stdout",
     "output_type": "stream",
     "text": [
      "Moviepy - Done !\n",
      "Moviepy - video ready HighJumpDataset/women's\\179_high_jump_tokyo_olympics_women.mp4\n",
      "Moviepy - Building video HighJumpDataset/women's\\180_high_jump_tokyo_olympics_women.mp4.\n",
      "Moviepy - Writing video HighJumpDataset/women's\\180_high_jump_tokyo_olympics_women.mp4\n",
      "\n"
     ]
    },
    {
     "name": "stderr",
     "output_type": "stream",
     "text": [
      "                                                                                                                       \r"
     ]
    },
    {
     "name": "stdout",
     "output_type": "stream",
     "text": [
      "Moviepy - Done !\n",
      "Moviepy - video ready HighJumpDataset/women's\\180_high_jump_tokyo_olympics_women.mp4\n",
      "Moviepy - Building video HighJumpDataset/women's\\181_high_jump_tokyo_olympics_women.mp4.\n",
      "Moviepy - Writing video HighJumpDataset/women's\\181_high_jump_tokyo_olympics_women.mp4\n",
      "\n"
     ]
    },
    {
     "name": "stderr",
     "output_type": "stream",
     "text": [
      "                                                                                                                       \r"
     ]
    },
    {
     "name": "stdout",
     "output_type": "stream",
     "text": [
      "Moviepy - Done !\n",
      "Moviepy - video ready HighJumpDataset/women's\\181_high_jump_tokyo_olympics_women.mp4\n",
      "Moviepy - Building video HighJumpDataset/women's\\182_high_jump_tokyo_olympics_women.mp4.\n",
      "Moviepy - Writing video HighJumpDataset/women's\\182_high_jump_tokyo_olympics_women.mp4\n",
      "\n"
     ]
    },
    {
     "name": "stderr",
     "output_type": "stream",
     "text": [
      "                                                                                                                       \r"
     ]
    },
    {
     "name": "stdout",
     "output_type": "stream",
     "text": [
      "Moviepy - Done !\n",
      "Moviepy - video ready HighJumpDataset/women's\\182_high_jump_tokyo_olympics_women.mp4\n",
      "Moviepy - Building video HighJumpDataset/women's\\183_high_jump_tokyo_olympics_women.mp4.\n",
      "Moviepy - Writing video HighJumpDataset/women's\\183_high_jump_tokyo_olympics_women.mp4\n",
      "\n"
     ]
    },
    {
     "name": "stderr",
     "output_type": "stream",
     "text": [
      "                                                                                                                       \r"
     ]
    },
    {
     "name": "stdout",
     "output_type": "stream",
     "text": [
      "Moviepy - Done !\n",
      "Moviepy - video ready HighJumpDataset/women's\\183_high_jump_tokyo_olympics_women.mp4\n",
      "Moviepy - Building video HighJumpDataset/women's\\184_high_jump_tokyo_olympics_women.mp4.\n",
      "Moviepy - Writing video HighJumpDataset/women's\\184_high_jump_tokyo_olympics_women.mp4\n",
      "\n"
     ]
    },
    {
     "name": "stderr",
     "output_type": "stream",
     "text": [
      "                                                                                                                       \r"
     ]
    },
    {
     "name": "stdout",
     "output_type": "stream",
     "text": [
      "Moviepy - Done !\n",
      "Moviepy - video ready HighJumpDataset/women's\\184_high_jump_tokyo_olympics_women.mp4\n",
      "Moviepy - Building video HighJumpDataset/women's\\185_high_jump_tokyo_olympics_women.mp4.\n",
      "Moviepy - Writing video HighJumpDataset/women's\\185_high_jump_tokyo_olympics_women.mp4\n",
      "\n"
     ]
    },
    {
     "name": "stderr",
     "output_type": "stream",
     "text": [
      "                                                                                                                       \r"
     ]
    },
    {
     "name": "stdout",
     "output_type": "stream",
     "text": [
      "Moviepy - Done !\n",
      "Moviepy - video ready HighJumpDataset/women's\\185_high_jump_tokyo_olympics_women.mp4\n",
      "Moviepy - Building video HighJumpDataset/women's\\186_high_jump_tokyo_olympics_women.mp4.\n",
      "Moviepy - Writing video HighJumpDataset/women's\\186_high_jump_tokyo_olympics_women.mp4\n",
      "\n"
     ]
    },
    {
     "name": "stderr",
     "output_type": "stream",
     "text": [
      "                                                                                                                       \r"
     ]
    },
    {
     "name": "stdout",
     "output_type": "stream",
     "text": [
      "Moviepy - Done !\n",
      "Moviepy - video ready HighJumpDataset/women's\\186_high_jump_tokyo_olympics_women.mp4\n",
      "Moviepy - Building video HighJumpDataset/women's\\187_high_jump_tokyo_olympics_women.mp4.\n",
      "Moviepy - Writing video HighJumpDataset/women's\\187_high_jump_tokyo_olympics_women.mp4\n",
      "\n"
     ]
    },
    {
     "name": "stderr",
     "output_type": "stream",
     "text": [
      "                                                                                                                       \r"
     ]
    },
    {
     "name": "stdout",
     "output_type": "stream",
     "text": [
      "Moviepy - Done !\n",
      "Moviepy - video ready HighJumpDataset/women's\\187_high_jump_tokyo_olympics_women.mp4\n",
      "Moviepy - Building video HighJumpDataset/women's\\188_high_jump_tokyo_olympics_women.mp4.\n",
      "Moviepy - Writing video HighJumpDataset/women's\\188_high_jump_tokyo_olympics_women.mp4\n",
      "\n"
     ]
    },
    {
     "name": "stderr",
     "output_type": "stream",
     "text": [
      "                                                                                                                       \r"
     ]
    },
    {
     "name": "stdout",
     "output_type": "stream",
     "text": [
      "Moviepy - Done !\n",
      "Moviepy - video ready HighJumpDataset/women's\\188_high_jump_tokyo_olympics_women.mp4\n",
      "Moviepy - Building video HighJumpDataset/women's\\189_high_jump_tokyo_olympics_women.mp4.\n",
      "Moviepy - Writing video HighJumpDataset/women's\\189_high_jump_tokyo_olympics_women.mp4\n",
      "\n"
     ]
    },
    {
     "name": "stderr",
     "output_type": "stream",
     "text": [
      "                                                                                                                       \r"
     ]
    },
    {
     "name": "stdout",
     "output_type": "stream",
     "text": [
      "Moviepy - Done !\n",
      "Moviepy - video ready HighJumpDataset/women's\\189_high_jump_tokyo_olympics_women.mp4\n",
      "Moviepy - Building video HighJumpDataset/women's\\190_high_jump_tokyo_olympics_women.mp4.\n",
      "Moviepy - Writing video HighJumpDataset/women's\\190_high_jump_tokyo_olympics_women.mp4\n",
      "\n"
     ]
    },
    {
     "name": "stderr",
     "output_type": "stream",
     "text": [
      "                                                                                                                       \r"
     ]
    },
    {
     "name": "stdout",
     "output_type": "stream",
     "text": [
      "Moviepy - Done !\n",
      "Moviepy - video ready HighJumpDataset/women's\\190_high_jump_tokyo_olympics_women.mp4\n",
      "Moviepy - Building video HighJumpDataset/women's\\191_high_jump_tokyo_olympics_women.mp4.\n",
      "Moviepy - Writing video HighJumpDataset/women's\\191_high_jump_tokyo_olympics_women.mp4\n",
      "\n"
     ]
    },
    {
     "name": "stderr",
     "output_type": "stream",
     "text": [
      "                                                                                                                       \r"
     ]
    },
    {
     "name": "stdout",
     "output_type": "stream",
     "text": [
      "Moviepy - Done !\n",
      "Moviepy - video ready HighJumpDataset/women's\\191_high_jump_tokyo_olympics_women.mp4\n",
      "Moviepy - Building video HighJumpDataset/women's\\192_high_jump_tokyo_olympics_women.mp4.\n",
      "Moviepy - Writing video HighJumpDataset/women's\\192_high_jump_tokyo_olympics_women.mp4\n",
      "\n"
     ]
    },
    {
     "name": "stderr",
     "output_type": "stream",
     "text": [
      "                                                                                                                       \r"
     ]
    },
    {
     "name": "stdout",
     "output_type": "stream",
     "text": [
      "Moviepy - Done !\n",
      "Moviepy - video ready HighJumpDataset/women's\\192_high_jump_tokyo_olympics_women.mp4\n",
      "Moviepy - Building video HighJumpDataset/women's\\193_high_jump_tokyo_olympics_women.mp4.\n",
      "Moviepy - Writing video HighJumpDataset/women's\\193_high_jump_tokyo_olympics_women.mp4\n",
      "\n"
     ]
    },
    {
     "name": "stderr",
     "output_type": "stream",
     "text": [
      "                                                                                                                       \r"
     ]
    },
    {
     "name": "stdout",
     "output_type": "stream",
     "text": [
      "Moviepy - Done !\n",
      "Moviepy - video ready HighJumpDataset/women's\\193_high_jump_tokyo_olympics_women.mp4\n",
      "Moviepy - Building video HighJumpDataset/women's\\194_high_jump_tokyo_olympics_women.mp4.\n",
      "Moviepy - Writing video HighJumpDataset/women's\\194_high_jump_tokyo_olympics_women.mp4\n",
      "\n"
     ]
    },
    {
     "name": "stderr",
     "output_type": "stream",
     "text": [
      "                                                                                                                       \r"
     ]
    },
    {
     "name": "stdout",
     "output_type": "stream",
     "text": [
      "Moviepy - Done !\n",
      "Moviepy - video ready HighJumpDataset/women's\\194_high_jump_tokyo_olympics_women.mp4\n",
      "Moviepy - Building video HighJumpDataset/women's\\195_high_jump_tokyo_olympics_women.mp4.\n",
      "Moviepy - Writing video HighJumpDataset/women's\\195_high_jump_tokyo_olympics_women.mp4\n",
      "\n"
     ]
    },
    {
     "name": "stderr",
     "output_type": "stream",
     "text": [
      "                                                                                                                       \r"
     ]
    },
    {
     "name": "stdout",
     "output_type": "stream",
     "text": [
      "Moviepy - Done !\n",
      "Moviepy - video ready HighJumpDataset/women's\\195_high_jump_tokyo_olympics_women.mp4\n",
      "Moviepy - Building video HighJumpDataset/women's\\196_high_jump_tokyo_olympics_women.mp4.\n",
      "Moviepy - Writing video HighJumpDataset/women's\\196_high_jump_tokyo_olympics_women.mp4\n",
      "\n"
     ]
    },
    {
     "name": "stderr",
     "output_type": "stream",
     "text": [
      "                                                                                                                       \r"
     ]
    },
    {
     "name": "stdout",
     "output_type": "stream",
     "text": [
      "Moviepy - Done !\n",
      "Moviepy - video ready HighJumpDataset/women's\\196_high_jump_tokyo_olympics_women.mp4\n",
      "Moviepy - Building video HighJumpDataset/women's\\197_high_jump_tokyo_olympics_women.mp4.\n",
      "Moviepy - Writing video HighJumpDataset/women's\\197_high_jump_tokyo_olympics_women.mp4\n",
      "\n"
     ]
    },
    {
     "name": "stderr",
     "output_type": "stream",
     "text": [
      "                                                                                                                       \r"
     ]
    },
    {
     "name": "stdout",
     "output_type": "stream",
     "text": [
      "Moviepy - Done !\n",
      "Moviepy - video ready HighJumpDataset/women's\\197_high_jump_tokyo_olympics_women.mp4\n",
      "Moviepy - Building video HighJumpDataset/women's\\198_high_jump_tokyo_olympics_women.mp4.\n",
      "Moviepy - Writing video HighJumpDataset/women's\\198_high_jump_tokyo_olympics_women.mp4\n",
      "\n"
     ]
    },
    {
     "name": "stderr",
     "output_type": "stream",
     "text": [
      "                                                                                                                       \r"
     ]
    },
    {
     "name": "stdout",
     "output_type": "stream",
     "text": [
      "Moviepy - Done !\n",
      "Moviepy - video ready HighJumpDataset/women's\\198_high_jump_tokyo_olympics_women.mp4\n",
      "Moviepy - Building video HighJumpDataset/women's\\199_high_jump_tokyo_olympics_women.mp4.\n",
      "Moviepy - Writing video HighJumpDataset/women's\\199_high_jump_tokyo_olympics_women.mp4\n",
      "\n"
     ]
    },
    {
     "name": "stderr",
     "output_type": "stream",
     "text": [
      "                                                                                                                       \r"
     ]
    },
    {
     "name": "stdout",
     "output_type": "stream",
     "text": [
      "Moviepy - Done !\n",
      "Moviepy - video ready HighJumpDataset/women's\\199_high_jump_tokyo_olympics_women.mp4\n",
      "Moviepy - Building video HighJumpDataset/women's\\200_high_jump_tokyo_olympics_women.mp4.\n",
      "Moviepy - Writing video HighJumpDataset/women's\\200_high_jump_tokyo_olympics_women.mp4\n",
      "\n"
     ]
    },
    {
     "name": "stderr",
     "output_type": "stream",
     "text": [
      "                                                                                                                       \r"
     ]
    },
    {
     "name": "stdout",
     "output_type": "stream",
     "text": [
      "Moviepy - Done !\n",
      "Moviepy - video ready HighJumpDataset/women's\\200_high_jump_tokyo_olympics_women.mp4\n",
      "Moviepy - Building video HighJumpDataset/women's\\201_high_jump_tokyo_olympics_women.mp4.\n",
      "Moviepy - Writing video HighJumpDataset/women's\\201_high_jump_tokyo_olympics_women.mp4\n",
      "\n"
     ]
    },
    {
     "name": "stderr",
     "output_type": "stream",
     "text": [
      "                                                                                                                       \r"
     ]
    },
    {
     "name": "stdout",
     "output_type": "stream",
     "text": [
      "Moviepy - Done !\n",
      "Moviepy - video ready HighJumpDataset/women's\\201_high_jump_tokyo_olympics_women.mp4\n",
      "Moviepy - Building video HighJumpDataset/women's\\202_high_jump_tokyo_olympics_women.mp4.\n",
      "Moviepy - Writing video HighJumpDataset/women's\\202_high_jump_tokyo_olympics_women.mp4\n",
      "\n"
     ]
    },
    {
     "name": "stderr",
     "output_type": "stream",
     "text": [
      "                                                                                                                       \r"
     ]
    },
    {
     "name": "stdout",
     "output_type": "stream",
     "text": [
      "Moviepy - Done !\n",
      "Moviepy - video ready HighJumpDataset/women's\\202_high_jump_tokyo_olympics_women.mp4\n",
      "Moviepy - Building video HighJumpDataset/women's\\203_high_jump_tokyo_olympics_women.mp4.\n",
      "Moviepy - Writing video HighJumpDataset/women's\\203_high_jump_tokyo_olympics_women.mp4\n",
      "\n"
     ]
    },
    {
     "name": "stderr",
     "output_type": "stream",
     "text": [
      "                                                                                                                       \r"
     ]
    },
    {
     "name": "stdout",
     "output_type": "stream",
     "text": [
      "Moviepy - Done !\n",
      "Moviepy - video ready HighJumpDataset/women's\\203_high_jump_tokyo_olympics_women.mp4\n",
      "Moviepy - Building video HighJumpDataset/women's\\204_high_jump_tokyo_olympics_women.mp4.\n",
      "Moviepy - Writing video HighJumpDataset/women's\\204_high_jump_tokyo_olympics_women.mp4\n",
      "\n"
     ]
    },
    {
     "name": "stderr",
     "output_type": "stream",
     "text": [
      "                                                                                                                       \r"
     ]
    },
    {
     "name": "stdout",
     "output_type": "stream",
     "text": [
      "Moviepy - Done !\n",
      "Moviepy - video ready HighJumpDataset/women's\\204_high_jump_tokyo_olympics_women.mp4\n",
      "Moviepy - Building video HighJumpDataset/women's\\205_high_jump_tokyo_olympics_women.mp4.\n",
      "Moviepy - Writing video HighJumpDataset/women's\\205_high_jump_tokyo_olympics_women.mp4\n",
      "\n"
     ]
    },
    {
     "name": "stderr",
     "output_type": "stream",
     "text": [
      "                                                                                                                       \r"
     ]
    },
    {
     "name": "stdout",
     "output_type": "stream",
     "text": [
      "Moviepy - Done !\n",
      "Moviepy - video ready HighJumpDataset/women's\\205_high_jump_tokyo_olympics_women.mp4\n",
      "Moviepy - Building video HighJumpDataset/women's\\206_high_jump_tokyo_olympics_women.mp4.\n",
      "Moviepy - Writing video HighJumpDataset/women's\\206_high_jump_tokyo_olympics_women.mp4\n",
      "\n"
     ]
    },
    {
     "name": "stderr",
     "output_type": "stream",
     "text": [
      "                                                                                                                       \r"
     ]
    },
    {
     "name": "stdout",
     "output_type": "stream",
     "text": [
      "Moviepy - Done !\n",
      "Moviepy - video ready HighJumpDataset/women's\\206_high_jump_tokyo_olympics_women.mp4\n",
      "Moviepy - Building video HighJumpDataset/women's\\207_high_jump_tokyo_olympics_women.mp4.\n",
      "Moviepy - Writing video HighJumpDataset/women's\\207_high_jump_tokyo_olympics_women.mp4\n",
      "\n"
     ]
    },
    {
     "name": "stderr",
     "output_type": "stream",
     "text": [
      "                                                                                                                       \r"
     ]
    },
    {
     "name": "stdout",
     "output_type": "stream",
     "text": [
      "Moviepy - Done !\n",
      "Moviepy - video ready HighJumpDataset/women's\\207_high_jump_tokyo_olympics_women.mp4\n",
      "Moviepy - Building video HighJumpDataset/women's\\208_high_jump_tokyo_olympics_women.mp4.\n",
      "Moviepy - Writing video HighJumpDataset/women's\\208_high_jump_tokyo_olympics_women.mp4\n",
      "\n"
     ]
    },
    {
     "name": "stderr",
     "output_type": "stream",
     "text": [
      "                                                                                                                       \r"
     ]
    },
    {
     "name": "stdout",
     "output_type": "stream",
     "text": [
      "Moviepy - Done !\n",
      "Moviepy - video ready HighJumpDataset/women's\\208_high_jump_tokyo_olympics_women.mp4\n",
      "Moviepy - Building video HighJumpDataset/women's\\209_high_jump_tokyo_olympics_women.mp4.\n",
      "Moviepy - Writing video HighJumpDataset/women's\\209_high_jump_tokyo_olympics_women.mp4\n",
      "\n"
     ]
    },
    {
     "name": "stderr",
     "output_type": "stream",
     "text": [
      "                                                                                                                       \r"
     ]
    },
    {
     "name": "stdout",
     "output_type": "stream",
     "text": [
      "Moviepy - Done !\n",
      "Moviepy - video ready HighJumpDataset/women's\\209_high_jump_tokyo_olympics_women.mp4\n",
      "Moviepy - Building video HighJumpDataset/women's\\210_high_jump_tokyo_olympics_women.mp4.\n",
      "Moviepy - Writing video HighJumpDataset/women's\\210_high_jump_tokyo_olympics_women.mp4\n",
      "\n"
     ]
    },
    {
     "name": "stderr",
     "output_type": "stream",
     "text": [
      "                                                                                                                       \r"
     ]
    },
    {
     "name": "stdout",
     "output_type": "stream",
     "text": [
      "Moviepy - Done !\n",
      "Moviepy - video ready HighJumpDataset/women's\\210_high_jump_tokyo_olympics_women.mp4\n",
      "Moviepy - Building video HighJumpDataset/women's\\211_high_jump_tokyo_olympics_women.mp4.\n",
      "Moviepy - Writing video HighJumpDataset/women's\\211_high_jump_tokyo_olympics_women.mp4\n",
      "\n"
     ]
    },
    {
     "name": "stderr",
     "output_type": "stream",
     "text": [
      "                                                                                                                       \r"
     ]
    },
    {
     "name": "stdout",
     "output_type": "stream",
     "text": [
      "Moviepy - Done !\n",
      "Moviepy - video ready HighJumpDataset/women's\\211_high_jump_tokyo_olympics_women.mp4\n",
      "Moviepy - Building video HighJumpDataset/women's\\212_high_jump_tokyo_olympics_women.mp4.\n",
      "Moviepy - Writing video HighJumpDataset/women's\\212_high_jump_tokyo_olympics_women.mp4\n",
      "\n"
     ]
    },
    {
     "name": "stderr",
     "output_type": "stream",
     "text": [
      "                                                                                                                       \r"
     ]
    },
    {
     "name": "stdout",
     "output_type": "stream",
     "text": [
      "Moviepy - Done !\n",
      "Moviepy - video ready HighJumpDataset/women's\\212_high_jump_tokyo_olympics_women.mp4\n",
      "Moviepy - Building video HighJumpDataset/women's\\213_high_jump_tokyo_olympics_women.mp4.\n",
      "Moviepy - Writing video HighJumpDataset/women's\\213_high_jump_tokyo_olympics_women.mp4\n",
      "\n"
     ]
    },
    {
     "name": "stderr",
     "output_type": "stream",
     "text": [
      "                                                                                                                       \r"
     ]
    },
    {
     "name": "stdout",
     "output_type": "stream",
     "text": [
      "Moviepy - Done !\n",
      "Moviepy - video ready HighJumpDataset/women's\\213_high_jump_tokyo_olympics_women.mp4\n",
      "Moviepy - Building video HighJumpDataset/women's\\214_high_jump_tokyo_olympics_women.mp4.\n",
      "Moviepy - Writing video HighJumpDataset/women's\\214_high_jump_tokyo_olympics_women.mp4\n",
      "\n"
     ]
    },
    {
     "name": "stderr",
     "output_type": "stream",
     "text": [
      "                                                                                                                       \r"
     ]
    },
    {
     "name": "stdout",
     "output_type": "stream",
     "text": [
      "Moviepy - Done !\n",
      "Moviepy - video ready HighJumpDataset/women's\\214_high_jump_tokyo_olympics_women.mp4\n",
      "Moviepy - Building video HighJumpDataset/women's\\215_high_jump_tokyo_olympics_women.mp4.\n",
      "Moviepy - Writing video HighJumpDataset/women's\\215_high_jump_tokyo_olympics_women.mp4\n",
      "\n"
     ]
    },
    {
     "name": "stderr",
     "output_type": "stream",
     "text": [
      "                                                                                                                       \r"
     ]
    },
    {
     "name": "stdout",
     "output_type": "stream",
     "text": [
      "Moviepy - Done !\n",
      "Moviepy - video ready HighJumpDataset/women's\\215_high_jump_tokyo_olympics_women.mp4\n",
      "Moviepy - Building video HighJumpDataset/women's\\216_high_jump_tokyo_olympics_women.mp4.\n",
      "Moviepy - Writing video HighJumpDataset/women's\\216_high_jump_tokyo_olympics_women.mp4\n",
      "\n"
     ]
    },
    {
     "name": "stderr",
     "output_type": "stream",
     "text": [
      "                                                                                                                       \r"
     ]
    },
    {
     "name": "stdout",
     "output_type": "stream",
     "text": [
      "Moviepy - Done !\n",
      "Moviepy - video ready HighJumpDataset/women's\\216_high_jump_tokyo_olympics_women.mp4\n",
      "Moviepy - Building video HighJumpDataset/women's\\217_high_jump_tokyo_olympics_women.mp4.\n",
      "Moviepy - Writing video HighJumpDataset/women's\\217_high_jump_tokyo_olympics_women.mp4\n",
      "\n"
     ]
    },
    {
     "name": "stderr",
     "output_type": "stream",
     "text": [
      "                                                                                                                       \r"
     ]
    },
    {
     "name": "stdout",
     "output_type": "stream",
     "text": [
      "Moviepy - Done !\n",
      "Moviepy - video ready HighJumpDataset/women's\\217_high_jump_tokyo_olympics_women.mp4\n",
      "Moviepy - Building video HighJumpDataset/women's\\218_high_jump_tokyo_olympics_women.mp4.\n",
      "Moviepy - Writing video HighJumpDataset/women's\\218_high_jump_tokyo_olympics_women.mp4\n",
      "\n"
     ]
    },
    {
     "name": "stderr",
     "output_type": "stream",
     "text": [
      "                                                                                                                       \r"
     ]
    },
    {
     "name": "stdout",
     "output_type": "stream",
     "text": [
      "Moviepy - Done !\n",
      "Moviepy - video ready HighJumpDataset/women's\\218_high_jump_tokyo_olympics_women.mp4\n",
      "Moviepy - Building video HighJumpDataset/women's\\219_high_jump_tokyo_olympics_women.mp4.\n",
      "Moviepy - Writing video HighJumpDataset/women's\\219_high_jump_tokyo_olympics_women.mp4\n",
      "\n"
     ]
    },
    {
     "name": "stderr",
     "output_type": "stream",
     "text": [
      "                                                                                                                       \r"
     ]
    },
    {
     "name": "stdout",
     "output_type": "stream",
     "text": [
      "Moviepy - Done !\n",
      "Moviepy - video ready HighJumpDataset/women's\\219_high_jump_tokyo_olympics_women.mp4\n",
      "Moviepy - Building video HighJumpDataset/women's\\220_high_jump_tokyo_olympics_women.mp4.\n",
      "Moviepy - Writing video HighJumpDataset/women's\\220_high_jump_tokyo_olympics_women.mp4\n",
      "\n"
     ]
    },
    {
     "name": "stderr",
     "output_type": "stream",
     "text": [
      "                                                                                                                       \r"
     ]
    },
    {
     "name": "stdout",
     "output_type": "stream",
     "text": [
      "Moviepy - Done !\n",
      "Moviepy - video ready HighJumpDataset/women's\\220_high_jump_tokyo_olympics_women.mp4\n",
      "Moviepy - Building video HighJumpDataset/women's\\221_high_jump_tokyo_olympics_women.mp4.\n",
      "Moviepy - Writing video HighJumpDataset/women's\\221_high_jump_tokyo_olympics_women.mp4\n",
      "\n"
     ]
    },
    {
     "name": "stderr",
     "output_type": "stream",
     "text": [
      "                                                                                                                       \r"
     ]
    },
    {
     "name": "stdout",
     "output_type": "stream",
     "text": [
      "Moviepy - Done !\n",
      "Moviepy - video ready HighJumpDataset/women's\\221_high_jump_tokyo_olympics_women.mp4\n",
      "Moviepy - Building video HighJumpDataset/women's\\222_high_jump_tokyo_olympics_women.mp4.\n",
      "Moviepy - Writing video HighJumpDataset/women's\\222_high_jump_tokyo_olympics_women.mp4\n",
      "\n"
     ]
    },
    {
     "name": "stderr",
     "output_type": "stream",
     "text": [
      "                                                                                                                       \r"
     ]
    },
    {
     "name": "stdout",
     "output_type": "stream",
     "text": [
      "Moviepy - Done !\n",
      "Moviepy - video ready HighJumpDataset/women's\\222_high_jump_tokyo_olympics_women.mp4\n",
      "Moviepy - Building video HighJumpDataset/women's\\223_high_jump_tokyo_olympics_women.mp4.\n",
      "Moviepy - Writing video HighJumpDataset/women's\\223_high_jump_tokyo_olympics_women.mp4\n",
      "\n"
     ]
    },
    {
     "name": "stderr",
     "output_type": "stream",
     "text": [
      "                                                                                                                       \r"
     ]
    },
    {
     "name": "stdout",
     "output_type": "stream",
     "text": [
      "Moviepy - Done !\n",
      "Moviepy - video ready HighJumpDataset/women's\\223_high_jump_tokyo_olympics_women.mp4\n"
     ]
    }
   ],
   "source": [
    "import os\n",
    "from moviepy.video.io.VideoFileClip import VideoFileClip\n",
    "\n",
    "def extract_video_segments(video_path, segments):\n",
    "    # Create output directory if not exists\n",
    "    output_dir = \"HighJumpDataset/women's\"\n",
    "    os.makedirs(output_dir, exist_ok=True)\n",
    "\n",
    "    # Load the original video\n",
    "    video_clip = VideoFileClip(video_path)\n",
    "\n",
    "    # Iterate over each segment and extract the video\n",
    "    for i, (start, end) in enumerate(segments, start=1):\n",
    "        # Ensure start and end timestamps are within video duration\n",
    "        start = max(0, start)\n",
    "        end = min(video_clip.duration, end)\n",
    "\n",
    "        # Extract the segment\n",
    "        segment_clip = video_clip.subclip(start, end)\n",
    "\n",
    "        # Save the extracted segment\n",
    "        output_file = os.path.join(output_dir, f\"{i}_high_jump_tokyo_olympics_women.mp4\")\n",
    "        segment_clip.write_videofile(output_file, codec='libx264', fps=video_clip.fps)\n",
    "\n",
    "    # Close the video clip\n",
    "    video_clip.close()\n",
    "\n",
    "# Example usage\n",
    "video_path = \"video/Women's_High_Jump_Qualifying-A-Athletics_Tokyo_2020_Replays.mp4\"\n",
    "#segments = [(714, 740), (753, 783), (837, 885), (900, 923), (965, 996), (1005, 1026), (1041, 1067), (1077, 1103), (1152, 1186), (1201, 1224), (1235, 1262), (1293, 1324), (1338, 1368), (1405, 1425), (1432, 1450), (1541, 1573), (1580, 1613), (1623, 1642), (1655, 1680), (1692, 1713), (1724, 1758), (1765, 1786), (1798, 1822), (1833, 1859), (1927, 1966), (1980, 2005), (2016, 2041), (2055, 2084), (2094, 2124), (2142, 2166), (2179, 2218), (2233, 2260), (2275, 2303), (2319, 2353), (2363, 2387), (2448, 2486), (2494, 2537), (2551, 2585), (2606, 2632), (2642, 2672), (2690, 2751), (2820, 2850), (2864, 2895), (2912, 2935), (2953, 2996), (3012, 3046), (3057, 3102), (3124, 3155), (3197, 3230), (3244, 3275), (3289, 3316), (3337, 3379), (3392, 3425), (3439, 3481), (3518, 3551), (3580, 3614), (3629, 3658), (3673, 3708), (3791, 3822), (3838, 3867), (3900, 3959), (3978, 4033), (4050, 4075), (4109, 4148), (4250, 4294), (4307, 4329), (4345, 4390), (4403, 4440), (4454, 4496), (4517, 4568), (4580, 4612), (4622, 4659), (4751, 4780), (4813, 4858), (4871, 4912), (4935, 4976), (5008, 5045), (5220, 5269)]\n",
    "  # Example: Extract segments from 78 to 97 seconds and 120 to 150 seconds\n",
    "segments = [(623, 661), (674, 699), (709, 743), (766, 795), (808, 854), (921, 954), (994, 1022), (1030, 1064), (1074, 1111), (1147, 1173), (1189, 1213), (1223, 1257), (1271, 1311), (1375, 1397), (1466, 1497), (1645, 1688), (1701, 1731), (1755, 1797), (1838, 1872), (1892, 1938), (2120, 2147), (2156, 2185), (2265, 2301), (2314, 2363), (2376, 2402), (2425, 2451), (2488, 2524), (2551, 2587), (2601, 2649), (2660, 2700), (2714, 2740), (2758, 2800), (2810, 2851), (2892, 2938), (2997, 3043), (3064, 3103), (3120, 3163), (3180, 3226), (3243, 3276), (3298, 3332), (3349, 3398), (3425, 3464), (3479, 3508), (3523, 3569), (3690, 3737), (3755, 3807), (3823, 3857), (3868, 3904), (3945, 3979), (4042, 4081), (4180, 4214), (4233, 4266), (4289, 4333), (4375, 4428), (4470, 4515), (4537, 4570), (4587, 4629), (4646, 4682), (4707, 4749), (4774, 4827), (4856, 4894), (4923, 4960), (4969, 5020), (5035, 5078), (5090, 5130), (5150, 5206), (5340, 5378), (5409, 5446), (5457, 5492), (5513, 5554), (5681, 5703), (5728, 5765), (5776, 5832), (5847, 5897), (5905, 5948), (5963, 5993), (6011, 6043), (6065, 6111), (6121, 6159), (6182, 6219), (6230, 6285), (6298, 6364), (6372, 6407), (6429, 6454), (6497, 6535), (6546, 6574), (6584, 6642), (6654, 6694), (6810, 6838), (6866, 6901), (6916, 6961), (6984, 7019), (7032, 7083), (7097, 7130), (7143, 7181), (7195, 7232), (7258, 7301), (7311, 7343), (7359, 7422), (7430, 7475), (7488, 7534), (7545, 7569), (7623, 7655), (7664, 7703), (7715, 7755), (7769, 7816), (7827, 7875), (7883, 7914), (7946, 7985)]\n",
    "extract_video_segments(video_path, segments)\n"
   ]
  },
  {
   "cell_type": "code",
   "execution_count": 7,
   "id": "4d2f3ae1-4eb6-4ed1-8318-662f9545e28c",
   "metadata": {},
   "outputs": [],
   "source": [
    "def club_elements(input_list):\n",
    "    # Ensure the size of the input list is a multiple of two\n",
    "    assert len(input_list) % 2 == 0, \"Input list size must be a multiple of two\"\n",
    "    \n",
    "    # Create a list to hold the resulting tuples\n",
    "    result = []\n",
    "    \n",
    "    # Iterate over the input list with a step size of 2\n",
    "    for i in range(0, len(input_list), 2):\n",
    "        # Create a tuple of two elements and append it to the result list\n",
    "        result.append((input_list[i], input_list[i + 1]))\n",
    "    \n",
    "    return result"
   ]
  },
  {
   "cell_type": "code",
   "execution_count": 9,
   "id": "0090adbc-bfc2-4ab4-a8d5-88405423ab47",
   "metadata": {},
   "outputs": [
    {
     "name": "stdout",
     "output_type": "stream",
     "text": [
      "[(623, 661), (674, 699), (709, 743), (766, 795), (808, 854), (921, 954), (994, 1022), (1030, 1064), (1074, 1111), (1147, 1173), (1189, 1213), (1223, 1257), (1271, 1311), (1375, 1397), (1466, 1497), (1645, 1688), (1701, 1731), (1755, 1797), (1838, 1872), (1892, 1938), (2120, 2147), (2156, 2185), (2265, 2301), (2314, 2363), (2376, 2402), (2425, 2451), (2488, 2524), (2551, 2587), (2601, 2649), (2660, 2700), (2714, 2740), (2758, 2800), (2810, 2851), (2892, 2938), (2997, 3043), (3064, 3103), (3120, 3163), (3180, 3226), (3243, 3276), (3298, 3332), (3349, 3398), (3425, 3464), (3479, 3508), (3523, 3569), (3690, 3737), (3755, 3807), (3823, 3857), (3868, 3904), (3945, 3979), (4042, 4081), (4180, 4214), (4233, 4266), (4289, 4333), (4375, 4428), (4470, 4515), (4537, 4570), (4587, 4629), (4646, 4682), (4707, 4749), (4774, 4827), (4856, 4894), (4923, 4960), (4969, 5020), (5035, 5078), (5090, 5130), (5150, 5206), (5340, 5378), (5409, 5446), (5457, 5492), (5513, 5554), (5681, 5703), (5728, 5765), (5776, 5832), (5847, 5897), (5905, 5948), (5963, 5993), (6011, 6043), (6065, 6111), (6121, 6159), (6182, 6219), (6230, 6285), (6298, 6364), (6372, 6407), (6429, 6454), (6497, 6535), (6546, 6574), (6584, 6642), (6654, 6694), (6810, 6838), (6866, 6901), (6916, 6961), (6984, 7019), (7032, 7083), (7097, 7130), (7143, 7181), (7195, 7232), (7258, 7301), (7311, 7343), (7359, 7422), (7430, 7475), (7488, 7534), (7545, 7569), (7623, 7655), (7664, 7703), (7715, 7755), (7769, 7816), (7827, 7875), (7883, 7914), (7946, 7985)]\n"
     ]
    }
   ],
   "source": [
    "def time_to_seconds(time_str):\n",
    "    hours, minutes, seconds = map(int, time_str.split(':'))\n",
    "    total_seconds = hours * 3600 + minutes * 60 + seconds\n",
    "    return total_seconds\n",
    "\n",
    "# Example time stamps\n",
    "time_stamps = [\n",
    "    \"00:10:23\",\n",
    "    \"00:11:01\",\n",
    "    \"00:11:14\",\n",
    "    \"00:11:39\",\n",
    "    \"00:11:49\",\n",
    "    \"00:12:23\",\n",
    "    \"00:12:46\",\n",
    "    \"00:13:15\",\n",
    "    \"00:13:28\",\n",
    "    \"00:14:14\",\n",
    "    \"00:15:21\",\n",
    "    \"00:15:54\",\n",
    "    \"00:16:34\",\n",
    "    \"00:17:02\",\n",
    "    \"00:17:10\",\n",
    "    \"00:17:44\",\n",
    "    \"00:17:54\",\n",
    "    \"00:18:31\",\n",
    "    \"00:19:07\",\n",
    "    \"00:19:33\",\n",
    "    \"00:19:49\",\n",
    "    \"00:20:13\",\n",
    "    \"00:20:23\",\n",
    "    \"00:20:57\",\n",
    "    \"00:21:11\",\n",
    "    \"00:21:51\",\n",
    "    \"00:22:55\",\n",
    "    \"00:23:17\",\n",
    "    \"00:24:26\",\n",
    "    \"00:24:57\",\n",
    "    \"00:27:25\",\n",
    "    \"00:28:08\",\n",
    "    \"00:28:21\",\n",
    "    \"00:28:51\",\n",
    "    \"00:29:15\",\n",
    "    \"00:29:57\",\n",
    "    \"00:30:38\",\n",
    "    \"00:31:12\",\n",
    "    \"00:31:32\",\n",
    "    \"00:32:18\",\n",
    "    \"00:35:20\",\n",
    "    \"00:35:47\",\n",
    "    \"00:35:56\",\n",
    "    \"00:36:25\",\n",
    "    \"00:37:45\",\n",
    "    \"00:38:21\",\n",
    "    \"00:38:34\",\n",
    "    \"00:39:23\",\n",
    "    \"00:39:36\",\n",
    "    \"00:40:02\",\n",
    "    \"00:40:25\",\n",
    "    \"00:40:51\",\n",
    "    \"00:41:28\",\n",
    "    \"00:42:04\",\n",
    "    \"00:42:31\",\n",
    "    \"00:43:07\",\n",
    "    \"00:43:21\",\n",
    "    \"00:44:09\",\n",
    "    \"00:44:20\",\n",
    "    \"00:45:00\",\n",
    "    \"00:45:14\",\n",
    "    \"00:45:40\",\n",
    "    \"00:45:58\",\n",
    "    \"00:46:40\",\n",
    "    \"00:46:50\",\n",
    "    \"00:47:31\",\n",
    "    \"00:48:12\",\n",
    "    \"00:48:58\",\n",
    "    \"00:49:57\",\n",
    "    \"00:50:43\",\n",
    "    \"00:51:04\",\n",
    "    \"00:51:43\",\n",
    "    \"00:52:00\",\n",
    "    \"00:52:43\",\n",
    "    \"00:53:00\",\n",
    "    \"00:53:46\",\n",
    "    \"00:54:03\",\n",
    "    \"00:54:36\",\n",
    "    \"00:54:58\",\n",
    "    \"00:55:32\",\n",
    "    \"00:55:49\",\n",
    "    \"00:56:38\",\n",
    "    \"00:57:05\",\n",
    "    \"00:57:44\",\n",
    "    \"00:57:59\",\n",
    "    \"00:58:28\",\n",
    "    \"00:58:43\",\n",
    "    \"00:59:29\",\n",
    "    \"01:01:30\",\n",
    "    \"01:02:17\",\n",
    "    \"01:02:35\",\n",
    "    \"01:03:27\",\n",
    "    \"01:03:43\",\n",
    "    \"01:04:17\",\n",
    "    \"01:04:28\",\n",
    "    \"01:05:04\",\n",
    "    \"01:05:45\",\n",
    "    \"01:06:19\",\n",
    "    \"01:07:22\",\n",
    "    \"01:08:01\",\n",
    "    \"01:09:40\",\n",
    "    \"01:10:14\",\n",
    "    \"01:10:33\",\n",
    "    \"01:11:06\",\n",
    "    \"01:11:29\",\n",
    "    \"01:12:13\",\n",
    "    \"01:12:55\",\n",
    "    \"01:13:48\",\n",
    "    \"01:14:30\",\n",
    "    \"01:15:15\",\n",
    "    \"01:15:37\",\n",
    "    \"01:16:10\",\n",
    "    \"01:16:27\",\n",
    "    \"01:17:09\",\n",
    "    \"01:17:26\",\n",
    "    \"01:18:02\",\n",
    "    \"01:18:27\",\n",
    "    \"01:19:09\",###\n",
    "    \"01:19:34\",\n",
    "    \"01:20:27\",\n",
    "    \"01:20:56\",\n",
    "    \"01:21:34\",\n",
    "    \"01:22:03\",\n",
    "    \"01:22:40\",\n",
    "    \"01:22:49\",\n",
    "    \"01:23:40\",\n",
    "    \"01:23:55\",\n",
    "    \"01:24:38\",\n",
    "    \"01:24:50\",\n",
    "    \"01:25:30\",\n",
    "    \"01:25:50\",\n",
    "    \"01:26:46\",\n",
    "    \"01:29:00\",\n",
    "    \"01:29:38\",\n",
    "    \"01:30:09\",\n",
    "    \"01:30:46\",\n",
    "    \"01:30:57\",\n",
    "    \"01:31:32\",\n",
    "    \"01:31:53\",\n",
    "    \"01:32:34\",\n",
    "    \"01:34:41\",\n",
    "    \"01:35:03\",\n",
    "    \"01:35:28\",\n",
    "    \"01:36:05\",\n",
    "    \"01:36:16\",\n",
    "    \"01:37:12\",\n",
    "   \"01:37:27\",\n",
    "    \"01:38:17\",\n",
    "    \"01:38:25\",\n",
    "    \"01:39:08\",\n",
    "    \"01:39:23\",\n",
    "    \"01:39:53\",\n",
    "    \"01:40:11\",\n",
    "    \"01:40:43\",\n",
    "    \"01:41:05\",\n",
    "    \"01:41:51\",\n",
    "    \"01:42:01\",\n",
    "    \"01:42:39\",\n",
    "    \"01:43:02\",\n",
    "    \"01:43:39\",\n",
    "    \"01:43:50\",\n",
    "    \"01:44:45\",\n",
    "    \"01:44:58\",\n",
    "    \"01:46:04\",\n",
    "    \"01:46:12\",\n",
    "    \"01:46:47\",\n",
    "    \"01:47:09\",\n",
    "    \"01:47:34\" ,\n",
    "    \"01:48:17\",\n",
    "    \"01:48:55\",\n",
    "    \"01:49:06\",\n",
    "    \"01:49:34\" ,\n",
    "    \"01:49:44\",\n",
    "    \"01:50:42\",\n",
    "    \"01:50:54\",\n",
    "    \"01:51:34\",\n",
    "    \"01:53:30\",\n",
    "    \"01:53:58\",###\n",
    "     \"01:54:26\",\n",
    "    \"01:55:01\" ,\n",
    "    \"01:55:16\",\n",
    "    \"01:56:01\",\n",
    "    \"01:56:24\",\n",
    "    \"01:56:59\",\n",
    "    \"01:57:12\",\n",
    "    \"01:58:03\",\n",
    "    \"01:58:17\",\n",
    "    \"01:58:50\" ,\n",
    "    \"01:59:03\",\n",
    "    \"01:59:41\",\n",
    "    \"01:59:55\",\n",
    "    \"02:00:32\",\n",
    "    \"02:00:58\",\n",
    "    \"02:01:41\",\n",
    "    \"02:01:51\",\n",
    "    \"02:02:23\",\n",
    "    \"02:02:39\",\n",
    "    \"02:03:42\",\n",
    "    \"02:03:50\",\n",
    "    \"02:04:35\",\n",
    "    \"02:04:48\",\n",
    "    \"02:05:34\",\n",
    "    \"02:05:45\",\n",
    "    \"02:06:09\",\n",
    "    \"02:07:03\",\n",
    "    \"02:07:35\",\n",
    "    \"02:07:44\",\n",
    "    \"02:08:23\",\n",
    "    \"02:08:35\",\n",
    "    \"02:09:15\",\n",
    "    \"02:09:29\",\n",
    "    \"02:10:16\",\n",
    "    \"02:10:27\",\n",
    "    \"02:11:15\",\n",
    "    \"02:11:23\",\n",
    "    \"02:11:54\",\n",
    "    \"02:12:26\",\n",
    "    \"02:13:05\"\n",
    "    \n",
    "    \n",
    "\n",
    "]\n",
    "\n",
    "# Convert time stamps to seconds\n",
    "time_in_seconds = [time_to_seconds(time_stamp) for time_stamp in time_stamps]\n",
    "\n",
    "segments = club_elements(time_in_seconds)\n",
    "print(segments)"
   ]
  },
  {
   "cell_type": "code",
   "execution_count": null,
   "id": "8e4e6580-b02d-454d-a94c-d0cf95de5237",
   "metadata": {},
   "outputs": [],
   "source": []
  }
 ],
 "metadata": {
  "kernelspec": {
   "display_name": "Python 3 (ipykernel)",
   "language": "python",
   "name": "python3"
  },
  "language_info": {
   "codemirror_mode": {
    "name": "ipython",
    "version": 3
   },
   "file_extension": ".py",
   "mimetype": "text/x-python",
   "name": "python",
   "nbconvert_exporter": "python",
   "pygments_lexer": "ipython3",
   "version": "3.12.2"
  }
 },
 "nbformat": 4,
 "nbformat_minor": 5
}
